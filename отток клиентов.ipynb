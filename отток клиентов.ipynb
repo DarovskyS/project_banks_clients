{
 "cells": [
  {
   "cell_type": "markdown",
   "metadata": {
    "toc": true
   },
   "source": [
    "<h1>Содержание<span class=\"tocSkip\"></span></h1>\n",
    "<div class=\"toc\"><ul class=\"toc-item\"><li><span><a href=\"#Подготовка-данных\" data-toc-modified-id=\"Подготовка-данных-1\"><span class=\"toc-item-num\">1&nbsp;&nbsp;</span>Подготовка данных</a></span></li><li><span><a href=\"#Исследование-задачи\" data-toc-modified-id=\"Исследование-задачи-2\"><span class=\"toc-item-num\">2&nbsp;&nbsp;</span>Исследование задачи</a></span></li><li><span><a href=\"#Борьба-с-дисбалансом\" data-toc-modified-id=\"Борьба-с-дисбалансом-3\"><span class=\"toc-item-num\">3&nbsp;&nbsp;</span>Борьба с дисбалансом</a></span></li><li><span><a href=\"#Тестирование-модели\" data-toc-modified-id=\"Тестирование-модели-4\"><span class=\"toc-item-num\">4&nbsp;&nbsp;</span>Тестирование модели</a></span></li><li><span><a href=\"#Чек-лист-готовности-проекта\" data-toc-modified-id=\"Чек-лист-готовности-проекта-5\"><span class=\"toc-item-num\">5&nbsp;&nbsp;</span>Чек-лист готовности проекта</a></span></li></ul></div>"
   ]
  },
  {
   "cell_type": "markdown",
   "metadata": {},
   "source": [
    "# Отток клиентов"
   ]
  },
  {
   "cell_type": "markdown",
   "metadata": {},
   "source": [
    "Из «Бета-Банка» стали уходить клиенты. Каждый месяц. Немного, но заметно. Банковские маркетологи посчитали: сохранять текущих клиентов дешевле, чем привлекать новых.\n",
    "\n",
    "Нужно спрогнозировать, уйдёт клиент из банка в ближайшее время или нет. Вам предоставлены исторические данные о поведении клиентов и расторжении договоров с банком. \n",
    "\n",
    "Постройте модель с предельно большим значением *F1*-меры. Чтобы сдать проект успешно, нужно довести метрику до 0.59. Проверьте *F1*-меру на тестовой выборке самостоятельно.\n",
    "\n",
    "Дополнительно измеряйте *AUC-ROC*, сравнивайте её значение с *F1*-мерой.\n",
    "\n",
    "Источник данных: [https://www.kaggle.com/barelydedicated/bank-customer-churn-modeling](https://www.kaggle.com/barelydedicated/bank-customer-churn-modeling)"
   ]
  },
  {
   "cell_type": "markdown",
   "metadata": {},
   "source": [
    "**Цель проекта** : Построить модель для задачи классификации, которая определит расторгнет клиент договор или нет. \n",
    "\n",
    "\n",
    "**Ход проекта**:\n",
    "    \n",
    " 1. Подготовка данных. \n",
    "   - Изучение информации.\n",
    "   - Нормализация данных.\n",
    " 2. Исследование задачи.\n",
    "   - Разделение данных на выборки.\n",
    "   - Кодирование данных.\n",
    "   - Масштабирование данных.\n",
    "   - Подбор подходящей модели.\n",
    "   - Исследование балансов классов.\n",
    " 3. Борьба с дисбалансом. \n",
    "   - Подбор оптимального метода.\n",
    "   - Вычисление f1-меры.\n",
    "   - Измерение AUC-ROC.\n",
    " 4. Тестирование модели. "
   ]
  },
  {
   "cell_type": "markdown",
   "metadata": {},
   "source": [
    "## Подготовка данных"
   ]
  },
  {
   "cell_type": "markdown",
   "metadata": {},
   "source": [
    "Загрузим необходимые инструменты."
   ]
  },
  {
   "cell_type": "code",
   "execution_count": 1,
   "metadata": {},
   "outputs": [],
   "source": [
    "import pandas as pd\n",
    "import numpy as np\n",
    "from sklearn.model_selection import train_test_split\n",
    "from sklearn.preprocessing import StandardScaler\n",
    "pd.options.mode.chained_assignment = None\n",
    "from sklearn.tree import DecisionTreeClassifier\n",
    "from sklearn.ensemble import RandomForestClassifier\n",
    "from sklearn.linear_model import LogisticRegression\n",
    "from sklearn.dummy import DummyClassifier\n",
    "from sklearn.metrics import accuracy_score\n",
    "from sklearn.metrics import confusion_matrix\n",
    "from sklearn.metrics import f1_score\n",
    "from sklearn.utils import shuffle\n",
    "from sklearn.metrics import precision_score, recall_score\n",
    "from sklearn.metrics import roc_auc_score\n",
    "import matplotlib.pyplot as plt\n",
    "from sklearn.metrics import roc_curve"
   ]
  },
  {
   "cell_type": "markdown",
   "metadata": {},
   "source": [
    "Откроем файл и изучим данные."
   ]
  },
  {
   "cell_type": "code",
   "execution_count": 2,
   "metadata": {},
   "outputs": [],
   "source": [
    "df = pd.read_csv('/datasets/Churn.csv')"
   ]
  },
  {
   "cell_type": "code",
   "execution_count": 3,
   "metadata": {},
   "outputs": [
    {
     "data": {
      "text/html": [
       "<div>\n",
       "<style scoped>\n",
       "    .dataframe tbody tr th:only-of-type {\n",
       "        vertical-align: middle;\n",
       "    }\n",
       "\n",
       "    .dataframe tbody tr th {\n",
       "        vertical-align: top;\n",
       "    }\n",
       "\n",
       "    .dataframe thead th {\n",
       "        text-align: right;\n",
       "    }\n",
       "</style>\n",
       "<table border=\"1\" class=\"dataframe\">\n",
       "  <thead>\n",
       "    <tr style=\"text-align: right;\">\n",
       "      <th></th>\n",
       "      <th>RowNumber</th>\n",
       "      <th>CustomerId</th>\n",
       "      <th>Surname</th>\n",
       "      <th>CreditScore</th>\n",
       "      <th>Geography</th>\n",
       "      <th>Gender</th>\n",
       "      <th>Age</th>\n",
       "      <th>Tenure</th>\n",
       "      <th>Balance</th>\n",
       "      <th>NumOfProducts</th>\n",
       "      <th>HasCrCard</th>\n",
       "      <th>IsActiveMember</th>\n",
       "      <th>EstimatedSalary</th>\n",
       "      <th>Exited</th>\n",
       "    </tr>\n",
       "  </thead>\n",
       "  <tbody>\n",
       "    <tr>\n",
       "      <th>0</th>\n",
       "      <td>1</td>\n",
       "      <td>15634602</td>\n",
       "      <td>Hargrave</td>\n",
       "      <td>619</td>\n",
       "      <td>France</td>\n",
       "      <td>Female</td>\n",
       "      <td>42</td>\n",
       "      <td>2.0</td>\n",
       "      <td>0.00</td>\n",
       "      <td>1</td>\n",
       "      <td>1</td>\n",
       "      <td>1</td>\n",
       "      <td>101348.88</td>\n",
       "      <td>1</td>\n",
       "    </tr>\n",
       "    <tr>\n",
       "      <th>1</th>\n",
       "      <td>2</td>\n",
       "      <td>15647311</td>\n",
       "      <td>Hill</td>\n",
       "      <td>608</td>\n",
       "      <td>Spain</td>\n",
       "      <td>Female</td>\n",
       "      <td>41</td>\n",
       "      <td>1.0</td>\n",
       "      <td>83807.86</td>\n",
       "      <td>1</td>\n",
       "      <td>0</td>\n",
       "      <td>1</td>\n",
       "      <td>112542.58</td>\n",
       "      <td>0</td>\n",
       "    </tr>\n",
       "    <tr>\n",
       "      <th>2</th>\n",
       "      <td>3</td>\n",
       "      <td>15619304</td>\n",
       "      <td>Onio</td>\n",
       "      <td>502</td>\n",
       "      <td>France</td>\n",
       "      <td>Female</td>\n",
       "      <td>42</td>\n",
       "      <td>8.0</td>\n",
       "      <td>159660.80</td>\n",
       "      <td>3</td>\n",
       "      <td>1</td>\n",
       "      <td>0</td>\n",
       "      <td>113931.57</td>\n",
       "      <td>1</td>\n",
       "    </tr>\n",
       "    <tr>\n",
       "      <th>3</th>\n",
       "      <td>4</td>\n",
       "      <td>15701354</td>\n",
       "      <td>Boni</td>\n",
       "      <td>699</td>\n",
       "      <td>France</td>\n",
       "      <td>Female</td>\n",
       "      <td>39</td>\n",
       "      <td>1.0</td>\n",
       "      <td>0.00</td>\n",
       "      <td>2</td>\n",
       "      <td>0</td>\n",
       "      <td>0</td>\n",
       "      <td>93826.63</td>\n",
       "      <td>0</td>\n",
       "    </tr>\n",
       "    <tr>\n",
       "      <th>4</th>\n",
       "      <td>5</td>\n",
       "      <td>15737888</td>\n",
       "      <td>Mitchell</td>\n",
       "      <td>850</td>\n",
       "      <td>Spain</td>\n",
       "      <td>Female</td>\n",
       "      <td>43</td>\n",
       "      <td>2.0</td>\n",
       "      <td>125510.82</td>\n",
       "      <td>1</td>\n",
       "      <td>1</td>\n",
       "      <td>1</td>\n",
       "      <td>79084.10</td>\n",
       "      <td>0</td>\n",
       "    </tr>\n",
       "  </tbody>\n",
       "</table>\n",
       "</div>"
      ],
      "text/plain": [
       "   RowNumber  CustomerId   Surname  CreditScore Geography  Gender  Age  \\\n",
       "0          1    15634602  Hargrave          619    France  Female   42   \n",
       "1          2    15647311      Hill          608     Spain  Female   41   \n",
       "2          3    15619304      Onio          502    France  Female   42   \n",
       "3          4    15701354      Boni          699    France  Female   39   \n",
       "4          5    15737888  Mitchell          850     Spain  Female   43   \n",
       "\n",
       "   Tenure    Balance  NumOfProducts  HasCrCard  IsActiveMember  \\\n",
       "0     2.0       0.00              1          1               1   \n",
       "1     1.0   83807.86              1          0               1   \n",
       "2     8.0  159660.80              3          1               0   \n",
       "3     1.0       0.00              2          0               0   \n",
       "4     2.0  125510.82              1          1               1   \n",
       "\n",
       "   EstimatedSalary  Exited  \n",
       "0        101348.88       1  \n",
       "1        112542.58       0  \n",
       "2        113931.57       1  \n",
       "3         93826.63       0  \n",
       "4         79084.10       0  "
      ]
     },
     "execution_count": 3,
     "metadata": {},
     "output_type": "execute_result"
    }
   ],
   "source": [
    "df.head()"
   ]
  },
  {
   "cell_type": "code",
   "execution_count": 4,
   "metadata": {},
   "outputs": [
    {
     "data": {
      "text/plain": [
       "RowNumber            int64\n",
       "CustomerId           int64\n",
       "Surname             object\n",
       "CreditScore          int64\n",
       "Geography           object\n",
       "Gender              object\n",
       "Age                  int64\n",
       "Tenure             float64\n",
       "Balance            float64\n",
       "NumOfProducts        int64\n",
       "HasCrCard            int64\n",
       "IsActiveMember       int64\n",
       "EstimatedSalary    float64\n",
       "Exited               int64\n",
       "dtype: object"
      ]
     },
     "execution_count": 4,
     "metadata": {},
     "output_type": "execute_result"
    }
   ],
   "source": [
    "df.dtypes"
   ]
  },
  {
   "cell_type": "markdown",
   "metadata": {},
   "source": [
    "В датафрейме есть столбцы, которые никак не влияют на обучение модели, это RowNumber, CustomerId и Surname. Их можно удалить. В столбце Tenure есть NaN значения, заменим их на 0."
   ]
  },
  {
   "cell_type": "code",
   "execution_count": 5,
   "metadata": {},
   "outputs": [],
   "source": [
    "data = df.drop(['RowNumber', 'Surname', 'CustomerId'], axis=1)"
   ]
  },
  {
   "cell_type": "code",
   "execution_count": 6,
   "metadata": {},
   "outputs": [],
   "source": [
    "data['Tenure'] = data['Tenure'].fillna(0)"
   ]
  },
  {
   "cell_type": "markdown",
   "metadata": {},
   "source": [
    "## Исследование задачи"
   ]
  },
  {
   "cell_type": "markdown",
   "metadata": {},
   "source": [
    "В исходных данных много категориальных признаков, преобразуем их в численные техникой прямого кодирования ОНЕ. Чтобы не попасть в дамми-ловушку, используем аргумент drop_first."
   ]
  },
  {
   "cell_type": "code",
   "execution_count": 7,
   "metadata": {},
   "outputs": [],
   "source": [
    "data_ohe = pd.get_dummies(data, drop_first=True)"
   ]
  },
  {
   "cell_type": "markdown",
   "metadata": {},
   "source": [
    "После кодирования можно поделить данные на три выборки: обучающую, валидационную и тестовую, в пропорции 3:1:1. Для этого сначала отделим 60% обучающей выборки, а затем разобьем оставшиеся 40% пополам, на валидационную и тестовую."
   ]
  },
  {
   "cell_type": "code",
   "execution_count": 8,
   "metadata": {},
   "outputs": [],
   "source": [
    "target = data_ohe['Exited']\n",
    "features = data_ohe.drop('Exited', axis=1)"
   ]
  },
  {
   "cell_type": "code",
   "execution_count": 9,
   "metadata": {},
   "outputs": [],
   "source": [
    "features_train, features_1, target_train, target_1 = train_test_split(features, target, test_size=0.4,\n",
    "                                                                     random_state=12345)"
   ]
  },
  {
   "cell_type": "code",
   "execution_count": 10,
   "metadata": {},
   "outputs": [],
   "source": [
    "features_valid, features_test, target_valid, target_test = train_test_split(features_1, target_1, test_size=0.5,\n",
    "                                                                           random_state=12345)"
   ]
  },
  {
   "cell_type": "code",
   "execution_count": 11,
   "metadata": {},
   "outputs": [
    {
     "name": "stdout",
     "output_type": "stream",
     "text": [
      "6000\n",
      "2000\n",
      "2000\n"
     ]
    }
   ],
   "source": [
    "print(target_train.count()) # проверим результаты разделения\n",
    "print(target_valid.count())\n",
    "print(target_test.count())"
   ]
  },
  {
   "cell_type": "code",
   "execution_count": 12,
   "metadata": {},
   "outputs": [
    {
     "data": {
      "text/html": [
       "<div>\n",
       "<style scoped>\n",
       "    .dataframe tbody tr th:only-of-type {\n",
       "        vertical-align: middle;\n",
       "    }\n",
       "\n",
       "    .dataframe tbody tr th {\n",
       "        vertical-align: top;\n",
       "    }\n",
       "\n",
       "    .dataframe thead th {\n",
       "        text-align: right;\n",
       "    }\n",
       "</style>\n",
       "<table border=\"1\" class=\"dataframe\">\n",
       "  <thead>\n",
       "    <tr style=\"text-align: right;\">\n",
       "      <th></th>\n",
       "      <th>CreditScore</th>\n",
       "      <th>Age</th>\n",
       "      <th>Tenure</th>\n",
       "      <th>Balance</th>\n",
       "      <th>NumOfProducts</th>\n",
       "      <th>HasCrCard</th>\n",
       "      <th>IsActiveMember</th>\n",
       "      <th>EstimatedSalary</th>\n",
       "      <th>Exited</th>\n",
       "      <th>Geography_Germany</th>\n",
       "      <th>Geography_Spain</th>\n",
       "      <th>Gender_Male</th>\n",
       "    </tr>\n",
       "  </thead>\n",
       "  <tbody>\n",
       "    <tr>\n",
       "      <th>0</th>\n",
       "      <td>619</td>\n",
       "      <td>42</td>\n",
       "      <td>2.0</td>\n",
       "      <td>0.00</td>\n",
       "      <td>1</td>\n",
       "      <td>1</td>\n",
       "      <td>1</td>\n",
       "      <td>101348.88</td>\n",
       "      <td>1</td>\n",
       "      <td>0</td>\n",
       "      <td>0</td>\n",
       "      <td>0</td>\n",
       "    </tr>\n",
       "    <tr>\n",
       "      <th>1</th>\n",
       "      <td>608</td>\n",
       "      <td>41</td>\n",
       "      <td>1.0</td>\n",
       "      <td>83807.86</td>\n",
       "      <td>1</td>\n",
       "      <td>0</td>\n",
       "      <td>1</td>\n",
       "      <td>112542.58</td>\n",
       "      <td>0</td>\n",
       "      <td>0</td>\n",
       "      <td>1</td>\n",
       "      <td>0</td>\n",
       "    </tr>\n",
       "    <tr>\n",
       "      <th>2</th>\n",
       "      <td>502</td>\n",
       "      <td>42</td>\n",
       "      <td>8.0</td>\n",
       "      <td>159660.80</td>\n",
       "      <td>3</td>\n",
       "      <td>1</td>\n",
       "      <td>0</td>\n",
       "      <td>113931.57</td>\n",
       "      <td>1</td>\n",
       "      <td>0</td>\n",
       "      <td>0</td>\n",
       "      <td>0</td>\n",
       "    </tr>\n",
       "    <tr>\n",
       "      <th>3</th>\n",
       "      <td>699</td>\n",
       "      <td>39</td>\n",
       "      <td>1.0</td>\n",
       "      <td>0.00</td>\n",
       "      <td>2</td>\n",
       "      <td>0</td>\n",
       "      <td>0</td>\n",
       "      <td>93826.63</td>\n",
       "      <td>0</td>\n",
       "      <td>0</td>\n",
       "      <td>0</td>\n",
       "      <td>0</td>\n",
       "    </tr>\n",
       "    <tr>\n",
       "      <th>4</th>\n",
       "      <td>850</td>\n",
       "      <td>43</td>\n",
       "      <td>2.0</td>\n",
       "      <td>125510.82</td>\n",
       "      <td>1</td>\n",
       "      <td>1</td>\n",
       "      <td>1</td>\n",
       "      <td>79084.10</td>\n",
       "      <td>0</td>\n",
       "      <td>0</td>\n",
       "      <td>1</td>\n",
       "      <td>0</td>\n",
       "    </tr>\n",
       "  </tbody>\n",
       "</table>\n",
       "</div>"
      ],
      "text/plain": [
       "   CreditScore  Age  Tenure    Balance  NumOfProducts  HasCrCard  \\\n",
       "0          619   42     2.0       0.00              1          1   \n",
       "1          608   41     1.0   83807.86              1          0   \n",
       "2          502   42     8.0  159660.80              3          1   \n",
       "3          699   39     1.0       0.00              2          0   \n",
       "4          850   43     2.0  125510.82              1          1   \n",
       "\n",
       "   IsActiveMember  EstimatedSalary  Exited  Geography_Germany  \\\n",
       "0               1        101348.88       1                  0   \n",
       "1               1        112542.58       0                  0   \n",
       "2               0        113931.57       1                  0   \n",
       "3               0         93826.63       0                  0   \n",
       "4               1         79084.10       0                  0   \n",
       "\n",
       "   Geography_Spain  Gender_Male  \n",
       "0                0            0  \n",
       "1                1            0  \n",
       "2                0            0  \n",
       "3                0            0  \n",
       "4                1            0  "
      ]
     },
     "execution_count": 12,
     "metadata": {},
     "output_type": "execute_result"
    }
   ],
   "source": [
    "data_ohe.head()"
   ]
  },
  {
   "cell_type": "markdown",
   "metadata": {},
   "source": [
    "В разных столбцах разные численные значения, нужно привести их к общему масштабу."
   ]
  },
  {
   "cell_type": "code",
   "execution_count": 13,
   "metadata": {},
   "outputs": [],
   "source": [
    "numeric = data_ohe.columns.drop('Exited')"
   ]
  },
  {
   "cell_type": "code",
   "execution_count": 14,
   "metadata": {},
   "outputs": [],
   "source": [
    "scaler = StandardScaler()\n",
    "scaler.fit(features_train[numeric])\n",
    "features_train[numeric] = scaler.transform(features_train[numeric])\n",
    "features_valid[numeric] = scaler.transform(features_valid[numeric])\n",
    "features_test[numeric] = scaler.transform(features_test[numeric])"
   ]
  },
  {
   "cell_type": "markdown",
   "metadata": {},
   "source": [
    "Посмотрим какая модель дает лучший результат на примере метрики accuracy."
   ]
  },
  {
   "cell_type": "code",
   "execution_count": 15,
   "metadata": {},
   "outputs": [
    {
     "data": {
      "text/plain": [
       "0.802"
      ]
     },
     "execution_count": 15,
     "metadata": {},
     "output_type": "execute_result"
    }
   ],
   "source": [
    "model = LogisticRegression(random_state=12345, solver='liblinear')\n",
    "model.fit(features_train, target_train)\n",
    "predicted_valid = model.predict(features_valid)\n",
    "accuracy_valid = accuracy_score(target_valid, predicted_valid)\n",
    "accuracy_valid"
   ]
  },
  {
   "cell_type": "code",
   "execution_count": 16,
   "metadata": {},
   "outputs": [
    {
     "data": {
      "text/plain": [
       "0.7865"
      ]
     },
     "execution_count": 16,
     "metadata": {},
     "output_type": "execute_result"
    }
   ],
   "source": [
    "model = DecisionTreeClassifier(random_state=12345)\n",
    "model.fit(features_train, target_train)\n",
    "predicted_valid = model.predict(features_valid)\n",
    "accuracy_valid = accuracy_score(target_valid, predicted_valid)\n",
    "accuracy_valid"
   ]
  },
  {
   "cell_type": "code",
   "execution_count": 17,
   "metadata": {},
   "outputs": [
    {
     "data": {
      "text/plain": [
       "0.858"
      ]
     },
     "execution_count": 17,
     "metadata": {},
     "output_type": "execute_result"
    }
   ],
   "source": [
    "model = RandomForestClassifier(random_state=12345)\n",
    "model.fit(features_train, target_train)\n",
    "predicted_valid = model.predict(features_valid)\n",
    "accuracy_valid = accuracy_score(target_valid, predicted_valid)\n",
    "accuracy_valid"
   ]
  },
  {
   "cell_type": "markdown",
   "metadata": {},
   "source": [
    "Самое высокое значение у случайного леса. Попробуем подобрать гиперпараметры, чтобы найти лучшую модель."
   ]
  },
  {
   "cell_type": "code",
   "execution_count": 18,
   "metadata": {},
   "outputs": [
    {
     "name": "stdout",
     "output_type": "stream",
     "text": [
      "RandomForestClassifier(max_depth=12, n_estimators=40, random_state=12345)\n",
      "0.865\n",
      "40\n",
      "12\n"
     ]
    }
   ],
   "source": [
    "best_model=None\n",
    "best_result=0\n",
    "for est in range(10, 100, 10):\n",
    "    for depth in range(1, 20, 1):\n",
    "        model = RandomForestClassifier(n_estimators=est, \n",
    "        max_depth=depth, random_state=12345)\n",
    "        model.fit(features_train, target_train)\n",
    "        predicted_valid = model.predict(features_valid)\n",
    "        result = accuracy_score(target_valid, predicted_valid)\n",
    "        if result > best_result:\n",
    "            best_model = model\n",
    "            best_result = result\n",
    "            best_est = est\n",
    "            best_depth = depth\n",
    "print(best_model)\n",
    "print(best_result)\n",
    "print(best_est)\n",
    "print(best_depth)"
   ]
  },
  {
   "cell_type": "markdown",
   "metadata": {},
   "source": [
    "Лучший показатель у модели с количеством деревьев 40 и глубиной дерева 12."
   ]
  },
  {
   "cell_type": "code",
   "execution_count": 19,
   "metadata": {},
   "outputs": [
    {
     "data": {
      "text/plain": [
       "0.865"
      ]
     },
     "execution_count": 19,
     "metadata": {},
     "output_type": "execute_result"
    }
   ],
   "source": [
    "model = RandomForestClassifier(n_estimators=40, \n",
    "    max_depth=12, random_state=12345)\n",
    "model.fit(features_train, target_train)\n",
    "predicted_valid = model.predict(features_valid)\n",
    "accuracy_valid = accuracy_score(target_valid, predicted_valid)\n",
    "accuracy_valid"
   ]
  },
  {
   "cell_type": "markdown",
   "metadata": {},
   "source": [
    "Проверим эту же метрику для константной модели."
   ]
  },
  {
   "cell_type": "code",
   "execution_count": 20,
   "metadata": {},
   "outputs": [
    {
     "data": {
      "text/plain": [
       "0.791"
      ]
     },
     "execution_count": 20,
     "metadata": {},
     "output_type": "execute_result"
    }
   ],
   "source": [
    "model = DummyClassifier(random_state=12345)\n",
    "model.fit(features_train, target_train)\n",
    "target_pred_constant = pd.Series(model.predict(features_valid))\n",
    "accuracy_score(target_valid, target_pred_constant)"
   ]
  },
  {
   "cell_type": "markdown",
   "metadata": {},
   "source": [
    "accuracy константной модели 0.791, accuracy нашей модели 0.865. При такой метрике константной модели сложно судить об адекватности выбранной нами. Проверим баланс данных."
   ]
  },
  {
   "cell_type": "code",
   "execution_count": 21,
   "metadata": {},
   "outputs": [
    {
     "data": {
      "text/plain": [
       "0    0.7963\n",
       "1    0.2037\n",
       "Name: Exited, dtype: float64"
      ]
     },
     "execution_count": 21,
     "metadata": {},
     "output_type": "execute_result"
    }
   ],
   "source": [
    "class_balance = data_ohe['Exited'].value_counts(normalize= True)\n",
    "class_balance"
   ]
  },
  {
   "cell_type": "code",
   "execution_count": 22,
   "metadata": {},
   "outputs": [
    {
     "data": {
      "text/plain": [
       "<AxesSubplot:>"
      ]
     },
     "execution_count": 22,
     "metadata": {},
     "output_type": "execute_result"
    },
    {
     "data": {
      "image/png": "[encoded data removed]",
      "text/plain": [
       "<Figure size 432x288 with 1 Axes>"
      ]
     },
     "metadata": {
      "needs_background": "light"
     },
     "output_type": "display_data"
    }
   ],
   "source": [
    "class_balance.plot(kind='bar');"
   ]
  },
  {
   "cell_type": "markdown",
   "metadata": {},
   "source": [
    "В данных обнаружен дисбаланс. Нолей 0.7963, единиц 0.2037. Посмотрим что получается в предсказанных данных."
   ]
  },
  {
   "cell_type": "code",
   "execution_count": 23,
   "metadata": {},
   "outputs": [],
   "source": [
    "predicted_valid = pd.Series(model.predict(features_valid))"
   ]
  },
  {
   "cell_type": "code",
   "execution_count": 24,
   "metadata": {},
   "outputs": [
    {
     "data": {
      "text/plain": [
       "0    1.0\n",
       "dtype: float64"
      ]
     },
     "execution_count": 24,
     "metadata": {},
     "output_type": "execute_result"
    }
   ],
   "source": [
    "class_predicted = predicted_valid.value_counts(normalize=True)\n",
    "class_predicted"
   ]
  },
  {
   "cell_type": "code",
   "execution_count": 25,
   "metadata": {},
   "outputs": [
    {
     "data": {
      "text/plain": [
       "<AxesSubplot:>"
      ]
     },
     "execution_count": 25,
     "metadata": {},
     "output_type": "execute_result"
    },
    {
     "data": {
      "image/png": "[encoded data removed]",
      "text/plain": [
       "<Figure size 432x288 with 1 Axes>"
      ]
     },
     "metadata": {
      "needs_background": "light"
     },
     "output_type": "display_data"
    }
   ],
   "source": [
    "class_predicted.plot(kind='bar');"
   ]
  },
  {
   "cell_type": "code",
   "execution_count": 26,
   "metadata": {},
   "outputs": [
    {
     "data": {
      "text/plain": [
       "array([[1582,    0],\n",
       "       [ 418,    0]])"
      ]
     },
     "execution_count": 26,
     "metadata": {},
     "output_type": "execute_result"
    }
   ],
   "source": [
    "confusion_matrix(target_valid, predicted_valid)"
   ]
  },
  {
   "cell_type": "code",
   "execution_count": 27,
   "metadata": {},
   "outputs": [
    {
     "data": {
      "text/plain": [
       "0.0"
      ]
     },
     "execution_count": 27,
     "metadata": {},
     "output_type": "execute_result"
    }
   ],
   "source": [
    "f1_score(target_valid, predicted_valid)"
   ]
  },
  {
   "cell_type": "markdown",
   "metadata": {},
   "source": [
    "Из-за силного дисбаланса, модель предсказывает только ноли. Модель нельзя считать адекватной."
   ]
  },
  {
   "cell_type": "markdown",
   "metadata": {},
   "source": [
    "## Борьба с дисбалансом"
   ]
  },
  {
   "cell_type": "markdown",
   "metadata": {},
   "source": [
    "Прежде чем обучать модель, нужно сбалансировать данные. Попробуем выбрать оптимальный метод."
   ]
  },
  {
   "cell_type": "code",
   "execution_count": 28,
   "metadata": {},
   "outputs": [],
   "source": [
    "def auc_roc_graph(fpr, tpr):\n",
    "    plt.figure()\n",
    "    plt.plot(fpr, tpr)\n",
    "    plt.plot([0, 1], [0, 1], linestyle='--')    # функция строит графики ROC-кривой\n",
    "    plt.xlim([0.0, 1.0])\n",
    "    plt.ylim([0.0, 1.0])\n",
    "    plt.xlabel('False Positive Rate')\n",
    "    plt.ylabel('True Positive Rate')\n",
    "    plt.title('ROC-кривая')\n",
    "    plt.show()"
   ]
  },
  {
   "cell_type": "code",
   "execution_count": 29,
   "metadata": {},
   "outputs": [],
   "source": [
    "def model_check(model, features_valid, target_valid):\n",
    "    probabilities_valid = model.predict_proba(features_valid) \n",
    "    predict_valid = model.predict(features_valid)\n",
    "    fpr, tpr, thresholds = roc_curve(target_valid, probabilities_valid[:, 1])   # функция вычисляет метрики auc_roc и f1\n",
    "    auc_roc_graph(fpr, tpr)\n",
    "    auc_roc = roc_auc_score(target_valid, probabilities_valid[:, 1])\n",
    "    f1 = f1_score(target_valid, predict_valid)\n",
    "    return auc_roc, f1"
   ]
  },
  {
   "cell_type": "markdown",
   "metadata": {},
   "source": [
    "Метод взвешивания классов. Протестируем все три модели."
   ]
  },
  {
   "cell_type": "code",
   "execution_count": 30,
   "metadata": {},
   "outputs": [
    {
     "data": {
      "image/png": "[encoded data removed]",
      "text/plain": [
       "<Figure size 432x288 with 1 Axes>"
      ]
     },
     "metadata": {
      "needs_background": "light"
     },
     "output_type": "display_data"
    },
    {
     "name": "stdout",
     "output_type": "stream",
     "text": [
      "0.6555522958643591\n",
      "0.45622688039457454\n"
     ]
    }
   ],
   "source": [
    "model = DecisionTreeClassifier(random_state=12345, class_weight='balanced')\n",
    "model.fit(features_train, target_train)\n",
    "auc_roc, f1 = model_check(model, features_valid, target_valid) \n",
    "print(auc_roc)\n",
    "print(f1)"
   ]
  },
  {
   "cell_type": "code",
   "execution_count": 31,
   "metadata": {},
   "outputs": [
    {
     "data": {
      "image/png": "[encoded data removed]",
      "text/plain": [
       "<Figure size 432x288 with 1 Axes>"
      ]
     },
     "metadata": {
      "needs_background": "light"
     },
     "output_type": "display_data"
    },
    {
     "name": "stdout",
     "output_type": "stream",
     "text": [
      "0.7633680944114107\n",
      "0.4888888888888888\n"
     ]
    }
   ],
   "source": [
    "model = LogisticRegression(random_state=12345, solver='liblinear', class_weight='balanced')\n",
    "model.fit(features_train, target_train)\n",
    "auc_roc, f1 = model_check(model, features_valid, target_valid)\n",
    "print(auc_roc)\n",
    "print(f1)"
   ]
  },
  {
   "cell_type": "code",
   "execution_count": 32,
   "metadata": {},
   "outputs": [
    {
     "data": {
      "image/png": "[encoded data removed]",
      "text/plain": [
       "<Figure size 432x288 with 1 Axes>"
      ]
     },
     "metadata": {
      "needs_background": "light"
     },
     "output_type": "display_data"
    },
    {
     "name": "stdout",
     "output_type": "stream",
     "text": [
      "RandomForestClassifier(class_weight='balanced', max_depth=8, n_estimators=50,\n",
      "                       random_state=12345)\n",
      "0.8544722627163244\n",
      "0.631236442516269\n",
      "50\n",
      "8\n"
     ]
    }
   ],
   "source": [
    "auc_roc=0\n",
    "f1_best=0\n",
    "for est in range(10, 100, 10):\n",
    "    for depth in range(1, 20, 1):\n",
    "        model = RandomForestClassifier(n_estimators=est, \n",
    "        max_depth=depth, random_state=12345, class_weight='balanced')\n",
    "        model.fit(features_train, target_train)\n",
    "        probabilities_valid = model.predict_proba(features_valid) \n",
    "        predict_valid = model.predict(features_valid)\n",
    "        fpr, tpr, thresholds = roc_curve(target_valid, probabilities_valid[:, 1])\n",
    "        auc_roc = roc_auc_score(target_valid, probabilities_valid[:, 1])\n",
    "        f1 = f1_score(target_valid, predict_valid)\n",
    "        if f1 > f1_best:\n",
    "            best_model = model\n",
    "            f1_best = f1\n",
    "            auc_roc_best = auc_roc\n",
    "            best_est = est\n",
    "            best_depth = depth\n",
    "auc_roc_graph(fpr, tpr)                \n",
    "print(best_model)\n",
    "print(auc_roc_best)\n",
    "print(f1_best)\n",
    "print(best_est)\n",
    "print(best_depth)"
   ]
  },
  {
   "cell_type": "markdown",
   "metadata": {},
   "source": [
    "У модели случайного леса по-прежнему самые лучшие показатели. Новые гиперпараметры: глубина дерева - 8, количество - 50."
   ]
  },
  {
   "cell_type": "markdown",
   "metadata": {},
   "source": [
    "Теперь попробуем увеличить выборку. Также посмотрим все три модели."
   ]
  },
  {
   "cell_type": "code",
   "execution_count": 33,
   "metadata": {},
   "outputs": [],
   "source": [
    "def upsample(features, target, repeat):\n",
    "    features_zeros = features[target == 0]\n",
    "    features_ones = features[target == 1]\n",
    "    target_zeros = target[target == 0]\n",
    "    target_ones = target[target == 1]\n",
    "\n",
    "    features_upsampled = pd.concat([features_zeros] + [features_ones] * repeat)\n",
    "    target_upsampled = pd.concat([target_zeros] + [target_ones] * repeat)\n",
    "    \n",
    "    features_upsampled, target_upsampled = shuffle(\n",
    "        features_upsampled, target_upsampled, random_state=12345)\n",
    "    \n",
    "    return features_upsampled, target_upsampled\n",
    "\n",
    "features_upsampled, target_upsampled = upsample(features_train, target_train, 4)"
   ]
  },
  {
   "cell_type": "code",
   "execution_count": 34,
   "metadata": {},
   "outputs": [
    {
     "data": {
      "text/plain": [
       "0    4804\n",
       "1    4784\n",
       "Name: Exited, dtype: int64"
      ]
     },
     "execution_count": 34,
     "metadata": {},
     "output_type": "execute_result"
    }
   ],
   "source": [
    "target_upsampled.value_counts() # проверим баланс после балансировки\n"
   ]
  },
  {
   "cell_type": "code",
   "execution_count": 35,
   "metadata": {},
   "outputs": [
    {
     "data": {
      "image/png": "[encoded data removed]",
      "text/plain": [
       "<Figure size 432x288 with 1 Axes>"
      ]
     },
     "metadata": {
      "needs_background": "light"
     },
     "output_type": "display_data"
    },
    {
     "name": "stdout",
     "output_type": "stream",
     "text": [
      "0.6564324124873728\n",
      "0.4575645756457565\n"
     ]
    }
   ],
   "source": [
    "model = DecisionTreeClassifier(random_state=12345)\n",
    "model.fit(features_upsampled, target_upsampled)\n",
    "auc_roc, f1 = model_check(model, features_valid, target_valid)\n",
    "print(auc_roc)\n",
    "print(f1)"
   ]
  },
  {
   "cell_type": "code",
   "execution_count": 36,
   "metadata": {},
   "outputs": [
    {
     "data": {
      "image/png": "[encoded data removed]",
      "text/plain": [
       "<Figure size 432x288 with 1 Axes>"
      ]
     },
     "metadata": {
      "needs_background": "light"
     },
     "output_type": "display_data"
    },
    {
     "name": "stdout",
     "output_type": "stream",
     "text": [
      "0.7633771677786582\n",
      "0.4888888888888888\n"
     ]
    }
   ],
   "source": [
    "model = LogisticRegression(random_state=12345, solver='liblinear')\n",
    "model.fit(features_upsampled, target_upsampled)\n",
    "auc_roc, f1 = model_check(model, features_valid, target_valid)\n",
    "print(auc_roc)\n",
    "print(f1)"
   ]
  },
  {
   "cell_type": "code",
   "execution_count": 37,
   "metadata": {},
   "outputs": [
    {
     "data": {
      "image/png": "[encoded data removed]",
      "text/plain": [
       "<Figure size 432x288 with 1 Axes>"
      ]
     },
     "metadata": {
      "needs_background": "light"
     },
     "output_type": "display_data"
    },
    {
     "name": "stdout",
     "output_type": "stream",
     "text": [
      "RandomForestClassifier(max_depth=13, n_estimators=60, random_state=12345)\n",
      "0.8446949533931369\n",
      "0.626829268292683\n",
      "60\n",
      "13\n"
     ]
    }
   ],
   "source": [
    "auc_roc=0\n",
    "f1_best=0\n",
    "for est in range(10, 100, 10):\n",
    "    for depth in range(1, 20, 1):\n",
    "        model = RandomForestClassifier(n_estimators=est, \n",
    "        max_depth=depth, random_state=12345)\n",
    "        model.fit(features_upsampled, target_upsampled)\n",
    "        probabilities_valid = model.predict_proba(features_valid) \n",
    "        predict_valid = model.predict(features_valid)\n",
    "        fpr, tpr, thresholds = roc_curve(target_valid, probabilities_valid[:, 1])\n",
    "        auc_roc = roc_auc_score(target_valid, probabilities_valid[:, 1])\n",
    "        f1 = f1_score(target_valid, predict_valid)\n",
    "        if f1 > f1_best:\n",
    "            best_model = model\n",
    "            f1_best = f1\n",
    "            auc_roc_best = auc_roc\n",
    "            best_est = est\n",
    "            best_depth = depth\n",
    "auc_roc_graph(fpr, tpr)                \n",
    "print(best_model)\n",
    "print(auc_roc_best)\n",
    "print(f1_best)\n",
    "print(best_est)\n",
    "print(best_depth)"
   ]
  },
  {
   "cell_type": "markdown",
   "metadata": {},
   "source": [
    "И тут тоже лидирует случайный лес. В целом после балансировки этим методом цифры поменялись незначительно."
   ]
  },
  {
   "cell_type": "markdown",
   "metadata": {},
   "source": [
    "Остался последний метод. Уменьшение выборки."
   ]
  },
  {
   "cell_type": "code",
   "execution_count": 38,
   "metadata": {},
   "outputs": [],
   "source": [
    "def downsample(features, target, fraction):\n",
    "    features_zeros = features[target == 0]\n",
    "    features_ones = features[target == 1]\n",
    "    target_zeros = target[target == 0]\n",
    "    target_ones = target[target == 1]\n",
    "\n",
    "    features_downsampled = pd.concat(\n",
    "        [features_zeros.sample(frac=fraction, random_state=12345)] + [features_ones])\n",
    "    target_downsampled = pd.concat(\n",
    "        [target_zeros.sample(frac=fraction, random_state=12345)] + [target_ones])\n",
    "    \n",
    "    features_downsampled, target_downsampled = shuffle(\n",
    "        features_downsampled, target_downsampled, random_state=12345)\n",
    "    \n",
    "    return features_downsampled, target_downsampled\n",
    "\n",
    "features_downsampled, target_downsampled = downsample(features_train, target_train, 0.25)\n",
    "\n"
   ]
  },
  {
   "cell_type": "code",
   "execution_count": 39,
   "metadata": {},
   "outputs": [
    {
     "data": {
      "text/plain": [
       "0    1201\n",
       "1    1196\n",
       "Name: Exited, dtype: int64"
      ]
     },
     "execution_count": 39,
     "metadata": {},
     "output_type": "execute_result"
    }
   ],
   "source": [
    "target_downsampled.value_counts() # проверим баланс после балансировки"
   ]
  },
  {
   "cell_type": "code",
   "execution_count": 40,
   "metadata": {},
   "outputs": [
    {
     "data": {
      "image/png": "[encoded data removed]",
      "text/plain": [
       "<Figure size 432x288 with 1 Axes>"
      ]
     },
     "metadata": {
      "needs_background": "light"
     },
     "output_type": "display_data"
    },
    {
     "name": "stdout",
     "output_type": "stream",
     "text": [
      "0.6949352464024099\n",
      "0.48817567567567566\n"
     ]
    }
   ],
   "source": [
    "model = DecisionTreeClassifier(random_state=12345)\n",
    "model.fit(features_downsampled, target_downsampled)\n",
    "auc_roc, f1 = model_check(model, features_valid, target_valid)\n",
    "print(auc_roc)\n",
    "print(f1)"
   ]
  },
  {
   "cell_type": "code",
   "execution_count": 41,
   "metadata": {},
   "outputs": [
    {
     "data": {
      "image/png": "[encoded data removed]",
      "text/plain": [
       "<Figure size 432x288 with 1 Axes>"
      ]
     },
     "metadata": {
      "needs_background": "light"
     },
     "output_type": "display_data"
    },
    {
     "name": "stdout",
     "output_type": "stream",
     "text": [
      "0.7623443161403105\n",
      "0.4888507718696398\n"
     ]
    }
   ],
   "source": [
    "model = LogisticRegression(random_state=12345, solver='liblinear')\n",
    "model.fit(features_downsampled, target_downsampled)\n",
    "auc_roc, f1 = model_check(model, features_valid, target_valid)\n",
    "print(auc_roc)\n",
    "print(f1)"
   ]
  },
  {
   "cell_type": "code",
   "execution_count": 42,
   "metadata": {},
   "outputs": [
    {
     "data": {
      "image/png": "[encoded data removed]",
      "text/plain": [
       "<Figure size 432x288 with 1 Axes>"
      ]
     },
     "metadata": {
      "needs_background": "light"
     },
     "output_type": "display_data"
    },
    {
     "name": "stdout",
     "output_type": "stream",
     "text": [
      "RandomForestClassifier(max_depth=4, n_estimators=10, random_state=12345)\n",
      "0.835229163012116\n",
      "0.6036217303822937\n",
      "10\n",
      "4\n"
     ]
    }
   ],
   "source": [
    "auc_roc=0\n",
    "f1_best=0\n",
    "for est in range(10, 100, 10):\n",
    "    for depth in range(1, 20, 1):\n",
    "        model = RandomForestClassifier(n_estimators=est, \n",
    "        max_depth=depth, random_state=12345)\n",
    "        model.fit(features_downsampled, target_downsampled)\n",
    "        probabilities_valid = model.predict_proba(features_valid) \n",
    "        predict_valid = model.predict(features_valid)\n",
    "        fpr, tpr, thresholds = roc_curve(target_valid, probabilities_valid[:, 1])\n",
    "        auc_roc = roc_auc_score(target_valid, probabilities_valid[:, 1])\n",
    "        f1 = f1_score(target_valid, predict_valid)\n",
    "        if f1 > f1_best:\n",
    "            best_model = model\n",
    "            f1_best = f1\n",
    "            auc_roc_best = auc_roc\n",
    "            best_est = est\n",
    "            best_depth = depth\n",
    "auc_roc_graph(fpr, tpr)                \n",
    "print(best_model)\n",
    "print(auc_roc_best)\n",
    "print(f1_best)\n",
    "print(best_est)\n",
    "print(best_depth)"
   ]
  },
  {
   "cell_type": "markdown",
   "metadata": {},
   "source": [
    "Тут та же картина. Лучше всего себя показывает случайный лес, а в целом колебания метрик в пределах сотых. Таким образом лучшей моделью можно признать случайный лес, а лучшим способом балансировки - взвешивание классов, при этом методе показатель метрики  f1-score составил 0.631236442516269. Это наивысшее значение, которое нам улалось получить. AUC-ROC также выше у случайного леса, однако в процессе балансировки эта метрика почти не изменялась."
   ]
  },
  {
   "cell_type": "markdown",
   "metadata": {},
   "source": [
    "## Тестирование модели"
   ]
  },
  {
   "cell_type": "markdown",
   "metadata": {},
   "source": [
    "Теперь протестируем нашу модель на тестовой выборке."
   ]
  },
  {
   "cell_type": "code",
   "execution_count": 43,
   "metadata": {},
   "outputs": [
    {
     "data": {
      "image/png": "[encoded data removed]",
      "text/plain": [
       "<Figure size 432x288 with 1 Axes>"
      ]
     },
     "metadata": {
      "needs_background": "light"
     },
     "output_type": "display_data"
    },
    {
     "name": "stdout",
     "output_type": "stream",
     "text": [
      "0.8520922060770143\n",
      "0.6079484425349088\n"
     ]
    }
   ],
   "source": [
    "model = RandomForestClassifier(n_estimators=50, \n",
    "    max_depth=8, random_state=12345, class_weight='balanced')\n",
    "model.fit(features_train, target_train)\n",
    "probabilities_test = model.predict_proba(features_test)\n",
    "predict_test = model.predict(features_test)\n",
    "auc_roc, f1 = model_check(model, features_test, target_test)\n",
    "print(auc_roc)\n",
    "print(f1)"
   ]
  },
  {
   "cell_type": "markdown",
   "metadata": {},
   "source": [
    " При финальном тестировании модель показала хорошие результаты. Метрика AUC-ROC получилась на 2 тысячных ниже, чем при тестировании на валидационной выборке, а метрика f1 меньше на 3 сотых. Такую разницу можно считать незначительной, задача выполнена."
   ]
  },
  {
   "cell_type": "markdown",
   "metadata": {},
   "source": [
    "## Чек-лист готовности проекта"
   ]
  },
  {
   "cell_type": "markdown",
   "metadata": {},
   "source": [
    "Поставьте 'x' в выполненных пунктах. Далее нажмите Shift+Enter."
   ]
  },
  {
   "cell_type": "markdown",
   "metadata": {},
   "source": [
    "- [x]  Jupyter Notebook открыт\n",
    "- [x]  Весь код выполняется без ошибок\n",
    "- [x]  Ячейки с кодом расположены в порядке исполнения\n",
    "- [x]  Выполнен шаг 1: данные подготовлены\n",
    "- [x]  Выполнен шаг 2: задача исследована\n",
    "    - [x]  Исследован баланс классов\n",
    "    - [x]  Изучены модели без учёта дисбаланса\n",
    "    - [x]  Написаны выводы по результатам исследования\n",
    "- [x]  Выполнен шаг 3: учтён дисбаланс\n",
    "    - [x]  Применено несколько способов борьбы с дисбалансом\n",
    "    - [x]  Написаны выводы по результатам исследования\n",
    "- [x]  Выполнен шаг 4: проведено тестирование\n",
    "- [x]  Удалось достичь *F1*-меры не менее 0.59\n",
    "- [x]  Исследована метрика *AUC-ROC*"
   ]
  },
  {
   "cell_type": "markdown",
   "metadata": {},
   "source": [
    "**Вывод**:\n",
    " В ходе работы были построены и обучены три модели трех разных структур: дерево решений, случайный лес и логистическая регрессия. Путем перебора были подобраны гиперпараметры, которые дали наилучший результат. Также был выявлен дисбаланс данных и опробованы различные методы борьбы с ним. Лучшим способом оказалось взвешивание классов. Все три модели при этом виде балансировки показали хорошие результаты. \n",
    " \n",
    " Получилось следующее:\n",
    "1. Модель DecisionTreeClassifier, AUC-ROC = 0.6555522958643591, f1 = 0.45622688039457454.\n",
    "2. Модель LogisticRegression, AUC-ROC = 0.7633680944114107, f1 = 0.4888888888888888.\n",
    "3. Модель RandomForestClassifier(max_depth=10, n_estimators=100), AUC-ROC = 0.8544722627163244, f1 = 0.631236442516269.\n",
    "\n",
    "Таким образом мы видим, что наилучшие показатели у модели под номером 3. Модель RandomForestClassifier, с гиперпараметрами глубина дерева 8 и количеством деревьев 50. Тестирование на тестовой выборке показало похожие результаты. AUC-ROC = 0.8520922060770143, а1 = 0.6079484425349088. f1-мера больше 0.59. Цель работы выполнена.  "
   ]
  }
 ],
 "metadata": {
  "ExecuteTimeLog": [
   {
    "duration": 1077,
    "start_time": "2022-11-11T06:58:42.018Z"
   },
   {
    "duration": 374,
    "start_time": "2022-11-11T06:58:43.758Z"
   },
   {
    "duration": 27,
    "start_time": "2022-11-11T06:58:45.067Z"
   },
   {
    "duration": 6,
    "start_time": "2022-11-11T06:59:15.958Z"
   },
   {
    "duration": 987,
    "start_time": "2022-11-14T10:52:17.509Z"
   },
   {
    "duration": 366,
    "start_time": "2022-11-14T10:52:18.497Z"
   },
   {
    "duration": 21,
    "start_time": "2022-11-14T10:52:18.865Z"
   },
   {
    "duration": 5,
    "start_time": "2022-11-14T10:52:18.888Z"
   },
   {
    "duration": 219,
    "start_time": "2022-11-14T10:52:18.895Z"
   },
   {
    "duration": 67,
    "start_time": "2022-11-14T10:55:12.768Z"
   },
   {
    "duration": 56,
    "start_time": "2022-11-14T10:55:17.260Z"
   },
   {
    "duration": 21,
    "start_time": "2022-11-14T10:55:45.002Z"
   },
   {
    "duration": 3,
    "start_time": "2022-11-14T11:02:51.818Z"
   },
   {
    "duration": 36,
    "start_time": "2022-11-14T11:03:02.718Z"
   },
   {
    "duration": 3,
    "start_time": "2022-11-14T11:03:09.431Z"
   },
   {
    "duration": 98,
    "start_time": "2022-11-14T11:03:10.362Z"
   },
   {
    "duration": 3,
    "start_time": "2022-11-14T11:05:17.716Z"
   },
   {
    "duration": 36,
    "start_time": "2022-11-14T11:05:19.265Z"
   },
   {
    "duration": 11,
    "start_time": "2022-11-14T11:05:20.945Z"
   },
   {
    "duration": 6,
    "start_time": "2022-11-14T11:05:24.859Z"
   },
   {
    "duration": 3,
    "start_time": "2022-11-14T11:05:32.042Z"
   },
   {
    "duration": 15,
    "start_time": "2022-11-14T11:05:34.028Z"
   },
   {
    "duration": 985,
    "start_time": "2022-11-14T11:10:01.820Z"
   },
   {
    "duration": 41,
    "start_time": "2022-11-14T11:10:02.807Z"
   },
   {
    "duration": 21,
    "start_time": "2022-11-14T11:10:02.849Z"
   },
   {
    "duration": 10,
    "start_time": "2022-11-14T11:10:02.872Z"
   },
   {
    "duration": 23,
    "start_time": "2022-11-14T11:10:02.884Z"
   },
   {
    "duration": 19,
    "start_time": "2022-11-14T11:10:02.909Z"
   },
   {
    "duration": 113,
    "start_time": "2022-11-14T11:10:02.930Z"
   },
   {
    "duration": 0,
    "start_time": "2022-11-14T11:10:03.045Z"
   },
   {
    "duration": 0,
    "start_time": "2022-11-14T11:10:03.046Z"
   },
   {
    "duration": 0,
    "start_time": "2022-11-14T11:10:03.048Z"
   },
   {
    "duration": 0,
    "start_time": "2022-11-14T11:10:03.048Z"
   },
   {
    "duration": 0,
    "start_time": "2022-11-14T11:10:03.050Z"
   },
   {
    "duration": 0,
    "start_time": "2022-11-14T11:10:03.051Z"
   },
   {
    "duration": 0,
    "start_time": "2022-11-14T11:10:03.051Z"
   },
   {
    "duration": 974,
    "start_time": "2022-11-14T11:10:32.605Z"
   },
   {
    "duration": 40,
    "start_time": "2022-11-14T11:10:33.581Z"
   },
   {
    "duration": 18,
    "start_time": "2022-11-14T11:10:33.623Z"
   },
   {
    "duration": 4,
    "start_time": "2022-11-14T11:10:33.643Z"
   },
   {
    "duration": 4,
    "start_time": "2022-11-14T11:10:33.649Z"
   },
   {
    "duration": 5,
    "start_time": "2022-11-14T11:10:33.654Z"
   },
   {
    "duration": 5,
    "start_time": "2022-11-14T11:10:33.660Z"
   },
   {
    "duration": 4,
    "start_time": "2022-11-14T11:10:33.667Z"
   },
   {
    "duration": 5,
    "start_time": "2022-11-14T11:10:33.673Z"
   },
   {
    "duration": 98,
    "start_time": "2022-11-14T11:10:33.680Z"
   },
   {
    "duration": 0,
    "start_time": "2022-11-14T11:10:33.780Z"
   },
   {
    "duration": 0,
    "start_time": "2022-11-14T11:10:33.781Z"
   },
   {
    "duration": 0,
    "start_time": "2022-11-14T11:10:33.783Z"
   },
   {
    "duration": 0,
    "start_time": "2022-11-14T11:10:33.784Z"
   },
   {
    "duration": 2,
    "start_time": "2022-11-14T11:13:47.191Z"
   },
   {
    "duration": 15,
    "start_time": "2022-11-14T11:13:50.157Z"
   },
   {
    "duration": 17,
    "start_time": "2022-11-14T11:14:04.005Z"
   },
   {
    "duration": 14,
    "start_time": "2022-11-14T11:14:10.163Z"
   },
   {
    "duration": 1005,
    "start_time": "2022-11-14T11:15:40.059Z"
   },
   {
    "duration": 40,
    "start_time": "2022-11-14T11:15:41.066Z"
   },
   {
    "duration": 16,
    "start_time": "2022-11-14T11:15:41.108Z"
   },
   {
    "duration": 4,
    "start_time": "2022-11-14T11:15:41.125Z"
   },
   {
    "duration": 190,
    "start_time": "2022-11-14T11:15:41.131Z"
   },
   {
    "duration": 73,
    "start_time": "2022-11-14T11:15:41.322Z"
   },
   {
    "duration": 62,
    "start_time": "2022-11-14T11:15:41.397Z"
   },
   {
    "duration": 16,
    "start_time": "2022-11-14T11:15:41.460Z"
   },
   {
    "duration": 98,
    "start_time": "2022-11-14T11:15:41.478Z"
   },
   {
    "duration": 0,
    "start_time": "2022-11-14T11:15:41.577Z"
   },
   {
    "duration": 0,
    "start_time": "2022-11-14T11:15:41.579Z"
   },
   {
    "duration": 4,
    "start_time": "2022-11-14T11:18:02.530Z"
   },
   {
    "duration": 8,
    "start_time": "2022-11-14T11:19:23.021Z"
   },
   {
    "duration": 3,
    "start_time": "2022-11-14T11:19:32.791Z"
   },
   {
    "duration": 2,
    "start_time": "2022-11-14T11:22:00.604Z"
   },
   {
    "duration": 479,
    "start_time": "2022-11-14T11:22:03.392Z"
   },
   {
    "duration": 8237,
    "start_time": "2022-11-14T11:22:06.311Z"
   },
   {
    "duration": 2807,
    "start_time": "2022-11-14T11:22:16.713Z"
   },
   {
    "duration": 91,
    "start_time": "2022-11-14T13:51:27.262Z"
   },
   {
    "duration": 38,
    "start_time": "2022-11-14T13:51:29.811Z"
   },
   {
    "duration": 12,
    "start_time": "2022-11-14T13:51:31.362Z"
   },
   {
    "duration": 7,
    "start_time": "2022-11-14T13:51:33.413Z"
   },
   {
    "duration": 5,
    "start_time": "2022-11-14T13:51:37.312Z"
   },
   {
    "duration": 13,
    "start_time": "2022-11-14T13:51:43.974Z"
   },
   {
    "duration": 8,
    "start_time": "2022-11-14T13:51:44.996Z"
   },
   {
    "duration": 12,
    "start_time": "2022-11-14T13:51:46.003Z"
   },
   {
    "duration": 11,
    "start_time": "2022-11-14T13:51:48.109Z"
   },
   {
    "duration": 3,
    "start_time": "2022-11-14T13:52:30.444Z"
   },
   {
    "duration": 30,
    "start_time": "2022-11-14T13:52:32.103Z"
   },
   {
    "duration": 11,
    "start_time": "2022-11-14T14:02:01.748Z"
   },
   {
    "duration": 36,
    "start_time": "2022-11-14T14:02:02.882Z"
   },
   {
    "duration": 12,
    "start_time": "2022-11-14T14:02:04.111Z"
   },
   {
    "duration": 5,
    "start_time": "2022-11-14T14:02:05.249Z"
   },
   {
    "duration": 5,
    "start_time": "2022-11-14T14:02:06.688Z"
   },
   {
    "duration": 9,
    "start_time": "2022-11-14T14:02:10.606Z"
   },
   {
    "duration": 6,
    "start_time": "2022-11-14T14:02:11.551Z"
   },
   {
    "duration": 6,
    "start_time": "2022-11-14T14:02:12.400Z"
   },
   {
    "duration": 12,
    "start_time": "2022-11-14T14:02:13.588Z"
   },
   {
    "duration": 3,
    "start_time": "2022-11-14T14:02:15.688Z"
   },
   {
    "duration": 29,
    "start_time": "2022-11-14T14:02:17.238Z"
   },
   {
    "duration": 21,
    "start_time": "2022-11-14T14:02:44.636Z"
   },
   {
    "duration": 17,
    "start_time": "2022-11-14T14:03:00.365Z"
   },
   {
    "duration": 17,
    "start_time": "2022-11-14T14:03:01.913Z"
   },
   {
    "duration": 7,
    "start_time": "2022-11-14T14:03:07.205Z"
   },
   {
    "duration": 7,
    "start_time": "2022-11-14T14:04:14.303Z"
   },
   {
    "duration": 6,
    "start_time": "2022-11-14T14:04:31.402Z"
   },
   {
    "duration": 6,
    "start_time": "2022-11-14T14:04:43.908Z"
   },
   {
    "duration": 6,
    "start_time": "2022-11-14T14:04:56.225Z"
   },
   {
    "duration": 7,
    "start_time": "2022-11-14T14:05:17.021Z"
   },
   {
    "duration": 5,
    "start_time": "2022-11-14T14:05:35.793Z"
   },
   {
    "duration": 5,
    "start_time": "2022-11-14T14:05:56.362Z"
   },
   {
    "duration": 6,
    "start_time": "2022-11-14T14:06:11.134Z"
   },
   {
    "duration": 6,
    "start_time": "2022-11-14T14:07:08.724Z"
   },
   {
    "duration": 6,
    "start_time": "2022-11-14T14:07:26.161Z"
   },
   {
    "duration": 5,
    "start_time": "2022-11-14T14:07:39.603Z"
   },
   {
    "duration": 8,
    "start_time": "2022-11-14T14:07:58.141Z"
   },
   {
    "duration": 7,
    "start_time": "2022-11-14T14:08:18.743Z"
   },
   {
    "duration": 7,
    "start_time": "2022-11-14T14:08:34.036Z"
   },
   {
    "duration": 6,
    "start_time": "2022-11-14T14:09:46.789Z"
   },
   {
    "duration": 6,
    "start_time": "2022-11-14T14:10:45.799Z"
   },
   {
    "duration": 14,
    "start_time": "2022-11-14T14:11:30.124Z"
   },
   {
    "duration": 3,
    "start_time": "2022-11-14T14:16:00.795Z"
   },
   {
    "duration": 37,
    "start_time": "2022-11-14T14:16:01.591Z"
   },
   {
    "duration": 12,
    "start_time": "2022-11-14T14:16:02.413Z"
   },
   {
    "duration": 5,
    "start_time": "2022-11-14T14:16:04.407Z"
   },
   {
    "duration": 5,
    "start_time": "2022-11-14T14:16:06.664Z"
   },
   {
    "duration": 4,
    "start_time": "2022-11-14T14:16:08.185Z"
   },
   {
    "duration": 13,
    "start_time": "2022-11-14T14:16:10.121Z"
   },
   {
    "duration": 5,
    "start_time": "2022-11-14T14:16:11.057Z"
   },
   {
    "duration": 7,
    "start_time": "2022-11-14T14:16:11.819Z"
   },
   {
    "duration": 11,
    "start_time": "2022-11-14T14:16:13.072Z"
   },
   {
    "duration": 3,
    "start_time": "2022-11-14T14:16:24.389Z"
   },
   {
    "duration": 32,
    "start_time": "2022-11-14T14:16:25.264Z"
   },
   {
    "duration": 23,
    "start_time": "2022-11-14T14:16:28.144Z"
   },
   {
    "duration": 26,
    "start_time": "2022-11-14T14:16:47.836Z"
   },
   {
    "duration": 49,
    "start_time": "2022-11-14T14:16:54.932Z"
   },
   {
    "duration": 2220,
    "start_time": "2022-11-14T14:17:01.030Z"
   },
   {
    "duration": 9,
    "start_time": "2022-11-14T14:23:12.946Z"
   },
   {
    "duration": 3,
    "start_time": "2022-11-14T14:23:48.367Z"
   },
   {
    "duration": 37,
    "start_time": "2022-11-14T14:23:49.132Z"
   },
   {
    "duration": 15,
    "start_time": "2022-11-14T14:23:49.807Z"
   },
   {
    "duration": 5,
    "start_time": "2022-11-14T14:23:50.632Z"
   },
   {
    "duration": 4,
    "start_time": "2022-11-14T14:23:51.272Z"
   },
   {
    "duration": 3,
    "start_time": "2022-11-14T14:23:52.255Z"
   },
   {
    "duration": 9,
    "start_time": "2022-11-14T14:23:53.481Z"
   },
   {
    "duration": 5,
    "start_time": "2022-11-14T14:23:54.063Z"
   },
   {
    "duration": 7,
    "start_time": "2022-11-14T14:23:54.709Z"
   },
   {
    "duration": 10,
    "start_time": "2022-11-14T14:23:55.626Z"
   },
   {
    "duration": 3,
    "start_time": "2022-11-14T14:23:56.463Z"
   },
   {
    "duration": 34,
    "start_time": "2022-11-14T14:23:57.776Z"
   },
   {
    "duration": 25,
    "start_time": "2022-11-14T14:23:59.705Z"
   },
   {
    "duration": 49,
    "start_time": "2022-11-14T14:24:02.270Z"
   },
   {
    "duration": 876,
    "start_time": "2022-11-14T14:24:03.931Z"
   },
   {
    "duration": 6,
    "start_time": "2022-11-14T14:24:11.973Z"
   },
   {
    "duration": 4225,
    "start_time": "2022-11-14T14:25:04.167Z"
   },
   {
    "duration": 4155,
    "start_time": "2022-11-14T14:25:40.809Z"
   },
   {
    "duration": 76,
    "start_time": "2022-11-14T14:26:54.639Z"
   },
   {
    "duration": 1896,
    "start_time": "2022-11-14T14:27:17.297Z"
   },
   {
    "duration": 5261,
    "start_time": "2022-11-14T14:28:12.148Z"
   },
   {
    "duration": 9058,
    "start_time": "2022-11-14T14:29:03.514Z"
   },
   {
    "duration": 10663,
    "start_time": "2022-11-14T14:30:05.642Z"
   },
   {
    "duration": 14337,
    "start_time": "2022-11-14T14:30:31.738Z"
   },
   {
    "duration": 12237,
    "start_time": "2022-11-14T14:30:57.845Z"
   },
   {
    "duration": 6,
    "start_time": "2022-11-14T14:34:35.453Z"
   },
   {
    "duration": 9,
    "start_time": "2022-11-14T14:36:15.176Z"
   },
   {
    "duration": 4,
    "start_time": "2022-11-14T14:36:19.943Z"
   },
   {
    "duration": 431,
    "start_time": "2022-11-14T14:36:20.881Z"
   },
   {
    "duration": 7,
    "start_time": "2022-11-14T14:39:35.289Z"
   },
   {
    "duration": 20,
    "start_time": "2022-11-14T14:39:52.464Z"
   },
   {
    "duration": 890,
    "start_time": "2022-11-14T14:40:51.170Z"
   },
   {
    "duration": 64,
    "start_time": "2022-11-14T14:41:02.024Z"
   },
   {
    "duration": 3,
    "start_time": "2022-11-14T14:41:03.039Z"
   },
   {
    "duration": 6,
    "start_time": "2022-11-14T14:41:17.388Z"
   },
   {
    "duration": 4,
    "start_time": "2022-11-14T14:47:42.015Z"
   },
   {
    "duration": 40,
    "start_time": "2022-11-14T14:47:42.996Z"
   },
   {
    "duration": 12,
    "start_time": "2022-11-14T14:47:43.502Z"
   },
   {
    "duration": 7,
    "start_time": "2022-11-14T14:47:44.715Z"
   },
   {
    "duration": 4,
    "start_time": "2022-11-14T14:47:46.113Z"
   },
   {
    "duration": 4,
    "start_time": "2022-11-14T14:47:47.190Z"
   },
   {
    "duration": 81,
    "start_time": "2022-11-14T14:47:48.645Z"
   },
   {
    "duration": 6,
    "start_time": "2022-11-14T14:47:49.336Z"
   },
   {
    "duration": 6,
    "start_time": "2022-11-14T14:47:50.014Z"
   },
   {
    "duration": 11,
    "start_time": "2022-11-14T14:47:50.889Z"
   },
   {
    "duration": 3,
    "start_time": "2022-11-14T14:47:51.697Z"
   },
   {
    "duration": 31,
    "start_time": "2022-11-14T14:47:52.784Z"
   },
   {
    "duration": 2,
    "start_time": "2022-11-14T14:47:53.483Z"
   },
   {
    "duration": 60,
    "start_time": "2022-11-14T14:47:54.672Z"
   },
   {
    "duration": 2,
    "start_time": "2022-11-14T14:47:55.963Z"
   },
   {
    "duration": 2,
    "start_time": "2022-11-14T14:47:57.253Z"
   },
   {
    "duration": 7,
    "start_time": "2022-11-14T14:47:58.299Z"
   },
   {
    "duration": 6,
    "start_time": "2022-11-14T14:48:01.115Z"
   },
   {
    "duration": 104,
    "start_time": "2022-11-14T14:48:03.334Z"
   },
   {
    "duration": 4,
    "start_time": "2022-11-14T14:48:04.602Z"
   },
   {
    "duration": 6,
    "start_time": "2022-11-14T14:48:06.079Z"
   },
   {
    "duration": 83,
    "start_time": "2022-11-14T14:48:07.268Z"
   },
   {
    "duration": 3,
    "start_time": "2022-11-14T14:48:53.475Z"
   },
   {
    "duration": 7,
    "start_time": "2022-11-14T14:49:12.364Z"
   },
   {
    "duration": 10,
    "start_time": "2022-11-14T14:54:39.184Z"
   },
   {
    "duration": 4,
    "start_time": "2022-11-14T14:54:57.894Z"
   },
   {
    "duration": 6,
    "start_time": "2022-11-14T14:55:04.158Z"
   },
   {
    "duration": 6,
    "start_time": "2022-11-14T14:56:08.332Z"
   },
   {
    "duration": 50,
    "start_time": "2022-11-14T14:58:18.428Z"
   },
   {
    "duration": 25,
    "start_time": "2022-11-14T15:00:42.591Z"
   },
   {
    "duration": 3,
    "start_time": "2022-11-14T15:00:50.714Z"
   },
   {
    "duration": 12,
    "start_time": "2022-11-14T15:00:56.186Z"
   },
   {
    "duration": 86,
    "start_time": "2022-11-14T15:02:00.031Z"
   },
   {
    "duration": 24,
    "start_time": "2022-11-14T15:03:19.927Z"
   },
   {
    "duration": 52,
    "start_time": "2022-11-14T15:04:45.864Z"
   },
   {
    "duration": 4,
    "start_time": "2022-11-14T15:05:11.647Z"
   },
   {
    "duration": 53,
    "start_time": "2022-11-14T15:05:17.933Z"
   },
   {
    "duration": 4,
    "start_time": "2022-11-14T15:06:33.830Z"
   },
   {
    "duration": 105,
    "start_time": "2022-11-14T15:06:41.111Z"
   },
   {
    "duration": 1094,
    "start_time": "2022-11-15T10:16:33.605Z"
   },
   {
    "duration": 156,
    "start_time": "2022-11-15T10:16:35.663Z"
   },
   {
    "duration": 21,
    "start_time": "2022-11-15T10:16:36.567Z"
   },
   {
    "duration": 7,
    "start_time": "2022-11-15T10:16:37.307Z"
   },
   {
    "duration": 4,
    "start_time": "2022-11-15T10:16:38.290Z"
   },
   {
    "duration": 4,
    "start_time": "2022-11-15T10:16:38.935Z"
   },
   {
    "duration": 11,
    "start_time": "2022-11-15T10:16:41.615Z"
   },
   {
    "duration": 6,
    "start_time": "2022-11-15T10:16:42.624Z"
   },
   {
    "duration": 6,
    "start_time": "2022-11-15T10:16:43.271Z"
   },
   {
    "duration": 12,
    "start_time": "2022-11-15T10:16:44.664Z"
   },
   {
    "duration": 3,
    "start_time": "2022-11-15T10:16:45.748Z"
   },
   {
    "duration": 33,
    "start_time": "2022-11-15T10:16:47.463Z"
   },
   {
    "duration": 2,
    "start_time": "2022-11-15T10:17:00.733Z"
   },
   {
    "duration": 52,
    "start_time": "2022-11-15T10:17:01.566Z"
   },
   {
    "duration": 3,
    "start_time": "2022-11-15T10:17:02.963Z"
   },
   {
    "duration": 3,
    "start_time": "2022-11-15T10:17:07.033Z"
   },
   {
    "duration": 7,
    "start_time": "2022-11-15T10:17:07.954Z"
   },
   {
    "duration": 10,
    "start_time": "2022-11-15T10:17:08.756Z"
   },
   {
    "duration": 576,
    "start_time": "2022-11-15T10:17:11.944Z"
   },
   {
    "duration": 5,
    "start_time": "2022-11-15T10:17:14.113Z"
   },
   {
    "duration": 7,
    "start_time": "2022-11-15T10:17:15.800Z"
   },
   {
    "duration": 107,
    "start_time": "2022-11-15T10:17:16.765Z"
   },
   {
    "duration": 9,
    "start_time": "2022-11-15T10:17:17.788Z"
   },
   {
    "duration": 7,
    "start_time": "2022-11-15T10:17:41.998Z"
   },
   {
    "duration": 53,
    "start_time": "2022-11-15T10:17:44.435Z"
   },
   {
    "duration": 97,
    "start_time": "2022-11-15T10:17:48.395Z"
   },
   {
    "duration": 27,
    "start_time": "2022-11-15T10:17:49.573Z"
   },
   {
    "duration": 96,
    "start_time": "2022-11-15T10:17:51.345Z"
   },
   {
    "duration": 5,
    "start_time": "2022-11-15T10:46:34.347Z"
   },
   {
    "duration": 41,
    "start_time": "2022-11-15T10:46:35.946Z"
   },
   {
    "duration": 12,
    "start_time": "2022-11-15T10:46:36.992Z"
   },
   {
    "duration": 6,
    "start_time": "2022-11-15T10:46:38.439Z"
   },
   {
    "duration": 6,
    "start_time": "2022-11-15T10:46:41.157Z"
   },
   {
    "duration": 4,
    "start_time": "2022-11-15T10:46:42.007Z"
   },
   {
    "duration": 15,
    "start_time": "2022-11-15T10:46:45.097Z"
   },
   {
    "duration": 8,
    "start_time": "2022-11-15T10:46:49.222Z"
   },
   {
    "duration": 8,
    "start_time": "2022-11-15T10:46:56.473Z"
   },
   {
    "duration": 15,
    "start_time": "2022-11-15T10:46:57.344Z"
   },
   {
    "duration": 4,
    "start_time": "2022-11-15T10:46:58.924Z"
   },
   {
    "duration": 50,
    "start_time": "2022-11-15T10:47:00.244Z"
   },
   {
    "duration": 81,
    "start_time": "2022-11-15T10:47:02.336Z"
   },
   {
    "duration": 68,
    "start_time": "2022-11-15T10:47:06.038Z"
   },
   {
    "duration": 990,
    "start_time": "2022-11-15T10:47:10.928Z"
   },
   {
    "duration": 13551,
    "start_time": "2022-11-15T10:47:26.912Z"
   },
   {
    "duration": 13671,
    "start_time": "2022-11-15T10:48:00.865Z"
   },
   {
    "duration": 8,
    "start_time": "2022-11-15T10:48:14.538Z"
   },
   {
    "duration": 10,
    "start_time": "2022-11-15T10:48:14.548Z"
   },
   {
    "duration": 767,
    "start_time": "2022-11-15T10:49:14.464Z"
   },
   {
    "duration": 6,
    "start_time": "2022-11-15T10:49:23.536Z"
   },
   {
    "duration": 8,
    "start_time": "2022-11-15T10:49:25.808Z"
   },
   {
    "duration": 105,
    "start_time": "2022-11-15T10:49:27.238Z"
   },
   {
    "duration": 4,
    "start_time": "2022-11-15T10:49:34.831Z"
   },
   {
    "duration": 5,
    "start_time": "2022-11-15T10:49:36.843Z"
   },
   {
    "duration": 97,
    "start_time": "2022-11-15T10:49:40.145Z"
   },
   {
    "duration": 8,
    "start_time": "2022-11-15T10:49:46.456Z"
   },
   {
    "duration": 6,
    "start_time": "2022-11-15T10:51:49.001Z"
   },
   {
    "duration": 166,
    "start_time": "2022-11-15T10:56:17.518Z"
   },
   {
    "duration": 5,
    "start_time": "2022-11-15T10:56:41.570Z"
   },
   {
    "duration": 164,
    "start_time": "2022-11-15T10:56:48.423Z"
   },
   {
    "duration": 238,
    "start_time": "2022-11-15T10:58:10.648Z"
   },
   {
    "duration": 307,
    "start_time": "2022-11-15T11:00:19.591Z"
   },
   {
    "duration": 921,
    "start_time": "2022-11-15T11:00:29.163Z"
   },
   {
    "duration": 183,
    "start_time": "2022-11-15T11:03:48.401Z"
   },
   {
    "duration": 305,
    "start_time": "2022-11-15T11:04:08.241Z"
   },
   {
    "duration": 962,
    "start_time": "2022-11-15T11:04:28.726Z"
   },
   {
    "duration": 178,
    "start_time": "2022-11-15T11:07:14.661Z"
   },
   {
    "duration": 29,
    "start_time": "2022-11-15T11:10:21.786Z"
   },
   {
    "duration": 1375,
    "start_time": "2022-11-15T11:10:28.128Z"
   },
   {
    "duration": 58,
    "start_time": "2022-11-15T11:10:29.505Z"
   },
   {
    "duration": 15,
    "start_time": "2022-11-15T11:10:29.565Z"
   },
   {
    "duration": 5,
    "start_time": "2022-11-15T11:10:29.582Z"
   },
   {
    "duration": 12,
    "start_time": "2022-11-15T11:10:29.589Z"
   },
   {
    "duration": 9,
    "start_time": "2022-11-15T11:10:29.603Z"
   },
   {
    "duration": 38,
    "start_time": "2022-11-15T11:10:29.614Z"
   },
   {
    "duration": 5,
    "start_time": "2022-11-15T11:10:29.654Z"
   },
   {
    "duration": 7,
    "start_time": "2022-11-15T11:10:29.660Z"
   },
   {
    "duration": 13,
    "start_time": "2022-11-15T11:10:29.668Z"
   },
   {
    "duration": 13,
    "start_time": "2022-11-15T11:10:29.682Z"
   },
   {
    "duration": 53,
    "start_time": "2022-11-15T11:10:29.696Z"
   },
   {
    "duration": 69,
    "start_time": "2022-11-15T11:10:29.750Z"
   },
   {
    "duration": 140,
    "start_time": "2022-11-15T11:10:29.827Z"
   },
   {
    "duration": 1084,
    "start_time": "2022-11-15T11:10:29.969Z"
   },
   {
    "duration": 13977,
    "start_time": "2022-11-15T11:10:31.055Z"
   },
   {
    "duration": 798,
    "start_time": "2022-11-15T11:10:45.033Z"
   },
   {
    "duration": 8,
    "start_time": "2022-11-15T11:10:45.833Z"
   },
   {
    "duration": 20,
    "start_time": "2022-11-15T11:10:45.843Z"
   },
   {
    "duration": 132,
    "start_time": "2022-11-15T11:10:45.865Z"
   },
   {
    "duration": 4,
    "start_time": "2022-11-15T11:10:45.998Z"
   },
   {
    "duration": 48,
    "start_time": "2022-11-15T11:10:46.003Z"
   },
   {
    "duration": 99,
    "start_time": "2022-11-15T11:10:46.053Z"
   },
   {
    "duration": 6,
    "start_time": "2022-11-15T11:10:46.153Z"
   },
   {
    "duration": 16,
    "start_time": "2022-11-15T11:10:46.161Z"
   },
   {
    "duration": 192,
    "start_time": "2022-11-15T11:10:46.178Z"
   },
   {
    "duration": 403,
    "start_time": "2022-11-15T11:10:46.372Z"
   },
   {
    "duration": 0,
    "start_time": "2022-11-15T11:10:46.777Z"
   },
   {
    "duration": 0,
    "start_time": "2022-11-15T11:10:46.779Z"
   },
   {
    "duration": 0,
    "start_time": "2022-11-15T11:10:46.780Z"
   },
   {
    "duration": 0,
    "start_time": "2022-11-15T11:10:46.781Z"
   },
   {
    "duration": 1369,
    "start_time": "2022-11-15T11:13:13.954Z"
   },
   {
    "duration": 40,
    "start_time": "2022-11-15T11:13:15.329Z"
   },
   {
    "duration": 21,
    "start_time": "2022-11-15T11:13:15.371Z"
   },
   {
    "duration": 8,
    "start_time": "2022-11-15T11:13:15.394Z"
   },
   {
    "duration": 8,
    "start_time": "2022-11-15T11:13:15.405Z"
   },
   {
    "duration": 23,
    "start_time": "2022-11-15T11:13:15.415Z"
   },
   {
    "duration": 20,
    "start_time": "2022-11-15T11:13:15.440Z"
   },
   {
    "duration": 14,
    "start_time": "2022-11-15T11:13:15.462Z"
   },
   {
    "duration": 13,
    "start_time": "2022-11-15T11:13:15.478Z"
   },
   {
    "duration": 20,
    "start_time": "2022-11-15T11:13:15.493Z"
   },
   {
    "duration": 24,
    "start_time": "2022-11-15T11:13:15.515Z"
   },
   {
    "duration": 35,
    "start_time": "2022-11-15T11:13:15.541Z"
   },
   {
    "duration": 45,
    "start_time": "2022-11-15T11:13:15.577Z"
   },
   {
    "duration": 148,
    "start_time": "2022-11-15T11:13:15.626Z"
   },
   {
    "duration": 1038,
    "start_time": "2022-11-15T11:13:15.776Z"
   },
   {
    "duration": 14122,
    "start_time": "2022-11-15T11:13:16.816Z"
   },
   {
    "duration": 811,
    "start_time": "2022-11-15T11:13:30.940Z"
   },
   {
    "duration": 6,
    "start_time": "2022-11-15T11:13:31.753Z"
   },
   {
    "duration": 22,
    "start_time": "2022-11-15T11:13:31.761Z"
   },
   {
    "duration": 123,
    "start_time": "2022-11-15T11:13:31.784Z"
   },
   {
    "duration": 7,
    "start_time": "2022-11-15T11:13:31.909Z"
   },
   {
    "duration": 54,
    "start_time": "2022-11-15T11:13:31.917Z"
   },
   {
    "duration": 154,
    "start_time": "2022-11-15T11:13:31.973Z"
   },
   {
    "duration": 9,
    "start_time": "2022-11-15T11:13:32.131Z"
   },
   {
    "duration": 41,
    "start_time": "2022-11-15T11:13:32.141Z"
   },
   {
    "duration": 199,
    "start_time": "2022-11-15T11:13:32.183Z"
   },
   {
    "duration": 446,
    "start_time": "2022-11-15T11:13:32.384Z"
   },
   {
    "duration": 0,
    "start_time": "2022-11-15T11:13:32.832Z"
   },
   {
    "duration": 0,
    "start_time": "2022-11-15T11:13:32.833Z"
   },
   {
    "duration": 0,
    "start_time": "2022-11-15T11:13:32.834Z"
   },
   {
    "duration": 0,
    "start_time": "2022-11-15T11:13:32.835Z"
   },
   {
    "duration": 340,
    "start_time": "2022-11-15T11:14:28.824Z"
   },
   {
    "duration": 1416,
    "start_time": "2022-11-15T11:14:38.080Z"
   },
   {
    "duration": 41,
    "start_time": "2022-11-15T11:14:39.498Z"
   },
   {
    "duration": 17,
    "start_time": "2022-11-15T11:14:39.540Z"
   },
   {
    "duration": 9,
    "start_time": "2022-11-15T11:14:39.558Z"
   },
   {
    "duration": 7,
    "start_time": "2022-11-15T11:14:39.569Z"
   },
   {
    "duration": 7,
    "start_time": "2022-11-15T11:14:39.577Z"
   },
   {
    "duration": 14,
    "start_time": "2022-11-15T11:14:39.585Z"
   },
   {
    "duration": 18,
    "start_time": "2022-11-15T11:14:39.600Z"
   },
   {
    "duration": 10,
    "start_time": "2022-11-15T11:14:39.619Z"
   },
   {
    "duration": 21,
    "start_time": "2022-11-15T11:14:39.631Z"
   },
   {
    "duration": 10,
    "start_time": "2022-11-15T11:14:39.654Z"
   },
   {
    "duration": 43,
    "start_time": "2022-11-15T11:14:39.665Z"
   },
   {
    "duration": 111,
    "start_time": "2022-11-15T11:14:39.709Z"
   },
   {
    "duration": 51,
    "start_time": "2022-11-15T11:14:39.915Z"
   },
   {
    "duration": 983,
    "start_time": "2022-11-15T11:14:39.968Z"
   },
   {
    "duration": 13881,
    "start_time": "2022-11-15T11:14:40.952Z"
   },
   {
    "duration": 808,
    "start_time": "2022-11-15T11:14:54.835Z"
   },
   {
    "duration": 7,
    "start_time": "2022-11-15T11:14:55.645Z"
   },
   {
    "duration": 28,
    "start_time": "2022-11-15T11:14:55.653Z"
   },
   {
    "duration": 145,
    "start_time": "2022-11-15T11:14:55.683Z"
   },
   {
    "duration": 4,
    "start_time": "2022-11-15T11:14:55.830Z"
   },
   {
    "duration": 18,
    "start_time": "2022-11-15T11:14:55.836Z"
   },
   {
    "duration": 98,
    "start_time": "2022-11-15T11:14:55.856Z"
   },
   {
    "duration": 7,
    "start_time": "2022-11-15T11:14:55.957Z"
   },
   {
    "duration": 9,
    "start_time": "2022-11-15T11:14:55.965Z"
   },
   {
    "duration": 197,
    "start_time": "2022-11-15T11:14:55.975Z"
   },
   {
    "duration": 527,
    "start_time": "2022-11-15T11:14:56.174Z"
   },
   {
    "duration": 0,
    "start_time": "2022-11-15T11:14:56.703Z"
   },
   {
    "duration": 0,
    "start_time": "2022-11-15T11:14:56.708Z"
   },
   {
    "duration": 0,
    "start_time": "2022-11-15T11:14:56.710Z"
   },
   {
    "duration": 0,
    "start_time": "2022-11-15T11:14:56.712Z"
   },
   {
    "duration": 1321,
    "start_time": "2022-11-15T11:15:38.467Z"
   },
   {
    "duration": 48,
    "start_time": "2022-11-15T11:15:39.790Z"
   },
   {
    "duration": 18,
    "start_time": "2022-11-15T11:15:39.840Z"
   },
   {
    "duration": 28,
    "start_time": "2022-11-15T11:15:39.861Z"
   },
   {
    "duration": 17,
    "start_time": "2022-11-15T11:15:39.891Z"
   },
   {
    "duration": 29,
    "start_time": "2022-11-15T11:15:39.910Z"
   },
   {
    "duration": 41,
    "start_time": "2022-11-15T11:15:39.941Z"
   },
   {
    "duration": 52,
    "start_time": "2022-11-15T11:15:39.984Z"
   },
   {
    "duration": 23,
    "start_time": "2022-11-15T11:15:40.038Z"
   },
   {
    "duration": 69,
    "start_time": "2022-11-15T11:15:40.064Z"
   },
   {
    "duration": 66,
    "start_time": "2022-11-15T11:15:40.137Z"
   },
   {
    "duration": 75,
    "start_time": "2022-11-15T11:15:40.206Z"
   },
   {
    "duration": 35,
    "start_time": "2022-11-15T11:15:40.282Z"
   },
   {
    "duration": 158,
    "start_time": "2022-11-15T11:15:40.320Z"
   },
   {
    "duration": 1040,
    "start_time": "2022-11-15T11:15:40.517Z"
   },
   {
    "duration": 14212,
    "start_time": "2022-11-15T11:15:41.559Z"
   },
   {
    "duration": 883,
    "start_time": "2022-11-15T11:15:55.772Z"
   },
   {
    "duration": 8,
    "start_time": "2022-11-15T11:15:56.657Z"
   },
   {
    "duration": 20,
    "start_time": "2022-11-15T11:15:56.667Z"
   },
   {
    "duration": 148,
    "start_time": "2022-11-15T11:15:56.689Z"
   },
   {
    "duration": 4,
    "start_time": "2022-11-15T11:15:56.839Z"
   },
   {
    "duration": 22,
    "start_time": "2022-11-15T11:15:56.844Z"
   },
   {
    "duration": 105,
    "start_time": "2022-11-15T11:15:56.867Z"
   },
   {
    "duration": 8,
    "start_time": "2022-11-15T11:15:56.974Z"
   },
   {
    "duration": 24,
    "start_time": "2022-11-15T11:15:56.983Z"
   },
   {
    "duration": 10,
    "start_time": "2022-11-15T11:15:57.009Z"
   },
   {
    "duration": 324,
    "start_time": "2022-11-15T11:15:57.021Z"
   },
   {
    "duration": 1108,
    "start_time": "2022-11-15T11:15:57.348Z"
   },
   {
    "duration": 0,
    "start_time": "2022-11-15T11:15:58.458Z"
   },
   {
    "duration": 0,
    "start_time": "2022-11-15T11:15:58.459Z"
   },
   {
    "duration": 0,
    "start_time": "2022-11-15T11:15:58.460Z"
   },
   {
    "duration": 173,
    "start_time": "2022-11-15T11:16:55.231Z"
   },
   {
    "duration": 1454,
    "start_time": "2022-11-15T11:17:04.836Z"
   },
   {
    "duration": 67,
    "start_time": "2022-11-15T11:17:06.293Z"
   },
   {
    "duration": 22,
    "start_time": "2022-11-15T11:17:06.362Z"
   },
   {
    "duration": 8,
    "start_time": "2022-11-15T11:17:06.387Z"
   },
   {
    "duration": 17,
    "start_time": "2022-11-15T11:17:06.396Z"
   },
   {
    "duration": 34,
    "start_time": "2022-11-15T11:17:06.418Z"
   },
   {
    "duration": 43,
    "start_time": "2022-11-15T11:17:06.454Z"
   },
   {
    "duration": 47,
    "start_time": "2022-11-15T11:17:06.499Z"
   },
   {
    "duration": 12,
    "start_time": "2022-11-15T11:17:06.548Z"
   },
   {
    "duration": 22,
    "start_time": "2022-11-15T11:17:06.563Z"
   },
   {
    "duration": 26,
    "start_time": "2022-11-15T11:17:06.587Z"
   },
   {
    "duration": 76,
    "start_time": "2022-11-15T11:17:06.615Z"
   },
   {
    "duration": 37,
    "start_time": "2022-11-15T11:17:06.693Z"
   },
   {
    "duration": 230,
    "start_time": "2022-11-15T11:17:06.732Z"
   },
   {
    "duration": 1066,
    "start_time": "2022-11-15T11:17:06.964Z"
   },
   {
    "duration": 14795,
    "start_time": "2022-11-15T11:17:08.033Z"
   },
   {
    "duration": 854,
    "start_time": "2022-11-15T11:17:22.830Z"
   },
   {
    "duration": 7,
    "start_time": "2022-11-15T11:17:23.685Z"
   },
   {
    "duration": 21,
    "start_time": "2022-11-15T11:17:23.694Z"
   },
   {
    "duration": 147,
    "start_time": "2022-11-15T11:17:23.717Z"
   },
   {
    "duration": 4,
    "start_time": "2022-11-15T11:17:23.866Z"
   },
   {
    "duration": 19,
    "start_time": "2022-11-15T11:17:23.872Z"
   },
   {
    "duration": 104,
    "start_time": "2022-11-15T11:17:23.893Z"
   },
   {
    "duration": 17,
    "start_time": "2022-11-15T11:17:23.999Z"
   },
   {
    "duration": 8,
    "start_time": "2022-11-15T11:17:24.018Z"
   },
   {
    "duration": 231,
    "start_time": "2022-11-15T11:17:24.029Z"
   },
   {
    "duration": 286,
    "start_time": "2022-11-15T11:17:24.262Z"
   },
   {
    "duration": 1046,
    "start_time": "2022-11-15T11:17:24.554Z"
   },
   {
    "duration": 106,
    "start_time": "2022-11-15T11:17:25.602Z"
   },
   {
    "duration": 34,
    "start_time": "2022-11-15T11:17:25.710Z"
   },
   {
    "duration": 144,
    "start_time": "2022-11-15T11:17:25.746Z"
   },
   {
    "duration": 245,
    "start_time": "2022-11-15T11:17:48.669Z"
   },
   {
    "duration": 992,
    "start_time": "2022-11-15T11:17:54.329Z"
   },
   {
    "duration": 343,
    "start_time": "2022-11-15T11:18:06.232Z"
   },
   {
    "duration": 229,
    "start_time": "2022-11-15T11:20:48.282Z"
   },
   {
    "duration": 332,
    "start_time": "2022-11-15T11:22:16.034Z"
   },
   {
    "duration": 1728,
    "start_time": "2022-11-15T11:22:57.128Z"
   },
   {
    "duration": 219,
    "start_time": "2022-11-15T11:24:10.484Z"
   },
   {
    "duration": 1724,
    "start_time": "2022-11-15T11:24:23.457Z"
   },
   {
    "duration": 156,
    "start_time": "2022-11-15T11:25:57.804Z"
   },
   {
    "duration": 510,
    "start_time": "2022-11-15T11:26:38.648Z"
   },
   {
    "duration": 270,
    "start_time": "2022-11-15T11:27:04.779Z"
   },
   {
    "duration": 1615,
    "start_time": "2022-11-15T13:49:20.807Z"
   },
   {
    "duration": 51,
    "start_time": "2022-11-15T13:49:22.426Z"
   },
   {
    "duration": 0,
    "start_time": "2022-11-15T13:49:22.480Z"
   },
   {
    "duration": 0,
    "start_time": "2022-11-15T13:49:22.481Z"
   },
   {
    "duration": 0,
    "start_time": "2022-11-15T13:49:22.483Z"
   },
   {
    "duration": 0,
    "start_time": "2022-11-15T13:49:22.485Z"
   },
   {
    "duration": 0,
    "start_time": "2022-11-15T13:49:22.487Z"
   },
   {
    "duration": 0,
    "start_time": "2022-11-15T13:49:22.488Z"
   },
   {
    "duration": 0,
    "start_time": "2022-11-15T13:49:22.490Z"
   },
   {
    "duration": 0,
    "start_time": "2022-11-15T13:49:22.491Z"
   },
   {
    "duration": 0,
    "start_time": "2022-11-15T13:49:22.493Z"
   },
   {
    "duration": 0,
    "start_time": "2022-11-15T13:49:22.494Z"
   },
   {
    "duration": 0,
    "start_time": "2022-11-15T13:49:22.496Z"
   },
   {
    "duration": 0,
    "start_time": "2022-11-15T13:49:22.498Z"
   },
   {
    "duration": 0,
    "start_time": "2022-11-15T13:49:22.500Z"
   },
   {
    "duration": 0,
    "start_time": "2022-11-15T13:49:22.501Z"
   },
   {
    "duration": 0,
    "start_time": "2022-11-15T13:49:22.503Z"
   },
   {
    "duration": 0,
    "start_time": "2022-11-15T13:49:22.504Z"
   },
   {
    "duration": 0,
    "start_time": "2022-11-15T13:49:22.506Z"
   },
   {
    "duration": 0,
    "start_time": "2022-11-15T13:49:22.508Z"
   },
   {
    "duration": 0,
    "start_time": "2022-11-15T13:49:22.510Z"
   },
   {
    "duration": 0,
    "start_time": "2022-11-15T13:49:22.523Z"
   },
   {
    "duration": 0,
    "start_time": "2022-11-15T13:49:22.525Z"
   },
   {
    "duration": 0,
    "start_time": "2022-11-15T13:49:22.528Z"
   },
   {
    "duration": 0,
    "start_time": "2022-11-15T13:49:22.529Z"
   },
   {
    "duration": 0,
    "start_time": "2022-11-15T13:49:22.531Z"
   },
   {
    "duration": 0,
    "start_time": "2022-11-15T13:49:22.532Z"
   },
   {
    "duration": 0,
    "start_time": "2022-11-15T13:49:22.533Z"
   },
   {
    "duration": 0,
    "start_time": "2022-11-15T13:49:22.534Z"
   },
   {
    "duration": 0,
    "start_time": "2022-11-15T13:49:22.535Z"
   },
   {
    "duration": 0,
    "start_time": "2022-11-15T13:49:22.536Z"
   },
   {
    "duration": 0,
    "start_time": "2022-11-15T13:49:22.537Z"
   },
   {
    "duration": 0,
    "start_time": "2022-11-15T13:49:22.538Z"
   },
   {
    "duration": 0,
    "start_time": "2022-11-15T13:49:22.539Z"
   },
   {
    "duration": 0,
    "start_time": "2022-11-15T13:49:22.542Z"
   },
   {
    "duration": 1348,
    "start_time": "2022-11-15T13:49:39.506Z"
   },
   {
    "duration": 4,
    "start_time": "2022-11-15T13:49:40.856Z"
   },
   {
    "duration": 181,
    "start_time": "2022-11-15T13:49:40.862Z"
   },
   {
    "duration": 16,
    "start_time": "2022-11-15T13:49:41.045Z"
   },
   {
    "duration": 6,
    "start_time": "2022-11-15T13:49:41.063Z"
   },
   {
    "duration": 7,
    "start_time": "2022-11-15T13:49:41.071Z"
   },
   {
    "duration": 7,
    "start_time": "2022-11-15T13:49:41.079Z"
   },
   {
    "duration": 14,
    "start_time": "2022-11-15T13:49:41.087Z"
   },
   {
    "duration": 16,
    "start_time": "2022-11-15T13:49:41.103Z"
   },
   {
    "duration": 7,
    "start_time": "2022-11-15T13:49:41.124Z"
   },
   {
    "duration": 14,
    "start_time": "2022-11-15T13:49:41.132Z"
   },
   {
    "duration": 7,
    "start_time": "2022-11-15T13:49:41.148Z"
   },
   {
    "duration": 43,
    "start_time": "2022-11-15T13:49:41.156Z"
   },
   {
    "duration": 116,
    "start_time": "2022-11-15T13:49:41.200Z"
   },
   {
    "duration": 146,
    "start_time": "2022-11-15T13:49:41.319Z"
   },
   {
    "duration": 1031,
    "start_time": "2022-11-15T13:49:41.466Z"
   },
   {
    "duration": 14029,
    "start_time": "2022-11-15T13:49:42.499Z"
   },
   {
    "duration": 819,
    "start_time": "2022-11-15T13:49:56.530Z"
   },
   {
    "duration": 6,
    "start_time": "2022-11-15T13:49:57.351Z"
   },
   {
    "duration": 21,
    "start_time": "2022-11-15T13:49:57.359Z"
   },
   {
    "duration": 117,
    "start_time": "2022-11-15T13:49:57.382Z"
   },
   {
    "duration": 4,
    "start_time": "2022-11-15T13:49:57.500Z"
   },
   {
    "duration": 14,
    "start_time": "2022-11-15T13:49:57.516Z"
   },
   {
    "duration": 106,
    "start_time": "2022-11-15T13:49:57.532Z"
   },
   {
    "duration": 6,
    "start_time": "2022-11-15T13:49:57.640Z"
   },
   {
    "duration": 7,
    "start_time": "2022-11-15T13:49:57.648Z"
   },
   {
    "duration": 190,
    "start_time": "2022-11-15T13:49:57.657Z"
   },
   {
    "duration": 285,
    "start_time": "2022-11-15T13:49:57.850Z"
   },
   {
    "duration": 966,
    "start_time": "2022-11-15T13:49:58.136Z"
   },
   {
    "duration": 313,
    "start_time": "2022-11-15T13:49:59.104Z"
   },
   {
    "duration": 317,
    "start_time": "2022-11-15T13:49:59.420Z"
   },
   {
    "duration": 1752,
    "start_time": "2022-11-15T13:49:59.738Z"
   },
   {
    "duration": 157,
    "start_time": "2022-11-15T13:50:01.492Z"
   },
   {
    "duration": 285,
    "start_time": "2022-11-15T13:50:01.650Z"
   },
   {
    "duration": 546,
    "start_time": "2022-11-15T13:50:01.936Z"
   },
   {
    "duration": 4,
    "start_time": "2022-11-15T13:56:25.480Z"
   },
   {
    "duration": 170,
    "start_time": "2022-11-15T13:56:31.628Z"
   },
   {
    "duration": 4,
    "start_time": "2022-11-15T13:57:59.169Z"
   },
   {
    "duration": 4,
    "start_time": "2022-11-15T13:57:59.656Z"
   },
   {
    "duration": 4,
    "start_time": "2022-11-15T14:04:36.402Z"
   },
   {
    "duration": 4,
    "start_time": "2022-11-15T14:04:37.332Z"
   },
   {
    "duration": 165,
    "start_time": "2022-11-15T14:04:38.669Z"
   },
   {
    "duration": 259,
    "start_time": "2022-11-15T14:04:47.971Z"
   },
   {
    "duration": 933,
    "start_time": "2022-11-15T14:04:52.685Z"
   },
   {
    "duration": 176,
    "start_time": "2022-11-15T14:05:08.813Z"
   },
   {
    "duration": 338,
    "start_time": "2022-11-15T14:05:40.049Z"
   },
   {
    "duration": 977,
    "start_time": "2022-11-15T14:06:28.172Z"
   },
   {
    "duration": 1350,
    "start_time": "2022-11-15T14:07:07.007Z"
   },
   {
    "duration": 41,
    "start_time": "2022-11-15T14:07:08.359Z"
   },
   {
    "duration": 16,
    "start_time": "2022-11-15T14:07:08.402Z"
   },
   {
    "duration": 5,
    "start_time": "2022-11-15T14:07:08.420Z"
   },
   {
    "duration": 6,
    "start_time": "2022-11-15T14:07:08.427Z"
   },
   {
    "duration": 8,
    "start_time": "2022-11-15T14:07:08.434Z"
   },
   {
    "duration": 17,
    "start_time": "2022-11-15T14:07:08.444Z"
   },
   {
    "duration": 15,
    "start_time": "2022-11-15T14:07:08.463Z"
   },
   {
    "duration": 9,
    "start_time": "2022-11-15T14:07:08.479Z"
   },
   {
    "duration": 30,
    "start_time": "2022-11-15T14:07:08.491Z"
   },
   {
    "duration": 5,
    "start_time": "2022-11-15T14:07:08.523Z"
   },
   {
    "duration": 49,
    "start_time": "2022-11-15T14:07:08.529Z"
   },
   {
    "duration": 40,
    "start_time": "2022-11-15T14:07:08.580Z"
   },
   {
    "duration": 214,
    "start_time": "2022-11-15T14:07:08.623Z"
   },
   {
    "duration": 959,
    "start_time": "2022-11-15T14:07:08.839Z"
   },
   {
    "duration": 13649,
    "start_time": "2022-11-15T14:07:09.800Z"
   },
   {
    "duration": 802,
    "start_time": "2022-11-15T14:07:23.450Z"
   },
   {
    "duration": 8,
    "start_time": "2022-11-15T14:07:24.254Z"
   },
   {
    "duration": 13,
    "start_time": "2022-11-15T14:07:24.263Z"
   },
   {
    "duration": 142,
    "start_time": "2022-11-15T14:07:24.277Z"
   },
   {
    "duration": 5,
    "start_time": "2022-11-15T14:07:24.425Z"
   },
   {
    "duration": 14,
    "start_time": "2022-11-15T14:07:24.431Z"
   },
   {
    "duration": 105,
    "start_time": "2022-11-15T14:07:24.446Z"
   },
   {
    "duration": 6,
    "start_time": "2022-11-15T14:07:24.553Z"
   },
   {
    "duration": 17,
    "start_time": "2022-11-15T14:07:24.561Z"
   },
   {
    "duration": 6,
    "start_time": "2022-11-15T14:07:24.579Z"
   },
   {
    "duration": 11,
    "start_time": "2022-11-15T14:07:24.586Z"
   },
   {
    "duration": 185,
    "start_time": "2022-11-15T14:07:24.600Z"
   },
   {
    "duration": 317,
    "start_time": "2022-11-15T14:07:24.787Z"
   },
   {
    "duration": 1008,
    "start_time": "2022-11-15T14:07:25.105Z"
   },
   {
    "duration": 305,
    "start_time": "2022-11-15T14:07:26.116Z"
   },
   {
    "duration": 313,
    "start_time": "2022-11-15T14:07:26.423Z"
   },
   {
    "duration": 989,
    "start_time": "2022-11-15T14:07:26.737Z"
   },
   {
    "duration": 155,
    "start_time": "2022-11-15T14:07:27.728Z"
   },
   {
    "duration": 330,
    "start_time": "2022-11-15T14:07:27.886Z"
   },
   {
    "duration": 524,
    "start_time": "2022-11-15T14:07:28.220Z"
   },
   {
    "duration": 4,
    "start_time": "2022-11-15T14:09:37.321Z"
   },
   {
    "duration": 179,
    "start_time": "2022-11-15T14:09:40.761Z"
   },
   {
    "duration": 257,
    "start_time": "2022-11-15T14:10:06.292Z"
   },
   {
    "duration": 3,
    "start_time": "2022-11-15T14:12:18.767Z"
   },
   {
    "duration": 175,
    "start_time": "2022-11-15T14:12:31.843Z"
   },
   {
    "duration": 260,
    "start_time": "2022-11-15T14:12:45.161Z"
   },
   {
    "duration": 974,
    "start_time": "2022-11-15T14:12:59.154Z"
   },
   {
    "duration": 223,
    "start_time": "2022-11-15T14:13:33.780Z"
   },
   {
    "duration": 322,
    "start_time": "2022-11-15T14:14:35.810Z"
   },
   {
    "duration": 1026,
    "start_time": "2022-11-15T14:14:46.249Z"
   },
   {
    "duration": 5,
    "start_time": "2022-11-15T14:16:08.788Z"
   },
   {
    "duration": 3,
    "start_time": "2022-11-15T14:16:09.941Z"
   },
   {
    "duration": 275,
    "start_time": "2022-11-15T14:16:11.526Z"
   },
   {
    "duration": 289,
    "start_time": "2022-11-15T14:16:14.350Z"
   },
   {
    "duration": 985,
    "start_time": "2022-11-15T14:16:16.574Z"
   },
   {
    "duration": 233,
    "start_time": "2022-11-15T14:16:21.949Z"
   },
   {
    "duration": 335,
    "start_time": "2022-11-15T14:16:26.568Z"
   },
   {
    "duration": 1690,
    "start_time": "2022-11-15T14:16:34.227Z"
   },
   {
    "duration": 144,
    "start_time": "2022-11-15T14:17:11.131Z"
   },
   {
    "duration": 315,
    "start_time": "2022-11-15T14:17:23.701Z"
   },
   {
    "duration": 492,
    "start_time": "2022-11-15T14:17:37.268Z"
   },
   {
    "duration": 509,
    "start_time": "2022-11-15T14:21:02.580Z"
   },
   {
    "duration": 829,
    "start_time": "2022-11-15T14:24:23.081Z"
   },
   {
    "duration": 870,
    "start_time": "2022-11-15T14:24:49.576Z"
   },
   {
    "duration": 881,
    "start_time": "2022-11-15T14:30:30.385Z"
   },
   {
    "duration": 1526,
    "start_time": "2022-11-16T09:59:11.210Z"
   },
   {
    "duration": 165,
    "start_time": "2022-11-16T09:59:12.738Z"
   },
   {
    "duration": 18,
    "start_time": "2022-11-16T09:59:12.905Z"
   },
   {
    "duration": 5,
    "start_time": "2022-11-16T09:59:12.926Z"
   },
   {
    "duration": 9,
    "start_time": "2022-11-16T09:59:12.933Z"
   },
   {
    "duration": 8,
    "start_time": "2022-11-16T09:59:12.944Z"
   },
   {
    "duration": 17,
    "start_time": "2022-11-16T09:59:12.954Z"
   },
   {
    "duration": 5,
    "start_time": "2022-11-16T09:59:12.973Z"
   },
   {
    "duration": 20,
    "start_time": "2022-11-16T09:59:12.980Z"
   },
   {
    "duration": 11,
    "start_time": "2022-11-16T09:59:13.003Z"
   },
   {
    "duration": 13,
    "start_time": "2022-11-16T09:59:13.016Z"
   },
   {
    "duration": 34,
    "start_time": "2022-11-16T09:59:13.031Z"
   },
   {
    "duration": 44,
    "start_time": "2022-11-16T09:59:13.068Z"
   },
   {
    "duration": 221,
    "start_time": "2022-11-16T09:59:13.114Z"
   },
   {
    "duration": 964,
    "start_time": "2022-11-16T09:59:13.337Z"
   },
   {
    "duration": 13201,
    "start_time": "2022-11-16T09:59:14.302Z"
   },
   {
    "duration": 774,
    "start_time": "2022-11-16T09:59:27.505Z"
   },
   {
    "duration": 16,
    "start_time": "2022-11-16T09:59:28.281Z"
   },
   {
    "duration": 9,
    "start_time": "2022-11-16T09:59:28.299Z"
   },
   {
    "duration": 155,
    "start_time": "2022-11-16T09:59:28.310Z"
   },
   {
    "duration": 4,
    "start_time": "2022-11-16T09:59:28.467Z"
   },
   {
    "duration": 12,
    "start_time": "2022-11-16T09:59:28.473Z"
   },
   {
    "duration": 132,
    "start_time": "2022-11-16T09:59:28.487Z"
   },
   {
    "duration": 8,
    "start_time": "2022-11-16T09:59:28.622Z"
   },
   {
    "duration": 10,
    "start_time": "2022-11-16T09:59:28.632Z"
   },
   {
    "duration": 7,
    "start_time": "2022-11-16T09:59:28.644Z"
   },
   {
    "duration": 9,
    "start_time": "2022-11-16T09:59:28.653Z"
   },
   {
    "duration": 190,
    "start_time": "2022-11-16T09:59:28.665Z"
   },
   {
    "duration": 327,
    "start_time": "2022-11-16T09:59:28.856Z"
   },
   {
    "duration": 906,
    "start_time": "2022-11-16T09:59:29.184Z"
   },
   {
    "duration": 300,
    "start_time": "2022-11-16T09:59:30.097Z"
   },
   {
    "duration": 310,
    "start_time": "2022-11-16T09:59:30.399Z"
   },
   {
    "duration": 1546,
    "start_time": "2022-11-16T09:59:30.711Z"
   },
   {
    "duration": 143,
    "start_time": "2022-11-16T09:59:32.258Z"
   },
   {
    "duration": 315,
    "start_time": "2022-11-16T09:59:32.403Z"
   },
   {
    "duration": 493,
    "start_time": "2022-11-16T09:59:32.720Z"
   },
   {
    "duration": 813,
    "start_time": "2022-11-16T09:59:33.215Z"
   },
   {
    "duration": 4,
    "start_time": "2022-11-16T10:32:56.526Z"
   },
   {
    "duration": 14,
    "start_time": "2022-11-16T10:34:05.922Z"
   },
   {
    "duration": 107,
    "start_time": "2022-11-16T10:34:20.989Z"
   },
   {
    "duration": 9,
    "start_time": "2022-11-16T10:34:27.504Z"
   },
   {
    "duration": 6,
    "start_time": "2022-11-16T10:37:45.278Z"
   },
   {
    "duration": 7,
    "start_time": "2022-11-16T10:54:42.334Z"
   },
   {
    "duration": 5,
    "start_time": "2022-11-16T11:06:00.550Z"
   },
   {
    "duration": 7,
    "start_time": "2022-11-16T11:06:11.701Z"
   },
   {
    "duration": 5,
    "start_time": "2022-11-16T11:06:13.220Z"
   },
   {
    "duration": 18,
    "start_time": "2022-11-16T11:06:16.760Z"
   },
   {
    "duration": 4,
    "start_time": "2022-11-16T11:06:29.687Z"
   },
   {
    "duration": 44,
    "start_time": "2022-11-16T11:06:30.694Z"
   },
   {
    "duration": 54,
    "start_time": "2022-11-16T11:08:23.347Z"
   },
   {
    "duration": 40,
    "start_time": "2022-11-16T11:08:26.042Z"
   },
   {
    "duration": 707,
    "start_time": "2022-11-16T11:08:32.723Z"
   },
   {
    "duration": 10254,
    "start_time": "2022-11-16T11:08:48.802Z"
   },
   {
    "duration": 88,
    "start_time": "2022-11-16T11:13:11.678Z"
   },
   {
    "duration": 637,
    "start_time": "2022-11-16T11:13:24.131Z"
   },
   {
    "duration": 6,
    "start_time": "2022-11-16T11:15:42.379Z"
   },
   {
    "duration": 7,
    "start_time": "2022-11-16T11:20:19.846Z"
   },
   {
    "duration": 125,
    "start_time": "2022-11-16T11:20:23.052Z"
   },
   {
    "duration": 154,
    "start_time": "2022-11-16T11:20:35.547Z"
   },
   {
    "duration": 4,
    "start_time": "2022-11-16T11:22:49.690Z"
   },
   {
    "duration": 6,
    "start_time": "2022-11-16T11:22:51.254Z"
   },
   {
    "duration": 122,
    "start_time": "2022-11-16T11:23:04.302Z"
   },
   {
    "duration": 4,
    "start_time": "2022-11-16T11:29:18.040Z"
   },
   {
    "duration": 4,
    "start_time": "2022-11-16T11:29:20.626Z"
   },
   {
    "duration": 166,
    "start_time": "2022-11-16T11:30:35.940Z"
   },
   {
    "duration": 285,
    "start_time": "2022-11-16T11:30:48.524Z"
   },
   {
    "duration": 763,
    "start_time": "2022-11-16T11:30:57.436Z"
   },
   {
    "duration": 199,
    "start_time": "2022-11-16T11:33:16.900Z"
   },
   {
    "duration": 299,
    "start_time": "2022-11-16T11:33:24.489Z"
   },
   {
    "duration": 1402,
    "start_time": "2022-11-16T11:33:35.453Z"
   },
   {
    "duration": 142,
    "start_time": "2022-11-16T11:36:11.723Z"
   },
   {
    "duration": 269,
    "start_time": "2022-11-16T11:36:23.134Z"
   },
   {
    "duration": 429,
    "start_time": "2022-11-16T11:36:35.272Z"
   },
   {
    "duration": 133,
    "start_time": "2022-11-16T11:41:42.943Z"
   },
   {
    "duration": 341,
    "start_time": "2022-11-16T11:41:48.068Z"
   },
   {
    "duration": 425,
    "start_time": "2022-11-16T11:42:11.222Z"
   },
   {
    "duration": 613,
    "start_time": "2022-11-16T13:42:00.101Z"
   },
   {
    "duration": 1316,
    "start_time": "2022-11-16T13:44:06.588Z"
   },
   {
    "duration": 40,
    "start_time": "2022-11-16T13:44:07.906Z"
   },
   {
    "duration": 14,
    "start_time": "2022-11-16T13:44:07.948Z"
   },
   {
    "duration": 9,
    "start_time": "2022-11-16T13:44:07.964Z"
   },
   {
    "duration": 14,
    "start_time": "2022-11-16T13:44:07.974Z"
   },
   {
    "duration": 21,
    "start_time": "2022-11-16T13:44:07.990Z"
   },
   {
    "duration": 16,
    "start_time": "2022-11-16T13:44:08.013Z"
   },
   {
    "duration": 10,
    "start_time": "2022-11-16T13:44:08.031Z"
   },
   {
    "duration": 16,
    "start_time": "2022-11-16T13:44:08.042Z"
   },
   {
    "duration": 9,
    "start_time": "2022-11-16T13:44:08.060Z"
   },
   {
    "duration": 23,
    "start_time": "2022-11-16T13:44:08.070Z"
   },
   {
    "duration": 11,
    "start_time": "2022-11-16T13:44:08.094Z"
   },
   {
    "duration": 37,
    "start_time": "2022-11-16T13:44:08.106Z"
   },
   {
    "duration": 55,
    "start_time": "2022-11-16T13:44:08.145Z"
   },
   {
    "duration": 143,
    "start_time": "2022-11-16T13:44:08.202Z"
   },
   {
    "duration": 709,
    "start_time": "2022-11-16T13:44:08.347Z"
   },
   {
    "duration": 10631,
    "start_time": "2022-11-16T13:44:09.057Z"
   },
   {
    "duration": 603,
    "start_time": "2022-11-16T13:44:19.689Z"
   },
   {
    "duration": 7,
    "start_time": "2022-11-16T13:44:20.294Z"
   },
   {
    "duration": 26,
    "start_time": "2022-11-16T13:44:20.302Z"
   },
   {
    "duration": 122,
    "start_time": "2022-11-16T13:44:20.329Z"
   },
   {
    "duration": 3,
    "start_time": "2022-11-16T13:44:20.453Z"
   },
   {
    "duration": 11,
    "start_time": "2022-11-16T13:44:20.458Z"
   },
   {
    "duration": 84,
    "start_time": "2022-11-16T13:44:20.471Z"
   },
   {
    "duration": 5,
    "start_time": "2022-11-16T13:44:20.557Z"
   },
   {
    "duration": 6,
    "start_time": "2022-11-16T13:44:20.564Z"
   },
   {
    "duration": 5,
    "start_time": "2022-11-16T13:44:20.571Z"
   },
   {
    "duration": 4,
    "start_time": "2022-11-16T13:44:20.599Z"
   },
   {
    "duration": 152,
    "start_time": "2022-11-16T13:44:20.604Z"
   },
   {
    "duration": 317,
    "start_time": "2022-11-16T13:44:20.758Z"
   },
   {
    "duration": 752,
    "start_time": "2022-11-16T13:44:21.077Z"
   },
   {
    "duration": 307,
    "start_time": "2022-11-16T13:44:21.830Z"
   },
   {
    "duration": 362,
    "start_time": "2022-11-16T13:44:22.139Z"
   },
   {
    "duration": 1256,
    "start_time": "2022-11-16T13:44:22.502Z"
   },
   {
    "duration": 142,
    "start_time": "2022-11-16T13:44:23.760Z"
   },
   {
    "duration": 315,
    "start_time": "2022-11-16T13:44:23.904Z"
   },
   {
    "duration": 436,
    "start_time": "2022-11-16T13:44:24.221Z"
   },
   {
    "duration": 643,
    "start_time": "2022-11-16T13:44:24.659Z"
   },
   {
    "duration": 592,
    "start_time": "2022-11-16T13:47:11.440Z"
   },
   {
    "duration": 1269,
    "start_time": "2022-11-16T13:47:16.094Z"
   },
   {
    "duration": 39,
    "start_time": "2022-11-16T13:47:17.365Z"
   },
   {
    "duration": 15,
    "start_time": "2022-11-16T13:47:17.406Z"
   },
   {
    "duration": 12,
    "start_time": "2022-11-16T13:47:17.423Z"
   },
   {
    "duration": 18,
    "start_time": "2022-11-16T13:47:17.436Z"
   },
   {
    "duration": 23,
    "start_time": "2022-11-16T13:47:17.456Z"
   },
   {
    "duration": 16,
    "start_time": "2022-11-16T13:47:17.480Z"
   },
   {
    "duration": 19,
    "start_time": "2022-11-16T13:47:17.497Z"
   },
   {
    "duration": 11,
    "start_time": "2022-11-16T13:47:17.517Z"
   },
   {
    "duration": 25,
    "start_time": "2022-11-16T13:47:17.530Z"
   },
   {
    "duration": 20,
    "start_time": "2022-11-16T13:47:17.557Z"
   },
   {
    "duration": 14,
    "start_time": "2022-11-16T13:47:17.578Z"
   },
   {
    "duration": 42,
    "start_time": "2022-11-16T13:47:17.593Z"
   },
   {
    "duration": 17,
    "start_time": "2022-11-16T13:47:17.637Z"
   },
   {
    "duration": 136,
    "start_time": "2022-11-16T13:47:17.698Z"
   },
   {
    "duration": 769,
    "start_time": "2022-11-16T13:47:17.836Z"
   },
   {
    "duration": 10095,
    "start_time": "2022-11-16T13:47:18.607Z"
   },
   {
    "duration": 584,
    "start_time": "2022-11-16T13:47:28.703Z"
   },
   {
    "duration": 13,
    "start_time": "2022-11-16T13:47:29.288Z"
   },
   {
    "duration": 18,
    "start_time": "2022-11-16T13:47:29.303Z"
   },
   {
    "duration": 120,
    "start_time": "2022-11-16T13:47:29.323Z"
   },
   {
    "duration": 3,
    "start_time": "2022-11-16T13:47:29.445Z"
   },
   {
    "duration": 11,
    "start_time": "2022-11-16T13:47:29.450Z"
   },
   {
    "duration": 84,
    "start_time": "2022-11-16T13:47:29.463Z"
   },
   {
    "duration": 6,
    "start_time": "2022-11-16T13:47:29.549Z"
   },
   {
    "duration": 6,
    "start_time": "2022-11-16T13:47:29.557Z"
   },
   {
    "duration": 5,
    "start_time": "2022-11-16T13:47:29.564Z"
   },
   {
    "duration": 3,
    "start_time": "2022-11-16T13:47:29.597Z"
   },
   {
    "duration": 150,
    "start_time": "2022-11-16T13:47:29.602Z"
   },
   {
    "duration": 347,
    "start_time": "2022-11-16T13:47:29.754Z"
   },
   {
    "duration": 745,
    "start_time": "2022-11-16T13:47:30.103Z"
   },
   {
    "duration": 240,
    "start_time": "2022-11-16T13:47:30.849Z"
   },
   {
    "duration": 306,
    "start_time": "2022-11-16T13:47:31.097Z"
   },
   {
    "duration": 1206,
    "start_time": "2022-11-16T13:47:31.405Z"
   },
   {
    "duration": 129,
    "start_time": "2022-11-16T13:47:32.612Z"
   },
   {
    "duration": 256,
    "start_time": "2022-11-16T13:47:32.743Z"
   },
   {
    "duration": 398,
    "start_time": "2022-11-16T13:47:33.001Z"
   },
   {
    "duration": 580,
    "start_time": "2022-11-16T13:47:33.401Z"
   },
   {
    "duration": 634,
    "start_time": "2022-11-16T13:49:28.030Z"
   },
   {
    "duration": 589,
    "start_time": "2022-11-16T13:49:35.513Z"
   },
   {
    "duration": 792,
    "start_time": "2022-11-16T13:50:51.253Z"
   },
   {
    "duration": 789,
    "start_time": "2022-11-16T13:52:05.423Z"
   },
   {
    "duration": 6,
    "start_time": "2022-11-16T13:53:40.370Z"
   },
   {
    "duration": 10,
    "start_time": "2022-11-16T13:54:21.360Z"
   },
   {
    "duration": 9,
    "start_time": "2022-11-16T13:56:45.074Z"
   },
   {
    "duration": 4,
    "start_time": "2022-11-16T13:57:08.727Z"
   },
   {
    "duration": 6,
    "start_time": "2022-11-16T13:57:54.793Z"
   },
   {
    "duration": 17,
    "start_time": "2022-11-16T13:59:01.938Z"
   },
   {
    "duration": 9,
    "start_time": "2022-11-16T13:59:24.920Z"
   },
   {
    "duration": 780,
    "start_time": "2022-11-16T14:01:44.508Z"
   },
   {
    "duration": 804,
    "start_time": "2022-11-16T14:01:55.703Z"
   },
   {
    "duration": 724,
    "start_time": "2022-11-16T14:02:04.879Z"
   },
   {
    "duration": 768,
    "start_time": "2022-11-16T14:02:10.707Z"
   },
   {
    "duration": 710,
    "start_time": "2022-11-16T14:02:48.114Z"
   },
   {
    "duration": 6,
    "start_time": "2022-11-16T14:04:27.063Z"
   },
   {
    "duration": 860,
    "start_time": "2022-11-16T14:04:34.369Z"
   },
   {
    "duration": 937,
    "start_time": "2022-11-16T14:04:45.247Z"
   },
   {
    "duration": 805,
    "start_time": "2022-11-16T14:05:10.696Z"
   },
   {
    "duration": 5,
    "start_time": "2022-11-16T14:05:27.329Z"
   },
   {
    "duration": 863,
    "start_time": "2022-11-16T14:05:35.310Z"
   },
   {
    "duration": 819,
    "start_time": "2022-11-16T14:05:48.171Z"
   },
   {
    "duration": 1281,
    "start_time": "2022-11-16T14:05:57.995Z"
   },
   {
    "duration": 40,
    "start_time": "2022-11-16T14:05:59.278Z"
   },
   {
    "duration": 15,
    "start_time": "2022-11-16T14:05:59.320Z"
   },
   {
    "duration": 4,
    "start_time": "2022-11-16T14:05:59.337Z"
   },
   {
    "duration": 17,
    "start_time": "2022-11-16T14:05:59.342Z"
   },
   {
    "duration": 7,
    "start_time": "2022-11-16T14:05:59.361Z"
   },
   {
    "duration": 15,
    "start_time": "2022-11-16T14:05:59.369Z"
   },
   {
    "duration": 5,
    "start_time": "2022-11-16T14:05:59.386Z"
   },
   {
    "duration": 8,
    "start_time": "2022-11-16T14:05:59.392Z"
   },
   {
    "duration": 9,
    "start_time": "2022-11-16T14:05:59.403Z"
   },
   {
    "duration": 10,
    "start_time": "2022-11-16T14:05:59.413Z"
   },
   {
    "duration": 34,
    "start_time": "2022-11-16T14:05:59.424Z"
   },
   {
    "duration": 6,
    "start_time": "2022-11-16T14:05:59.460Z"
   },
   {
    "duration": 35,
    "start_time": "2022-11-16T14:05:59.468Z"
   },
   {
    "duration": 18,
    "start_time": "2022-11-16T14:05:59.504Z"
   },
   {
    "duration": 214,
    "start_time": "2022-11-16T14:05:59.524Z"
   },
   {
    "duration": 932,
    "start_time": "2022-11-16T14:05:59.739Z"
   },
   {
    "duration": 12420,
    "start_time": "2022-11-16T14:06:00.672Z"
   },
   {
    "duration": 742,
    "start_time": "2022-11-16T14:06:13.093Z"
   },
   {
    "duration": 7,
    "start_time": "2022-11-16T14:06:13.836Z"
   },
   {
    "duration": 13,
    "start_time": "2022-11-16T14:06:13.845Z"
   },
   {
    "duration": 153,
    "start_time": "2022-11-16T14:06:13.860Z"
   },
   {
    "duration": 3,
    "start_time": "2022-11-16T14:06:14.015Z"
   },
   {
    "duration": 16,
    "start_time": "2022-11-16T14:06:14.020Z"
   },
   {
    "duration": 102,
    "start_time": "2022-11-16T14:06:14.037Z"
   },
   {
    "duration": 5,
    "start_time": "2022-11-16T14:06:14.141Z"
   },
   {
    "duration": 8,
    "start_time": "2022-11-16T14:06:14.147Z"
   },
   {
    "duration": 4,
    "start_time": "2022-11-16T14:06:14.158Z"
   },
   {
    "duration": 6,
    "start_time": "2022-11-16T14:06:14.163Z"
   },
   {
    "duration": 186,
    "start_time": "2022-11-16T14:06:14.170Z"
   },
   {
    "duration": 346,
    "start_time": "2022-11-16T14:06:14.358Z"
   },
   {
    "duration": 940,
    "start_time": "2022-11-16T14:06:14.706Z"
   },
   {
    "duration": 285,
    "start_time": "2022-11-16T14:06:15.648Z"
   },
   {
    "duration": 363,
    "start_time": "2022-11-16T14:06:15.935Z"
   },
   {
    "duration": 1442,
    "start_time": "2022-11-16T14:06:16.300Z"
   },
   {
    "duration": 133,
    "start_time": "2022-11-16T14:06:17.744Z"
   },
   {
    "duration": 331,
    "start_time": "2022-11-16T14:06:17.878Z"
   },
   {
    "duration": 422,
    "start_time": "2022-11-16T14:06:18.211Z"
   },
   {
    "duration": 864,
    "start_time": "2022-11-16T14:06:18.635Z"
   },
   {
    "duration": 1278,
    "start_time": "2022-11-16T14:09:58.022Z"
   },
   {
    "duration": 41,
    "start_time": "2022-11-16T14:09:59.301Z"
   },
   {
    "duration": 14,
    "start_time": "2022-11-16T14:09:59.343Z"
   },
   {
    "duration": 8,
    "start_time": "2022-11-16T14:09:59.359Z"
   },
   {
    "duration": 20,
    "start_time": "2022-11-16T14:09:59.368Z"
   },
   {
    "duration": 15,
    "start_time": "2022-11-16T14:09:59.389Z"
   },
   {
    "duration": 23,
    "start_time": "2022-11-16T14:09:59.406Z"
   },
   {
    "duration": 18,
    "start_time": "2022-11-16T14:09:59.430Z"
   },
   {
    "duration": 11,
    "start_time": "2022-11-16T14:09:59.449Z"
   },
   {
    "duration": 39,
    "start_time": "2022-11-16T14:09:59.462Z"
   },
   {
    "duration": 23,
    "start_time": "2022-11-16T14:09:59.502Z"
   },
   {
    "duration": 21,
    "start_time": "2022-11-16T14:09:59.526Z"
   },
   {
    "duration": 14,
    "start_time": "2022-11-16T14:09:59.548Z"
   },
   {
    "duration": 44,
    "start_time": "2022-11-16T14:09:59.564Z"
   },
   {
    "duration": 24,
    "start_time": "2022-11-16T14:09:59.609Z"
   },
   {
    "duration": 143,
    "start_time": "2022-11-16T14:09:59.698Z"
   },
   {
    "duration": 936,
    "start_time": "2022-11-16T14:09:59.842Z"
   },
   {
    "duration": 12584,
    "start_time": "2022-11-16T14:10:00.780Z"
   },
   {
    "duration": 707,
    "start_time": "2022-11-16T14:10:13.365Z"
   },
   {
    "duration": 5,
    "start_time": "2022-11-16T14:10:14.074Z"
   },
   {
    "duration": 18,
    "start_time": "2022-11-16T14:10:14.080Z"
   },
   {
    "duration": 128,
    "start_time": "2022-11-16T14:10:14.099Z"
   },
   {
    "duration": 3,
    "start_time": "2022-11-16T14:10:14.229Z"
   },
   {
    "duration": 18,
    "start_time": "2022-11-16T14:10:14.233Z"
   },
   {
    "duration": 88,
    "start_time": "2022-11-16T14:10:14.253Z"
   },
   {
    "duration": 5,
    "start_time": "2022-11-16T14:10:14.343Z"
   },
   {
    "duration": 24,
    "start_time": "2022-11-16T14:10:14.350Z"
   },
   {
    "duration": 23,
    "start_time": "2022-11-16T14:10:14.377Z"
   },
   {
    "duration": 17,
    "start_time": "2022-11-16T14:10:14.402Z"
   },
   {
    "duration": 177,
    "start_time": "2022-11-16T14:10:14.420Z"
   },
   {
    "duration": 340,
    "start_time": "2022-11-16T14:10:14.599Z"
   },
   {
    "duration": 856,
    "start_time": "2022-11-16T14:10:14.941Z"
   },
   {
    "duration": 293,
    "start_time": "2022-11-16T14:10:15.799Z"
   },
   {
    "duration": 284,
    "start_time": "2022-11-16T14:10:16.097Z"
   },
   {
    "duration": 1478,
    "start_time": "2022-11-16T14:10:16.382Z"
   },
   {
    "duration": 145,
    "start_time": "2022-11-16T14:10:17.862Z"
   },
   {
    "duration": 315,
    "start_time": "2022-11-16T14:10:18.009Z"
   },
   {
    "duration": 429,
    "start_time": "2022-11-16T14:10:18.326Z"
   },
   {
    "duration": 918,
    "start_time": "2022-11-16T14:10:18.756Z"
   },
   {
    "duration": 57,
    "start_time": "2022-11-16T14:15:16.432Z"
   },
   {
    "duration": 7,
    "start_time": "2022-11-16T14:15:26.026Z"
   },
   {
    "duration": 4,
    "start_time": "2022-11-16T14:15:27.876Z"
   },
   {
    "duration": 4,
    "start_time": "2022-11-16T14:15:29.023Z"
   },
   {
    "duration": 4,
    "start_time": "2022-11-16T14:15:29.929Z"
   },
   {
    "duration": 1300,
    "start_time": "2022-11-16T14:15:36.980Z"
   },
   {
    "duration": 40,
    "start_time": "2022-11-16T14:15:38.282Z"
   },
   {
    "duration": 14,
    "start_time": "2022-11-16T14:15:38.324Z"
   },
   {
    "duration": 4,
    "start_time": "2022-11-16T14:15:38.340Z"
   },
   {
    "duration": 5,
    "start_time": "2022-11-16T14:15:38.346Z"
   },
   {
    "duration": 6,
    "start_time": "2022-11-16T14:15:38.352Z"
   },
   {
    "duration": 13,
    "start_time": "2022-11-16T14:15:38.359Z"
   },
   {
    "duration": 4,
    "start_time": "2022-11-16T14:15:38.373Z"
   },
   {
    "duration": 5,
    "start_time": "2022-11-16T14:15:38.378Z"
   },
   {
    "duration": 13,
    "start_time": "2022-11-16T14:15:38.384Z"
   },
   {
    "duration": 7,
    "start_time": "2022-11-16T14:15:38.398Z"
   },
   {
    "duration": 6,
    "start_time": "2022-11-16T14:15:38.406Z"
   },
   {
    "duration": 5,
    "start_time": "2022-11-16T14:15:38.413Z"
   },
   {
    "duration": 8,
    "start_time": "2022-11-16T14:15:38.421Z"
   },
   {
    "duration": 10,
    "start_time": "2022-11-16T14:15:38.430Z"
   },
   {
    "duration": 16,
    "start_time": "2022-11-16T14:15:38.441Z"
   },
   {
    "duration": 6,
    "start_time": "2022-11-16T14:15:38.458Z"
   },
   {
    "duration": 40,
    "start_time": "2022-11-16T14:15:38.465Z"
   },
   {
    "duration": 93,
    "start_time": "2022-11-16T14:15:38.506Z"
   },
   {
    "duration": 127,
    "start_time": "2022-11-16T14:15:38.601Z"
   },
   {
    "duration": 763,
    "start_time": "2022-11-16T14:15:38.730Z"
   },
   {
    "duration": 10252,
    "start_time": "2022-11-16T14:15:39.494Z"
   },
   {
    "duration": 599,
    "start_time": "2022-11-16T14:15:49.748Z"
   },
   {
    "duration": 5,
    "start_time": "2022-11-16T14:15:50.349Z"
   },
   {
    "duration": 9,
    "start_time": "2022-11-16T14:15:50.355Z"
   },
   {
    "duration": 121,
    "start_time": "2022-11-16T14:15:50.365Z"
   },
   {
    "duration": 10,
    "start_time": "2022-11-16T14:15:50.488Z"
   },
   {
    "duration": 15,
    "start_time": "2022-11-16T14:15:50.500Z"
   },
   {
    "duration": 79,
    "start_time": "2022-11-16T14:15:50.517Z"
   },
   {
    "duration": 5,
    "start_time": "2022-11-16T14:15:50.598Z"
   },
   {
    "duration": 10,
    "start_time": "2022-11-16T14:15:50.604Z"
   },
   {
    "duration": 13,
    "start_time": "2022-11-16T14:15:50.615Z"
   },
   {
    "duration": 10,
    "start_time": "2022-11-16T14:15:50.629Z"
   },
   {
    "duration": 141,
    "start_time": "2022-11-16T14:15:50.640Z"
   },
   {
    "duration": 299,
    "start_time": "2022-11-16T14:15:50.782Z"
   },
   {
    "duration": 721,
    "start_time": "2022-11-16T14:15:51.082Z"
   },
   {
    "duration": 248,
    "start_time": "2022-11-16T14:15:51.804Z"
   },
   {
    "duration": 329,
    "start_time": "2022-11-16T14:15:52.053Z"
   },
   {
    "duration": 1195,
    "start_time": "2022-11-16T14:15:52.384Z"
   },
   {
    "duration": 129,
    "start_time": "2022-11-16T14:15:53.580Z"
   },
   {
    "duration": 287,
    "start_time": "2022-11-16T14:15:53.712Z"
   },
   {
    "duration": 398,
    "start_time": "2022-11-16T14:15:54.001Z"
   },
   {
    "duration": 811,
    "start_time": "2022-11-16T14:15:54.401Z"
   },
   {
    "duration": 9,
    "start_time": "2022-11-16T14:18:21.970Z"
   },
   {
    "duration": 836,
    "start_time": "2022-11-16T14:22:02.888Z"
   },
   {
    "duration": 927,
    "start_time": "2022-11-16T14:22:24.253Z"
   },
   {
    "duration": 722,
    "start_time": "2022-11-16T14:24:10.923Z"
   },
   {
    "duration": 141,
    "start_time": "2022-11-16T14:27:42.141Z"
   },
   {
    "duration": 312,
    "start_time": "2022-11-16T14:28:39.288Z"
   },
   {
    "duration": 275,
    "start_time": "2022-11-16T14:29:35.632Z"
   },
   {
    "duration": 747,
    "start_time": "2022-11-16T14:43:15.429Z"
   },
   {
    "duration": 820,
    "start_time": "2022-11-16T14:43:57.878Z"
   },
   {
    "duration": 770,
    "start_time": "2022-11-16T14:44:12.179Z"
   },
   {
    "duration": 750,
    "start_time": "2022-11-16T14:44:21.306Z"
   },
   {
    "duration": 735,
    "start_time": "2022-11-16T14:44:45.923Z"
   },
   {
    "duration": 738,
    "start_time": "2022-11-16T14:46:37.594Z"
   },
   {
    "duration": 761,
    "start_time": "2022-11-16T14:46:44.584Z"
   },
   {
    "duration": 686,
    "start_time": "2022-11-16T14:48:02.017Z"
   },
   {
    "duration": 788,
    "start_time": "2022-11-16T14:48:42.293Z"
   },
   {
    "duration": 413,
    "start_time": "2022-11-16T14:50:41.120Z"
   },
   {
    "duration": 1164,
    "start_time": "2022-11-16T14:51:28.192Z"
   },
   {
    "duration": 1175,
    "start_time": "2022-11-16T14:51:43.344Z"
   },
   {
    "duration": 561,
    "start_time": "2022-11-16T14:52:08.429Z"
   },
   {
    "duration": 728,
    "start_time": "2022-11-16T14:52:20.225Z"
   },
   {
    "duration": 57,
    "start_time": "2022-11-16T14:52:58.945Z"
   },
   {
    "duration": 777,
    "start_time": "2022-11-16T14:53:04.770Z"
   },
   {
    "duration": 720,
    "start_time": "2022-11-16T14:53:37.877Z"
   },
   {
    "duration": 835,
    "start_time": "2022-11-16T14:53:57.539Z"
   },
   {
    "duration": 161,
    "start_time": "2022-11-16T14:56:09.281Z"
   },
   {
    "duration": 145,
    "start_time": "2022-11-16T14:56:26.041Z"
   },
   {
    "duration": 4,
    "start_time": "2022-11-16T14:57:22.179Z"
   },
   {
    "duration": 142,
    "start_time": "2022-11-16T14:57:38.877Z"
   },
   {
    "duration": 150,
    "start_time": "2022-11-16T14:57:45.251Z"
   },
   {
    "duration": 161,
    "start_time": "2022-11-16T14:57:49.038Z"
   },
   {
    "duration": 4,
    "start_time": "2022-11-16T14:58:05.135Z"
   },
   {
    "duration": 1407,
    "start_time": "2022-11-16T14:58:29.077Z"
   },
   {
    "duration": 45,
    "start_time": "2022-11-16T14:58:30.485Z"
   },
   {
    "duration": 17,
    "start_time": "2022-11-16T14:58:30.532Z"
   },
   {
    "duration": 33,
    "start_time": "2022-11-16T14:58:30.551Z"
   },
   {
    "duration": 33,
    "start_time": "2022-11-16T14:58:30.586Z"
   },
   {
    "duration": 16,
    "start_time": "2022-11-16T14:58:30.621Z"
   },
   {
    "duration": 29,
    "start_time": "2022-11-16T14:58:30.638Z"
   },
   {
    "duration": 29,
    "start_time": "2022-11-16T14:58:30.668Z"
   },
   {
    "duration": 17,
    "start_time": "2022-11-16T14:58:30.698Z"
   },
   {
    "duration": 25,
    "start_time": "2022-11-16T14:58:30.718Z"
   },
   {
    "duration": 17,
    "start_time": "2022-11-16T14:58:30.745Z"
   },
   {
    "duration": 34,
    "start_time": "2022-11-16T14:58:30.764Z"
   },
   {
    "duration": 18,
    "start_time": "2022-11-16T14:58:30.800Z"
   },
   {
    "duration": 47,
    "start_time": "2022-11-16T14:58:30.819Z"
   },
   {
    "duration": 28,
    "start_time": "2022-11-16T14:58:30.868Z"
   },
   {
    "duration": 36,
    "start_time": "2022-11-16T14:58:30.897Z"
   },
   {
    "duration": 9,
    "start_time": "2022-11-16T14:58:30.935Z"
   },
   {
    "duration": 29,
    "start_time": "2022-11-16T14:58:30.946Z"
   },
   {
    "duration": 22,
    "start_time": "2022-11-16T14:58:30.977Z"
   },
   {
    "duration": 226,
    "start_time": "2022-11-16T14:58:31.001Z"
   },
   {
    "duration": 914,
    "start_time": "2022-11-16T14:58:31.229Z"
   },
   {
    "duration": 10774,
    "start_time": "2022-11-16T14:58:32.144Z"
   },
   {
    "duration": 588,
    "start_time": "2022-11-16T14:58:42.920Z"
   },
   {
    "duration": 6,
    "start_time": "2022-11-16T14:58:43.510Z"
   },
   {
    "duration": 6,
    "start_time": "2022-11-16T14:58:43.518Z"
   },
   {
    "duration": 130,
    "start_time": "2022-11-16T14:58:43.525Z"
   },
   {
    "duration": 4,
    "start_time": "2022-11-16T14:58:43.657Z"
   },
   {
    "duration": 9,
    "start_time": "2022-11-16T14:58:43.665Z"
   },
   {
    "duration": 89,
    "start_time": "2022-11-16T14:58:43.675Z"
   },
   {
    "duration": 5,
    "start_time": "2022-11-16T14:58:43.766Z"
   },
   {
    "duration": 24,
    "start_time": "2022-11-16T14:58:43.773Z"
   },
   {
    "duration": 4,
    "start_time": "2022-11-16T14:58:43.798Z"
   },
   {
    "duration": 6,
    "start_time": "2022-11-16T14:58:43.803Z"
   },
   {
    "duration": 156,
    "start_time": "2022-11-16T14:58:43.810Z"
   },
   {
    "duration": 332,
    "start_time": "2022-11-16T14:58:43.968Z"
   },
   {
    "duration": 768,
    "start_time": "2022-11-16T14:58:44.301Z"
   },
   {
    "duration": 242,
    "start_time": "2022-11-16T14:58:45.071Z"
   },
   {
    "duration": 283,
    "start_time": "2022-11-16T14:58:45.315Z"
   },
   {
    "duration": 1237,
    "start_time": "2022-11-16T14:58:45.599Z"
   },
   {
    "duration": 132,
    "start_time": "2022-11-16T14:58:46.837Z"
   },
   {
    "duration": 313,
    "start_time": "2022-11-16T14:58:46.970Z"
   },
   {
    "duration": 384,
    "start_time": "2022-11-16T14:58:47.285Z"
   },
   {
    "duration": 739,
    "start_time": "2022-11-16T14:58:47.670Z"
   },
   {
    "duration": 161,
    "start_time": "2022-11-16T14:58:48.411Z"
   },
   {
    "duration": 310,
    "start_time": "2022-11-16T14:58:48.574Z"
   },
   {
    "duration": 299,
    "start_time": "2022-11-16T14:59:16.686Z"
   },
   {
    "duration": 9967,
    "start_time": "2022-11-16T14:59:35.711Z"
   },
   {
    "duration": 9945,
    "start_time": "2022-11-16T15:00:00.277Z"
   },
   {
    "duration": 1263,
    "start_time": "2022-11-16T15:44:05.703Z"
   },
   {
    "duration": 40,
    "start_time": "2022-11-16T15:44:06.968Z"
   },
   {
    "duration": 14,
    "start_time": "2022-11-16T15:44:07.010Z"
   },
   {
    "duration": 13,
    "start_time": "2022-11-16T15:44:07.026Z"
   },
   {
    "duration": 8,
    "start_time": "2022-11-16T15:44:07.040Z"
   },
   {
    "duration": 6,
    "start_time": "2022-11-16T15:44:07.049Z"
   },
   {
    "duration": 14,
    "start_time": "2022-11-16T15:44:07.056Z"
   },
   {
    "duration": 4,
    "start_time": "2022-11-16T15:44:07.071Z"
   },
   {
    "duration": 10,
    "start_time": "2022-11-16T15:44:07.077Z"
   },
   {
    "duration": 8,
    "start_time": "2022-11-16T15:44:07.089Z"
   },
   {
    "duration": 8,
    "start_time": "2022-11-16T15:44:07.099Z"
   },
   {
    "duration": 12,
    "start_time": "2022-11-16T15:44:07.109Z"
   },
   {
    "duration": 6,
    "start_time": "2022-11-16T15:44:07.122Z"
   },
   {
    "duration": 30,
    "start_time": "2022-11-16T15:44:07.129Z"
   },
   {
    "duration": 45,
    "start_time": "2022-11-16T15:44:07.161Z"
   },
   {
    "duration": 117,
    "start_time": "2022-11-16T15:44:07.298Z"
   },
   {
    "duration": 881,
    "start_time": "2022-11-16T15:44:07.417Z"
   },
   {
    "duration": 11971,
    "start_time": "2022-11-16T15:44:08.299Z"
   },
   {
    "duration": 673,
    "start_time": "2022-11-16T15:44:20.271Z"
   },
   {
    "duration": 6,
    "start_time": "2022-11-16T15:44:20.946Z"
   },
   {
    "duration": 8,
    "start_time": "2022-11-16T15:44:20.953Z"
   },
   {
    "duration": 134,
    "start_time": "2022-11-16T15:44:20.962Z"
   },
   {
    "duration": 3,
    "start_time": "2022-11-16T15:44:21.097Z"
   },
   {
    "duration": 12,
    "start_time": "2022-11-16T15:44:21.102Z"
   },
   {
    "duration": 86,
    "start_time": "2022-11-16T15:44:21.115Z"
   },
   {
    "duration": 5,
    "start_time": "2022-11-16T15:44:21.203Z"
   },
   {
    "duration": 11,
    "start_time": "2022-11-16T15:44:21.209Z"
   },
   {
    "duration": 5,
    "start_time": "2022-11-16T15:44:21.223Z"
   },
   {
    "duration": 7,
    "start_time": "2022-11-16T15:44:21.229Z"
   },
   {
    "duration": 168,
    "start_time": "2022-11-16T15:44:21.238Z"
   },
   {
    "duration": 282,
    "start_time": "2022-11-16T15:44:21.408Z"
   },
   {
    "duration": 879,
    "start_time": "2022-11-16T15:44:21.691Z"
   },
   {
    "duration": 261,
    "start_time": "2022-11-16T15:44:22.571Z"
   },
   {
    "duration": 374,
    "start_time": "2022-11-16T15:44:22.834Z"
   },
   {
    "duration": 1418,
    "start_time": "2022-11-16T15:44:23.210Z"
   },
   {
    "duration": 180,
    "start_time": "2022-11-16T15:44:24.629Z"
   },
   {
    "duration": 275,
    "start_time": "2022-11-16T15:44:24.811Z"
   },
   {
    "duration": 428,
    "start_time": "2022-11-16T15:44:25.087Z"
   },
   {
    "duration": 897,
    "start_time": "2022-11-16T15:44:25.516Z"
   },
   {
    "duration": 193,
    "start_time": "2022-11-16T15:44:26.414Z"
   },
   {
    "duration": 374,
    "start_time": "2022-11-16T15:44:26.608Z"
   },
   {
    "duration": 889,
    "start_time": "2022-11-16T15:45:19.911Z"
   },
   {
    "duration": 5,
    "start_time": "2022-11-16T15:47:47.479Z"
   },
   {
    "duration": 1305,
    "start_time": "2022-11-16T15:49:15.631Z"
   },
   {
    "duration": 42,
    "start_time": "2022-11-16T15:49:16.938Z"
   },
   {
    "duration": 16,
    "start_time": "2022-11-16T15:49:16.981Z"
   },
   {
    "duration": 6,
    "start_time": "2022-11-16T15:49:16.999Z"
   },
   {
    "duration": 6,
    "start_time": "2022-11-16T15:49:17.006Z"
   },
   {
    "duration": 6,
    "start_time": "2022-11-16T15:49:17.013Z"
   },
   {
    "duration": 15,
    "start_time": "2022-11-16T15:49:17.020Z"
   },
   {
    "duration": 7,
    "start_time": "2022-11-16T15:49:17.036Z"
   },
   {
    "duration": 6,
    "start_time": "2022-11-16T15:49:17.044Z"
   },
   {
    "duration": 4,
    "start_time": "2022-11-16T15:49:17.053Z"
   },
   {
    "duration": 10,
    "start_time": "2022-11-16T15:49:17.058Z"
   },
   {
    "duration": 138,
    "start_time": "2022-11-16T15:49:17.069Z"
   },
   {
    "duration": 0,
    "start_time": "2022-11-16T15:49:17.209Z"
   },
   {
    "duration": 0,
    "start_time": "2022-11-16T15:49:17.210Z"
   },
   {
    "duration": 0,
    "start_time": "2022-11-16T15:49:17.211Z"
   },
   {
    "duration": 0,
    "start_time": "2022-11-16T15:49:17.212Z"
   },
   {
    "duration": 0,
    "start_time": "2022-11-16T15:49:17.213Z"
   },
   {
    "duration": 0,
    "start_time": "2022-11-16T15:49:17.214Z"
   },
   {
    "duration": 0,
    "start_time": "2022-11-16T15:49:17.215Z"
   },
   {
    "duration": 0,
    "start_time": "2022-11-16T15:49:17.216Z"
   },
   {
    "duration": 0,
    "start_time": "2022-11-16T15:49:17.217Z"
   },
   {
    "duration": 0,
    "start_time": "2022-11-16T15:49:17.218Z"
   },
   {
    "duration": 0,
    "start_time": "2022-11-16T15:49:17.219Z"
   },
   {
    "duration": 0,
    "start_time": "2022-11-16T15:49:17.220Z"
   },
   {
    "duration": 0,
    "start_time": "2022-11-16T15:49:17.221Z"
   },
   {
    "duration": 0,
    "start_time": "2022-11-16T15:49:17.222Z"
   },
   {
    "duration": 0,
    "start_time": "2022-11-16T15:49:17.223Z"
   },
   {
    "duration": 0,
    "start_time": "2022-11-16T15:49:17.224Z"
   },
   {
    "duration": 0,
    "start_time": "2022-11-16T15:49:17.225Z"
   },
   {
    "duration": 0,
    "start_time": "2022-11-16T15:49:17.226Z"
   },
   {
    "duration": 0,
    "start_time": "2022-11-16T15:49:17.227Z"
   },
   {
    "duration": 0,
    "start_time": "2022-11-16T15:49:17.228Z"
   },
   {
    "duration": 0,
    "start_time": "2022-11-16T15:49:17.229Z"
   },
   {
    "duration": 0,
    "start_time": "2022-11-16T15:49:17.230Z"
   },
   {
    "duration": 0,
    "start_time": "2022-11-16T15:49:17.231Z"
   },
   {
    "duration": 0,
    "start_time": "2022-11-16T15:49:17.232Z"
   },
   {
    "duration": 0,
    "start_time": "2022-11-16T15:49:17.233Z"
   },
   {
    "duration": 0,
    "start_time": "2022-11-16T15:49:17.234Z"
   },
   {
    "duration": 0,
    "start_time": "2022-11-16T15:49:17.235Z"
   },
   {
    "duration": 0,
    "start_time": "2022-11-16T15:49:17.236Z"
   },
   {
    "duration": 0,
    "start_time": "2022-11-16T15:49:17.237Z"
   },
   {
    "duration": 1320,
    "start_time": "2022-11-16T15:49:54.050Z"
   },
   {
    "duration": 43,
    "start_time": "2022-11-16T15:49:55.371Z"
   },
   {
    "duration": 16,
    "start_time": "2022-11-16T15:49:55.416Z"
   },
   {
    "duration": 5,
    "start_time": "2022-11-16T15:49:55.434Z"
   },
   {
    "duration": 6,
    "start_time": "2022-11-16T15:49:55.441Z"
   },
   {
    "duration": 8,
    "start_time": "2022-11-16T15:49:55.449Z"
   },
   {
    "duration": 12,
    "start_time": "2022-11-16T15:49:55.458Z"
   },
   {
    "duration": 6,
    "start_time": "2022-11-16T15:49:55.471Z"
   },
   {
    "duration": 23,
    "start_time": "2022-11-16T15:49:55.478Z"
   },
   {
    "duration": 3,
    "start_time": "2022-11-16T15:49:55.503Z"
   },
   {
    "duration": 10,
    "start_time": "2022-11-16T15:49:55.507Z"
   },
   {
    "duration": 4,
    "start_time": "2022-11-16T15:49:55.519Z"
   },
   {
    "duration": 14,
    "start_time": "2022-11-16T15:49:55.525Z"
   },
   {
    "duration": 11,
    "start_time": "2022-11-16T15:49:55.541Z"
   },
   {
    "duration": 43,
    "start_time": "2022-11-16T15:49:55.554Z"
   },
   {
    "duration": 18,
    "start_time": "2022-11-16T15:49:55.599Z"
   },
   {
    "duration": 199,
    "start_time": "2022-11-16T15:49:55.621Z"
   },
   {
    "duration": 697,
    "start_time": "2022-11-16T15:49:55.821Z"
   },
   {
    "duration": 9843,
    "start_time": "2022-11-16T15:49:56.520Z"
   },
   {
    "duration": 557,
    "start_time": "2022-11-16T15:50:06.365Z"
   },
   {
    "duration": 6,
    "start_time": "2022-11-16T15:50:06.924Z"
   },
   {
    "duration": 9,
    "start_time": "2022-11-16T15:50:06.932Z"
   },
   {
    "duration": 127,
    "start_time": "2022-11-16T15:50:06.942Z"
   },
   {
    "duration": 3,
    "start_time": "2022-11-16T15:50:07.071Z"
   },
   {
    "duration": 22,
    "start_time": "2022-11-16T15:50:07.076Z"
   },
   {
    "duration": 99,
    "start_time": "2022-11-16T15:50:07.100Z"
   },
   {
    "duration": 7,
    "start_time": "2022-11-16T15:50:07.201Z"
   },
   {
    "duration": 6,
    "start_time": "2022-11-16T15:50:07.211Z"
   },
   {
    "duration": 4,
    "start_time": "2022-11-16T15:50:07.218Z"
   },
   {
    "duration": 12,
    "start_time": "2022-11-16T15:50:07.223Z"
   },
   {
    "duration": 152,
    "start_time": "2022-11-16T15:50:07.237Z"
   },
   {
    "duration": 0,
    "start_time": "2022-11-16T15:50:07.391Z"
   },
   {
    "duration": 0,
    "start_time": "2022-11-16T15:50:07.392Z"
   },
   {
    "duration": 0,
    "start_time": "2022-11-16T15:50:07.398Z"
   },
   {
    "duration": 0,
    "start_time": "2022-11-16T15:50:07.399Z"
   },
   {
    "duration": 0,
    "start_time": "2022-11-16T15:50:07.400Z"
   },
   {
    "duration": 0,
    "start_time": "2022-11-16T15:50:07.401Z"
   },
   {
    "duration": 0,
    "start_time": "2022-11-16T15:50:07.402Z"
   },
   {
    "duration": 0,
    "start_time": "2022-11-16T15:50:07.403Z"
   },
   {
    "duration": 0,
    "start_time": "2022-11-16T15:50:07.404Z"
   },
   {
    "duration": 0,
    "start_time": "2022-11-16T15:50:07.405Z"
   },
   {
    "duration": 150,
    "start_time": "2022-11-16T15:51:23.567Z"
   },
   {
    "duration": 266,
    "start_time": "2022-11-16T15:51:26.334Z"
   },
   {
    "duration": 728,
    "start_time": "2022-11-16T15:51:28.732Z"
   },
   {
    "duration": 233,
    "start_time": "2022-11-16T15:51:35.355Z"
   },
   {
    "duration": 273,
    "start_time": "2022-11-16T15:51:36.032Z"
   },
   {
    "duration": 1084,
    "start_time": "2022-11-16T15:51:36.834Z"
   },
   {
    "duration": 135,
    "start_time": "2022-11-16T15:51:39.131Z"
   },
   {
    "duration": 298,
    "start_time": "2022-11-16T15:51:39.703Z"
   },
   {
    "duration": 436,
    "start_time": "2022-11-16T15:51:40.239Z"
   },
   {
    "duration": 869,
    "start_time": "2022-11-16T15:51:42.034Z"
   },
   {
    "duration": 473,
    "start_time": "2022-11-16T15:51:45.106Z"
   },
   {
    "duration": 1342,
    "start_time": "2022-11-16T15:59:34.792Z"
   },
   {
    "duration": 42,
    "start_time": "2022-11-16T15:59:36.135Z"
   },
   {
    "duration": 17,
    "start_time": "2022-11-16T15:59:36.178Z"
   },
   {
    "duration": 5,
    "start_time": "2022-11-16T15:59:36.196Z"
   },
   {
    "duration": 6,
    "start_time": "2022-11-16T15:59:36.203Z"
   },
   {
    "duration": 5,
    "start_time": "2022-11-16T15:59:36.211Z"
   },
   {
    "duration": 10,
    "start_time": "2022-11-16T15:59:36.218Z"
   },
   {
    "duration": 5,
    "start_time": "2022-11-16T15:59:36.230Z"
   },
   {
    "duration": 4,
    "start_time": "2022-11-16T15:59:36.236Z"
   },
   {
    "duration": 3,
    "start_time": "2022-11-16T15:59:36.242Z"
   },
   {
    "duration": 5,
    "start_time": "2022-11-16T15:59:36.246Z"
   },
   {
    "duration": 44,
    "start_time": "2022-11-16T15:59:36.254Z"
   },
   {
    "duration": 15,
    "start_time": "2022-11-16T15:59:36.299Z"
   },
   {
    "duration": 5,
    "start_time": "2022-11-16T15:59:36.316Z"
   },
   {
    "duration": 36,
    "start_time": "2022-11-16T15:59:36.322Z"
   },
   {
    "duration": 140,
    "start_time": "2022-11-16T15:59:36.359Z"
   },
   {
    "duration": 134,
    "start_time": "2022-11-16T15:59:36.501Z"
   },
   {
    "duration": 891,
    "start_time": "2022-11-16T15:59:36.638Z"
   },
   {
    "duration": 12352,
    "start_time": "2022-11-16T15:59:37.531Z"
   },
   {
    "duration": 740,
    "start_time": "2022-11-16T15:59:49.885Z"
   },
   {
    "duration": 7,
    "start_time": "2022-11-16T15:59:50.627Z"
   },
   {
    "duration": 25,
    "start_time": "2022-11-16T15:59:50.635Z"
   },
   {
    "duration": 112,
    "start_time": "2022-11-16T15:59:50.661Z"
   },
   {
    "duration": 3,
    "start_time": "2022-11-16T15:59:50.775Z"
   },
   {
    "duration": 28,
    "start_time": "2022-11-16T15:59:50.779Z"
   },
   {
    "duration": 93,
    "start_time": "2022-11-16T15:59:50.808Z"
   },
   {
    "duration": 6,
    "start_time": "2022-11-16T15:59:50.903Z"
   },
   {
    "duration": 23,
    "start_time": "2022-11-16T15:59:50.910Z"
   },
   {
    "duration": 11,
    "start_time": "2022-11-16T15:59:50.935Z"
   },
   {
    "duration": 9,
    "start_time": "2022-11-16T15:59:50.947Z"
   },
   {
    "duration": 171,
    "start_time": "2022-11-16T15:59:50.958Z"
   },
   {
    "duration": 277,
    "start_time": "2022-11-16T15:59:51.130Z"
   },
   {
    "duration": 859,
    "start_time": "2022-11-16T15:59:51.409Z"
   },
   {
    "duration": 274,
    "start_time": "2022-11-16T15:59:52.270Z"
   },
   {
    "duration": 340,
    "start_time": "2022-11-16T15:59:52.545Z"
   },
   {
    "duration": 1567,
    "start_time": "2022-11-16T15:59:52.897Z"
   },
   {
    "duration": 138,
    "start_time": "2022-11-16T15:59:54.465Z"
   },
   {
    "duration": 339,
    "start_time": "2022-11-16T15:59:54.605Z"
   },
   {
    "duration": 492,
    "start_time": "2022-11-16T15:59:54.947Z"
   },
   {
    "duration": 997,
    "start_time": "2022-11-16T15:59:55.441Z"
   },
   {
    "duration": 765,
    "start_time": "2022-11-16T15:59:56.441Z"
   },
   {
    "duration": 1245,
    "start_time": "2022-11-16T17:07:51.930Z"
   },
   {
    "duration": 40,
    "start_time": "2022-11-16T17:07:53.177Z"
   },
   {
    "duration": 14,
    "start_time": "2022-11-16T17:07:53.219Z"
   },
   {
    "duration": 4,
    "start_time": "2022-11-16T17:07:53.235Z"
   },
   {
    "duration": 6,
    "start_time": "2022-11-16T17:07:53.241Z"
   },
   {
    "duration": 7,
    "start_time": "2022-11-16T17:07:53.248Z"
   },
   {
    "duration": 12,
    "start_time": "2022-11-16T17:07:53.257Z"
   },
   {
    "duration": 5,
    "start_time": "2022-11-16T17:07:53.270Z"
   },
   {
    "duration": 4,
    "start_time": "2022-11-16T17:07:53.276Z"
   },
   {
    "duration": 5,
    "start_time": "2022-11-16T17:07:53.298Z"
   },
   {
    "duration": 5,
    "start_time": "2022-11-16T17:07:53.305Z"
   },
   {
    "duration": 6,
    "start_time": "2022-11-16T17:07:53.311Z"
   },
   {
    "duration": 12,
    "start_time": "2022-11-16T17:07:53.318Z"
   },
   {
    "duration": 4,
    "start_time": "2022-11-16T17:07:53.332Z"
   },
   {
    "duration": 28,
    "start_time": "2022-11-16T17:07:53.338Z"
   },
   {
    "duration": 39,
    "start_time": "2022-11-16T17:07:53.368Z"
   },
   {
    "duration": 213,
    "start_time": "2022-11-16T17:07:53.408Z"
   },
   {
    "duration": 709,
    "start_time": "2022-11-16T17:07:53.623Z"
   },
   {
    "duration": 9981,
    "start_time": "2022-11-16T17:07:54.333Z"
   },
   {
    "duration": 624,
    "start_time": "2022-11-16T17:08:04.316Z"
   },
   {
    "duration": 7,
    "start_time": "2022-11-16T17:08:04.941Z"
   },
   {
    "duration": 24,
    "start_time": "2022-11-16T17:08:04.950Z"
   },
   {
    "duration": 124,
    "start_time": "2022-11-16T17:08:04.975Z"
   },
   {
    "duration": 3,
    "start_time": "2022-11-16T17:08:05.100Z"
   },
   {
    "duration": 8,
    "start_time": "2022-11-16T17:08:05.105Z"
   },
   {
    "duration": 91,
    "start_time": "2022-11-16T17:08:05.114Z"
   },
   {
    "duration": 5,
    "start_time": "2022-11-16T17:08:05.206Z"
   },
   {
    "duration": 27,
    "start_time": "2022-11-16T17:08:05.214Z"
   },
   {
    "duration": 4,
    "start_time": "2022-11-16T17:08:05.242Z"
   },
   {
    "duration": 7,
    "start_time": "2022-11-16T17:08:05.247Z"
   },
   {
    "duration": 142,
    "start_time": "2022-11-16T17:08:05.255Z"
   },
   {
    "duration": 299,
    "start_time": "2022-11-16T17:08:05.398Z"
   },
   {
    "duration": 722,
    "start_time": "2022-11-16T17:08:05.700Z"
   },
   {
    "duration": 234,
    "start_time": "2022-11-16T17:08:06.424Z"
   },
   {
    "duration": 324,
    "start_time": "2022-11-16T17:08:06.660Z"
   },
   {
    "duration": 1191,
    "start_time": "2022-11-16T17:08:06.985Z"
   },
   {
    "duration": 129,
    "start_time": "2022-11-16T17:08:08.178Z"
   },
   {
    "duration": 292,
    "start_time": "2022-11-16T17:08:08.308Z"
   },
   {
    "duration": 386,
    "start_time": "2022-11-16T17:08:08.601Z"
   },
   {
    "duration": 8,
    "start_time": "2022-11-16T17:08:08.989Z"
   },
   {
    "duration": 717,
    "start_time": "2022-11-16T17:08:08.999Z"
   },
   {
    "duration": 2141,
    "start_time": "2022-11-17T10:35:07.747Z"
   },
   {
    "duration": 95,
    "start_time": "2022-11-17T10:35:16.008Z"
   },
   {
    "duration": 18,
    "start_time": "2022-11-17T10:35:23.173Z"
   },
   {
    "duration": 5,
    "start_time": "2022-11-17T10:35:26.949Z"
   },
   {
    "duration": 130,
    "start_time": "2022-11-17T10:36:27.601Z"
   },
   {
    "duration": 5,
    "start_time": "2022-11-17T10:36:57.876Z"
   },
   {
    "duration": 5,
    "start_time": "2022-11-17T10:37:03.487Z"
   },
   {
    "duration": 11,
    "start_time": "2022-11-17T10:37:27.190Z"
   },
   {
    "duration": 7,
    "start_time": "2022-11-17T10:37:31.347Z"
   },
   {
    "duration": 4,
    "start_time": "2022-11-17T10:38:10.791Z"
   },
   {
    "duration": 7,
    "start_time": "2022-11-17T10:38:14.516Z"
   },
   {
    "duration": 7,
    "start_time": "2022-11-17T10:38:17.840Z"
   },
   {
    "duration": 11,
    "start_time": "2022-11-17T10:38:35.846Z"
   },
   {
    "duration": 13,
    "start_time": "2022-11-17T10:39:13.000Z"
   },
   {
    "duration": 3,
    "start_time": "2022-11-17T10:39:17.312Z"
   },
   {
    "duration": 42,
    "start_time": "2022-11-17T10:39:46.301Z"
   },
   {
    "duration": 20,
    "start_time": "2022-11-17T10:39:56.355Z"
   },
   {
    "duration": 48,
    "start_time": "2022-11-17T10:40:03.703Z"
   },
   {
    "duration": 741,
    "start_time": "2022-11-17T10:40:11.146Z"
   },
   {
    "duration": 10832,
    "start_time": "2022-11-17T10:40:28.659Z"
   },
   {
    "duration": 616,
    "start_time": "2022-11-17T10:40:59.748Z"
   },
   {
    "duration": 6,
    "start_time": "2022-11-17T10:41:12.288Z"
   },
   {
    "duration": 9,
    "start_time": "2022-11-17T10:42:37.681Z"
   },
   {
    "duration": 4,
    "start_time": "2022-11-17T10:42:52.966Z"
   },
   {
    "duration": 5,
    "start_time": "2022-11-17T10:44:28.375Z"
   },
   {
    "duration": 136,
    "start_time": "2022-11-17T10:44:30.051Z"
   },
   {
    "duration": 3,
    "start_time": "2022-11-17T10:44:41.247Z"
   },
   {
    "duration": 6,
    "start_time": "2022-11-17T10:44:42.146Z"
   },
   {
    "duration": 99,
    "start_time": "2022-11-17T10:44:43.638Z"
   },
   {
    "duration": 6,
    "start_time": "2022-11-17T10:44:48.015Z"
   },
   {
    "duration": 6,
    "start_time": "2022-11-17T10:44:49.264Z"
   },
   {
    "duration": 4,
    "start_time": "2022-11-17T10:45:05.346Z"
   },
   {
    "duration": 3,
    "start_time": "2022-11-17T10:45:08.879Z"
   },
   {
    "duration": 3,
    "start_time": "2022-11-17T10:45:30.560Z"
   },
   {
    "duration": 166,
    "start_time": "2022-11-17T10:45:40.473Z"
   },
   {
    "duration": 286,
    "start_time": "2022-11-17T10:45:56.650Z"
   },
   {
    "duration": 792,
    "start_time": "2022-11-17T10:46:08.591Z"
   },
   {
    "duration": 284,
    "start_time": "2022-11-17T10:46:38.771Z"
   },
   {
    "duration": 305,
    "start_time": "2022-11-17T10:46:46.820Z"
   },
   {
    "duration": 1352,
    "start_time": "2022-11-17T10:46:56.823Z"
   },
   {
    "duration": 166,
    "start_time": "2022-11-17T10:47:47.195Z"
   },
   {
    "duration": 260,
    "start_time": "2022-11-17T10:47:54.678Z"
   },
   {
    "duration": 466,
    "start_time": "2022-11-17T10:48:03.091Z"
   },
   {
    "duration": 451,
    "start_time": "2022-11-17T10:54:45.444Z"
   },
   {
    "duration": 792,
    "start_time": "2022-11-17T10:57:58.433Z"
   },
   {
    "duration": 1401,
    "start_time": "2022-11-17T11:17:17.971Z"
   },
   {
    "duration": 43,
    "start_time": "2022-11-17T11:17:19.375Z"
   },
   {
    "duration": 24,
    "start_time": "2022-11-17T11:17:19.420Z"
   },
   {
    "duration": 6,
    "start_time": "2022-11-17T11:17:19.447Z"
   },
   {
    "duration": 15,
    "start_time": "2022-11-17T11:17:19.455Z"
   },
   {
    "duration": 9,
    "start_time": "2022-11-17T11:17:19.473Z"
   },
   {
    "duration": 17,
    "start_time": "2022-11-17T11:17:19.483Z"
   },
   {
    "duration": 9,
    "start_time": "2022-11-17T11:17:19.502Z"
   },
   {
    "duration": 9,
    "start_time": "2022-11-17T11:17:19.513Z"
   },
   {
    "duration": 8,
    "start_time": "2022-11-17T11:17:19.525Z"
   },
   {
    "duration": 4,
    "start_time": "2022-11-17T11:17:19.535Z"
   },
   {
    "duration": 16,
    "start_time": "2022-11-17T11:17:19.541Z"
   },
   {
    "duration": 5,
    "start_time": "2022-11-17T11:17:19.558Z"
   },
   {
    "duration": 61,
    "start_time": "2022-11-17T11:17:19.565Z"
   },
   {
    "duration": 95,
    "start_time": "2022-11-17T11:17:19.627Z"
   },
   {
    "duration": 135,
    "start_time": "2022-11-17T11:17:19.724Z"
   },
   {
    "duration": 762,
    "start_time": "2022-11-17T11:17:19.861Z"
   },
   {
    "duration": 10034,
    "start_time": "2022-11-17T11:17:20.625Z"
   },
   {
    "duration": 594,
    "start_time": "2022-11-17T11:17:30.660Z"
   },
   {
    "duration": 8,
    "start_time": "2022-11-17T11:17:31.257Z"
   },
   {
    "duration": 40,
    "start_time": "2022-11-17T11:17:31.266Z"
   },
   {
    "duration": 184,
    "start_time": "2022-11-17T11:17:31.308Z"
   },
   {
    "duration": 4,
    "start_time": "2022-11-17T11:17:31.494Z"
   },
   {
    "duration": 52,
    "start_time": "2022-11-17T11:17:31.501Z"
   },
   {
    "duration": 143,
    "start_time": "2022-11-17T11:17:31.555Z"
   },
   {
    "duration": 6,
    "start_time": "2022-11-17T11:17:31.700Z"
   },
   {
    "duration": 20,
    "start_time": "2022-11-17T11:17:31.707Z"
   },
   {
    "duration": 20,
    "start_time": "2022-11-17T11:17:31.730Z"
   },
   {
    "duration": 15,
    "start_time": "2022-11-17T11:17:31.751Z"
   },
   {
    "duration": 171,
    "start_time": "2022-11-17T11:17:31.768Z"
   },
   {
    "duration": 289,
    "start_time": "2022-11-17T11:17:31.941Z"
   },
   {
    "duration": 744,
    "start_time": "2022-11-17T11:17:32.231Z"
   },
   {
    "duration": 255,
    "start_time": "2022-11-17T11:17:32.977Z"
   },
   {
    "duration": 293,
    "start_time": "2022-11-17T11:17:33.233Z"
   },
   {
    "duration": 1388,
    "start_time": "2022-11-17T11:17:33.528Z"
   },
   {
    "duration": 146,
    "start_time": "2022-11-17T11:17:34.922Z"
   },
   {
    "duration": 267,
    "start_time": "2022-11-17T11:17:35.069Z"
   },
   {
    "duration": 477,
    "start_time": "2022-11-17T11:17:35.338Z"
   },
   {
    "duration": 3,
    "start_time": "2022-11-17T11:17:35.821Z"
   },
   {
    "duration": 831,
    "start_time": "2022-11-17T11:17:35.826Z"
   },
   {
    "duration": 4,
    "start_time": "2022-11-17T11:19:38.981Z"
   },
   {
    "duration": 61,
    "start_time": "2022-11-17T11:19:38.987Z"
   },
   {
    "duration": 18,
    "start_time": "2022-11-17T11:19:39.050Z"
   },
   {
    "duration": 45,
    "start_time": "2022-11-17T11:19:39.070Z"
   },
   {
    "duration": 33,
    "start_time": "2022-11-17T11:19:39.116Z"
   },
   {
    "duration": 39,
    "start_time": "2022-11-17T11:19:39.150Z"
   },
   {
    "duration": 42,
    "start_time": "2022-11-17T11:19:39.190Z"
   },
   {
    "duration": 46,
    "start_time": "2022-11-17T11:19:39.235Z"
   },
   {
    "duration": 35,
    "start_time": "2022-11-17T11:19:39.283Z"
   },
   {
    "duration": 39,
    "start_time": "2022-11-17T11:19:39.320Z"
   },
   {
    "duration": 24,
    "start_time": "2022-11-17T11:19:39.361Z"
   },
   {
    "duration": 46,
    "start_time": "2022-11-17T11:19:39.386Z"
   },
   {
    "duration": 5,
    "start_time": "2022-11-17T11:19:39.434Z"
   },
   {
    "duration": 44,
    "start_time": "2022-11-17T11:19:39.441Z"
   },
   {
    "duration": 38,
    "start_time": "2022-11-17T11:19:39.487Z"
   },
   {
    "duration": 127,
    "start_time": "2022-11-17T11:19:39.527Z"
   },
   {
    "duration": 759,
    "start_time": "2022-11-17T11:19:39.656Z"
   },
   {
    "duration": 10607,
    "start_time": "2022-11-17T11:19:40.417Z"
   },
   {
    "duration": 615,
    "start_time": "2022-11-17T11:19:51.026Z"
   },
   {
    "duration": 9,
    "start_time": "2022-11-17T11:19:51.642Z"
   },
   {
    "duration": 10,
    "start_time": "2022-11-17T11:19:51.653Z"
   },
   {
    "duration": 128,
    "start_time": "2022-11-17T11:19:51.665Z"
   },
   {
    "duration": 4,
    "start_time": "2022-11-17T11:19:51.795Z"
   },
   {
    "duration": 23,
    "start_time": "2022-11-17T11:19:51.801Z"
   },
   {
    "duration": 115,
    "start_time": "2022-11-17T11:19:51.827Z"
   },
   {
    "duration": 8,
    "start_time": "2022-11-17T11:19:51.944Z"
   },
   {
    "duration": 8,
    "start_time": "2022-11-17T11:19:51.955Z"
   },
   {
    "duration": 5,
    "start_time": "2022-11-17T11:19:51.964Z"
   },
   {
    "duration": 16,
    "start_time": "2022-11-17T11:19:51.970Z"
   },
   {
    "duration": 209,
    "start_time": "2022-11-17T11:19:51.988Z"
   },
   {
    "duration": 428,
    "start_time": "2022-11-17T11:19:52.198Z"
   },
   {
    "duration": 762,
    "start_time": "2022-11-17T11:19:52.628Z"
   },
   {
    "duration": 204,
    "start_time": "2022-11-17T11:19:53.393Z"
   },
   {
    "duration": 352,
    "start_time": "2022-11-17T11:19:53.599Z"
   },
   {
    "duration": 1418,
    "start_time": "2022-11-17T11:19:53.953Z"
   },
   {
    "duration": 156,
    "start_time": "2022-11-17T11:19:55.372Z"
   },
   {
    "duration": 308,
    "start_time": "2022-11-17T11:19:55.530Z"
   },
   {
    "duration": 461,
    "start_time": "2022-11-17T11:19:55.839Z"
   },
   {
    "duration": 882,
    "start_time": "2022-11-17T11:19:56.302Z"
   },
   {
    "duration": 1371,
    "start_time": "2022-11-17T11:20:44.628Z"
   },
   {
    "duration": 36,
    "start_time": "2022-11-17T11:20:46.000Z"
   },
   {
    "duration": 17,
    "start_time": "2022-11-17T11:20:46.037Z"
   },
   {
    "duration": 6,
    "start_time": "2022-11-17T11:20:46.056Z"
   },
   {
    "duration": 9,
    "start_time": "2022-11-17T11:20:46.064Z"
   },
   {
    "duration": 15,
    "start_time": "2022-11-17T11:20:46.076Z"
   },
   {
    "duration": 29,
    "start_time": "2022-11-17T11:20:46.093Z"
   },
   {
    "duration": 5,
    "start_time": "2022-11-17T11:20:46.124Z"
   },
   {
    "duration": 9,
    "start_time": "2022-11-17T11:20:46.131Z"
   },
   {
    "duration": 9,
    "start_time": "2022-11-17T11:20:46.143Z"
   },
   {
    "duration": 6,
    "start_time": "2022-11-17T11:20:46.154Z"
   },
   {
    "duration": 13,
    "start_time": "2022-11-17T11:20:46.162Z"
   },
   {
    "duration": 11,
    "start_time": "2022-11-17T11:20:46.177Z"
   },
   {
    "duration": 51,
    "start_time": "2022-11-17T11:20:46.190Z"
   },
   {
    "duration": 78,
    "start_time": "2022-11-17T11:20:46.243Z"
   },
   {
    "duration": 122,
    "start_time": "2022-11-17T11:20:46.323Z"
   },
   {
    "duration": 712,
    "start_time": "2022-11-17T11:20:46.446Z"
   },
   {
    "duration": 10253,
    "start_time": "2022-11-17T11:20:47.160Z"
   },
   {
    "duration": 609,
    "start_time": "2022-11-17T11:20:57.415Z"
   },
   {
    "duration": 8,
    "start_time": "2022-11-17T11:20:58.026Z"
   },
   {
    "duration": 11,
    "start_time": "2022-11-17T11:20:58.036Z"
   },
   {
    "duration": 147,
    "start_time": "2022-11-17T11:20:58.049Z"
   },
   {
    "duration": 4,
    "start_time": "2022-11-17T11:20:58.198Z"
   },
   {
    "duration": 24,
    "start_time": "2022-11-17T11:20:58.204Z"
   },
   {
    "duration": 102,
    "start_time": "2022-11-17T11:20:58.230Z"
   },
   {
    "duration": 6,
    "start_time": "2022-11-17T11:20:58.335Z"
   },
   {
    "duration": 8,
    "start_time": "2022-11-17T11:20:58.343Z"
   },
   {
    "duration": 4,
    "start_time": "2022-11-17T11:20:58.354Z"
   },
   {
    "duration": 8,
    "start_time": "2022-11-17T11:20:58.360Z"
   },
   {
    "duration": 184,
    "start_time": "2022-11-17T11:20:58.369Z"
   },
   {
    "duration": 298,
    "start_time": "2022-11-17T11:20:58.556Z"
   },
   {
    "duration": 767,
    "start_time": "2022-11-17T11:20:58.856Z"
   },
   {
    "duration": 274,
    "start_time": "2022-11-17T11:20:59.624Z"
   },
   {
    "duration": 335,
    "start_time": "2022-11-17T11:20:59.900Z"
   },
   {
    "duration": 1299,
    "start_time": "2022-11-17T11:21:00.237Z"
   },
   {
    "duration": 164,
    "start_time": "2022-11-17T11:21:01.538Z"
   },
   {
    "duration": 323,
    "start_time": "2022-11-17T11:21:01.704Z"
   },
   {
    "duration": 454,
    "start_time": "2022-11-17T11:21:02.028Z"
   },
   {
    "duration": 845,
    "start_time": "2022-11-17T11:21:02.483Z"
   },
   {
    "duration": 47,
    "start_time": "2022-11-18T09:12:20.645Z"
   },
   {
    "duration": 1507,
    "start_time": "2022-11-18T09:12:24.206Z"
   },
   {
    "duration": 72,
    "start_time": "2022-11-18T09:12:25.715Z"
   },
   {
    "duration": 3,
    "start_time": "2022-11-18T09:12:40.550Z"
   },
   {
    "duration": 1299,
    "start_time": "2022-11-18T09:14:13.022Z"
   },
   {
    "duration": 2,
    "start_time": "2022-11-18T09:14:14.323Z"
   },
   {
    "duration": 80,
    "start_time": "2022-11-18T09:14:14.327Z"
   },
   {
    "duration": 16,
    "start_time": "2022-11-18T09:14:14.409Z"
   },
   {
    "duration": 5,
    "start_time": "2022-11-18T09:14:14.426Z"
   },
   {
    "duration": 5,
    "start_time": "2022-11-18T09:14:14.433Z"
   },
   {
    "duration": 5,
    "start_time": "2022-11-18T09:14:14.440Z"
   },
   {
    "duration": 13,
    "start_time": "2022-11-18T09:14:14.446Z"
   },
   {
    "duration": 5,
    "start_time": "2022-11-18T09:14:14.461Z"
   },
   {
    "duration": 8,
    "start_time": "2022-11-18T09:14:14.468Z"
   },
   {
    "duration": 36,
    "start_time": "2022-11-18T09:14:14.477Z"
   },
   {
    "duration": 11,
    "start_time": "2022-11-18T09:14:14.515Z"
   },
   {
    "duration": 13,
    "start_time": "2022-11-18T09:14:14.528Z"
   },
   {
    "duration": 6,
    "start_time": "2022-11-18T09:14:14.543Z"
   },
   {
    "duration": 36,
    "start_time": "2022-11-18T09:14:14.550Z"
   },
   {
    "duration": 225,
    "start_time": "2022-11-18T09:14:14.588Z"
   },
   {
    "duration": 33,
    "start_time": "2022-11-18T09:14:14.816Z"
   },
   {
    "duration": 690,
    "start_time": "2022-11-18T09:14:14.851Z"
   },
   {
    "duration": 9479,
    "start_time": "2022-11-18T09:14:15.542Z"
   },
   {
    "duration": 553,
    "start_time": "2022-11-18T09:14:25.023Z"
   },
   {
    "duration": 7,
    "start_time": "2022-11-18T09:14:25.577Z"
   },
   {
    "duration": 27,
    "start_time": "2022-11-18T09:14:25.585Z"
   },
   {
    "duration": 147,
    "start_time": "2022-11-18T09:14:25.613Z"
   },
   {
    "duration": 4,
    "start_time": "2022-11-18T09:14:25.761Z"
   },
   {
    "duration": 23,
    "start_time": "2022-11-18T09:14:25.766Z"
   },
   {
    "duration": 104,
    "start_time": "2022-11-18T09:14:25.791Z"
   },
   {
    "duration": 7,
    "start_time": "2022-11-18T09:14:25.896Z"
   },
   {
    "duration": 12,
    "start_time": "2022-11-18T09:14:25.912Z"
   },
   {
    "duration": 19,
    "start_time": "2022-11-18T09:14:25.925Z"
   },
   {
    "duration": 16,
    "start_time": "2022-11-18T09:14:25.946Z"
   },
   {
    "duration": 161,
    "start_time": "2022-11-18T09:14:25.964Z"
   },
   {
    "duration": 269,
    "start_time": "2022-11-18T09:14:26.127Z"
   },
   {
    "duration": 680,
    "start_time": "2022-11-18T09:14:26.397Z"
   },
   {
    "duration": 240,
    "start_time": "2022-11-18T09:14:27.079Z"
   },
   {
    "duration": 292,
    "start_time": "2022-11-18T09:14:27.321Z"
   },
   {
    "duration": 1147,
    "start_time": "2022-11-18T09:14:27.614Z"
   },
   {
    "duration": 143,
    "start_time": "2022-11-18T09:14:28.762Z"
   },
   {
    "duration": 303,
    "start_time": "2022-11-18T09:14:28.913Z"
   },
   {
    "duration": 404,
    "start_time": "2022-11-18T09:14:29.218Z"
   },
   {
    "duration": 802,
    "start_time": "2022-11-18T09:14:29.624Z"
   },
   {
    "duration": 1325,
    "start_time": "2022-11-18T09:14:57.953Z"
   },
   {
    "duration": 3,
    "start_time": "2022-11-18T09:14:59.280Z"
   },
   {
    "duration": 40,
    "start_time": "2022-11-18T09:14:59.284Z"
   },
   {
    "duration": 31,
    "start_time": "2022-11-18T09:14:59.326Z"
   },
   {
    "duration": 10,
    "start_time": "2022-11-18T09:14:59.359Z"
   },
   {
    "duration": 8,
    "start_time": "2022-11-18T09:14:59.370Z"
   },
   {
    "duration": 5,
    "start_time": "2022-11-18T09:14:59.380Z"
   },
   {
    "duration": 21,
    "start_time": "2022-11-18T09:14:59.386Z"
   },
   {
    "duration": 7,
    "start_time": "2022-11-18T09:14:59.409Z"
   },
   {
    "duration": 7,
    "start_time": "2022-11-18T09:14:59.420Z"
   },
   {
    "duration": 5,
    "start_time": "2022-11-18T09:14:59.428Z"
   },
   {
    "duration": 5,
    "start_time": "2022-11-18T09:14:59.435Z"
   },
   {
    "duration": 15,
    "start_time": "2022-11-18T09:14:59.441Z"
   },
   {
    "duration": 5,
    "start_time": "2022-11-18T09:14:59.457Z"
   },
   {
    "duration": 51,
    "start_time": "2022-11-18T09:14:59.464Z"
   },
   {
    "duration": 22,
    "start_time": "2022-11-18T09:14:59.517Z"
   },
   {
    "duration": 193,
    "start_time": "2022-11-18T09:14:59.540Z"
   },
   {
    "duration": 646,
    "start_time": "2022-11-18T09:14:59.734Z"
   },
   {
    "duration": 9216,
    "start_time": "2022-11-18T09:15:00.382Z"
   },
   {
    "duration": 519,
    "start_time": "2022-11-18T09:15:09.599Z"
   },
   {
    "duration": 7,
    "start_time": "2022-11-18T09:15:10.119Z"
   },
   {
    "duration": 15,
    "start_time": "2022-11-18T09:15:10.127Z"
   },
   {
    "duration": 142,
    "start_time": "2022-11-18T09:15:10.143Z"
   },
   {
    "duration": 5,
    "start_time": "2022-11-18T09:15:10.287Z"
   },
   {
    "duration": 20,
    "start_time": "2022-11-18T09:15:10.294Z"
   },
   {
    "duration": 125,
    "start_time": "2022-11-18T09:15:10.317Z"
   },
   {
    "duration": 7,
    "start_time": "2022-11-18T09:15:10.443Z"
   },
   {
    "duration": 9,
    "start_time": "2022-11-18T09:15:10.454Z"
   },
   {
    "duration": 6,
    "start_time": "2022-11-18T09:15:10.465Z"
   },
   {
    "duration": 7,
    "start_time": "2022-11-18T09:15:10.473Z"
   },
   {
    "duration": 160,
    "start_time": "2022-11-18T09:15:10.482Z"
   },
   {
    "duration": 271,
    "start_time": "2022-11-18T09:15:10.644Z"
   },
   {
    "duration": 665,
    "start_time": "2022-11-18T09:15:10.917Z"
   },
   {
    "duration": 228,
    "start_time": "2022-11-18T09:15:11.584Z"
   },
   {
    "duration": 284,
    "start_time": "2022-11-18T09:15:11.814Z"
   },
   {
    "duration": 1125,
    "start_time": "2022-11-18T09:15:12.099Z"
   },
   {
    "duration": 134,
    "start_time": "2022-11-18T09:15:13.225Z"
   },
   {
    "duration": 253,
    "start_time": "2022-11-18T09:15:13.360Z"
   },
   {
    "duration": 400,
    "start_time": "2022-11-18T09:15:13.615Z"
   },
   {
    "duration": 776,
    "start_time": "2022-11-18T09:15:14.017Z"
   },
   {
    "duration": 1323,
    "start_time": "2022-11-18T09:16:56.157Z"
   },
   {
    "duration": 3,
    "start_time": "2022-11-18T09:16:57.482Z"
   },
   {
    "duration": 41,
    "start_time": "2022-11-18T09:16:57.486Z"
   },
   {
    "duration": 16,
    "start_time": "2022-11-18T09:16:57.529Z"
   },
   {
    "duration": 5,
    "start_time": "2022-11-18T09:16:57.548Z"
   },
   {
    "duration": 7,
    "start_time": "2022-11-18T09:16:57.556Z"
   },
   {
    "duration": 6,
    "start_time": "2022-11-18T09:16:57.564Z"
   },
   {
    "duration": 15,
    "start_time": "2022-11-18T09:16:57.571Z"
   },
   {
    "duration": 28,
    "start_time": "2022-11-18T09:16:57.588Z"
   },
   {
    "duration": 7,
    "start_time": "2022-11-18T09:16:57.618Z"
   },
   {
    "duration": 8,
    "start_time": "2022-11-18T09:16:57.627Z"
   },
   {
    "duration": 9,
    "start_time": "2022-11-18T09:16:57.637Z"
   },
   {
    "duration": 14,
    "start_time": "2022-11-18T09:16:57.648Z"
   },
   {
    "duration": 6,
    "start_time": "2022-11-18T09:16:57.665Z"
   },
   {
    "duration": 59,
    "start_time": "2022-11-18T09:16:57.672Z"
   },
   {
    "duration": 83,
    "start_time": "2022-11-18T09:16:57.733Z"
   },
   {
    "duration": 116,
    "start_time": "2022-11-18T09:16:57.817Z"
   },
   {
    "duration": 668,
    "start_time": "2022-11-18T09:16:57.935Z"
   },
   {
    "duration": 9223,
    "start_time": "2022-11-18T09:16:58.604Z"
   },
   {
    "duration": 542,
    "start_time": "2022-11-18T09:17:07.828Z"
   },
   {
    "duration": 7,
    "start_time": "2022-11-18T09:17:08.371Z"
   },
   {
    "duration": 6,
    "start_time": "2022-11-18T09:17:08.380Z"
   },
   {
    "duration": 138,
    "start_time": "2022-11-18T09:17:08.388Z"
   },
   {
    "duration": 3,
    "start_time": "2022-11-18T09:17:08.527Z"
   },
   {
    "duration": 9,
    "start_time": "2022-11-18T09:17:08.532Z"
   },
   {
    "duration": 110,
    "start_time": "2022-11-18T09:17:08.542Z"
   },
   {
    "duration": 5,
    "start_time": "2022-11-18T09:17:08.654Z"
   },
   {
    "duration": 8,
    "start_time": "2022-11-18T09:17:08.661Z"
   },
   {
    "duration": 4,
    "start_time": "2022-11-18T09:17:08.670Z"
   },
   {
    "duration": 6,
    "start_time": "2022-11-18T09:17:08.675Z"
   },
   {
    "duration": 165,
    "start_time": "2022-11-18T09:17:08.683Z"
   },
   {
    "duration": 353,
    "start_time": "2022-11-18T09:17:08.850Z"
   },
   {
    "duration": 672,
    "start_time": "2022-11-18T09:17:09.205Z"
   },
   {
    "duration": 240,
    "start_time": "2022-11-18T09:17:09.878Z"
   },
   {
    "duration": 420,
    "start_time": "2022-11-18T09:17:10.120Z"
   },
   {
    "duration": 1147,
    "start_time": "2022-11-18T09:17:10.542Z"
   },
   {
    "duration": 135,
    "start_time": "2022-11-18T09:17:11.691Z"
   },
   {
    "duration": 291,
    "start_time": "2022-11-18T09:17:11.828Z"
   },
   {
    "duration": 403,
    "start_time": "2022-11-18T09:17:12.121Z"
   },
   {
    "duration": 764,
    "start_time": "2022-11-18T09:17:12.526Z"
   },
   {
    "duration": 41149,
    "start_time": "2022-11-18T13:39:28.853Z"
   },
   {
    "duration": 41529,
    "start_time": "2022-11-18T13:45:12.924Z"
   },
   {
    "duration": 41410,
    "start_time": "2022-11-18T13:47:13.275Z"
   },
   {
    "duration": 241,
    "start_time": "2022-11-18T13:50:48.877Z"
   },
   {
    "duration": 6,
    "start_time": "2022-11-18T13:50:55.141Z"
   },
   {
    "duration": 360,
    "start_time": "2022-11-18T13:55:55.860Z"
   },
   {
    "duration": 142,
    "start_time": "2022-11-18T14:02:41.122Z"
   },
   {
    "duration": 62978,
    "start_time": "2022-11-18T14:03:22.399Z"
   },
   {
    "duration": 44211,
    "start_time": "2022-11-18T14:08:08.404Z"
   },
   {
    "duration": 9,
    "start_time": "2022-11-18T14:14:34.313Z"
   },
   {
    "duration": 6,
    "start_time": "2022-11-18T14:14:36.622Z"
   },
   {
    "duration": 3,
    "start_time": "2022-11-18T14:15:47.756Z"
   },
   {
    "duration": 10,
    "start_time": "2022-11-18T14:18:43.363Z"
   },
   {
    "duration": 3,
    "start_time": "2022-11-18T14:18:44.404Z"
   },
   {
    "duration": 22,
    "start_time": "2022-11-18T14:18:45.325Z"
   },
   {
    "duration": 21,
    "start_time": "2022-11-18T14:19:10.897Z"
   },
   {
    "duration": 23,
    "start_time": "2022-11-18T14:19:15.562Z"
   },
   {
    "duration": 20,
    "start_time": "2022-11-18T14:19:22.628Z"
   },
   {
    "duration": 19,
    "start_time": "2022-11-18T14:21:43.418Z"
   },
   {
    "duration": 5,
    "start_time": "2022-11-18T14:22:49.678Z"
   },
   {
    "duration": 1221,
    "start_time": "2022-11-18T14:23:17.227Z"
   },
   {
    "duration": 1211,
    "start_time": "2022-11-18T14:24:03.920Z"
   },
   {
    "duration": 4,
    "start_time": "2022-11-18T14:25:22.714Z"
   },
   {
    "duration": 10,
    "start_time": "2022-11-18T14:25:35.313Z"
   },
   {
    "duration": 5,
    "start_time": "2022-11-18T14:25:36.332Z"
   },
   {
    "duration": 11,
    "start_time": "2022-11-18T14:27:01.440Z"
   },
   {
    "duration": 5,
    "start_time": "2022-11-18T14:27:03.302Z"
   },
   {
    "duration": 22,
    "start_time": "2022-11-18T14:27:31.956Z"
   },
   {
    "duration": 550,
    "start_time": "2022-11-18T14:30:36.365Z"
   },
   {
    "duration": 120,
    "start_time": "2022-11-18T14:31:04.212Z"
   },
   {
    "duration": 221,
    "start_time": "2022-11-18T14:31:19.477Z"
   },
   {
    "duration": 374,
    "start_time": "2022-11-18T14:32:11.881Z"
   },
   {
    "duration": 408,
    "start_time": "2022-11-18T14:32:28.225Z"
   },
   {
    "duration": 9,
    "start_time": "2022-11-18T14:35:25.788Z"
   },
   {
    "duration": 6,
    "start_time": "2022-11-18T14:35:27.368Z"
   },
   {
    "duration": 10,
    "start_time": "2022-11-18T14:35:57.226Z"
   },
   {
    "duration": 4,
    "start_time": "2022-11-18T14:35:59.686Z"
   },
   {
    "duration": 9,
    "start_time": "2022-11-18T14:36:12.972Z"
   },
   {
    "duration": 6,
    "start_time": "2022-11-18T14:36:14.167Z"
   },
   {
    "duration": 44434,
    "start_time": "2022-11-18T14:37:37.727Z"
   },
   {
    "duration": 393,
    "start_time": "2022-11-18T14:39:15.400Z"
   },
   {
    "duration": 1277,
    "start_time": "2022-11-18T14:39:35.857Z"
   },
   {
    "duration": 57,
    "start_time": "2022-11-18T14:39:37.137Z"
   },
   {
    "duration": 18,
    "start_time": "2022-11-18T14:39:37.196Z"
   },
   {
    "duration": 4,
    "start_time": "2022-11-18T14:39:37.216Z"
   },
   {
    "duration": 5,
    "start_time": "2022-11-18T14:39:37.222Z"
   },
   {
    "duration": 6,
    "start_time": "2022-11-18T14:39:37.229Z"
   },
   {
    "duration": 11,
    "start_time": "2022-11-18T14:39:37.237Z"
   },
   {
    "duration": 5,
    "start_time": "2022-11-18T14:39:37.250Z"
   },
   {
    "duration": 5,
    "start_time": "2022-11-18T14:39:37.256Z"
   },
   {
    "duration": 6,
    "start_time": "2022-11-18T14:39:37.264Z"
   },
   {
    "duration": 5,
    "start_time": "2022-11-18T14:39:37.271Z"
   },
   {
    "duration": 44,
    "start_time": "2022-11-18T14:39:37.277Z"
   },
   {
    "duration": 6,
    "start_time": "2022-11-18T14:39:37.323Z"
   },
   {
    "duration": 40,
    "start_time": "2022-11-18T14:39:37.331Z"
   },
   {
    "duration": 45,
    "start_time": "2022-11-18T14:39:37.372Z"
   },
   {
    "duration": 122,
    "start_time": "2022-11-18T14:39:37.419Z"
   },
   {
    "duration": 658,
    "start_time": "2022-11-18T14:39:37.542Z"
   },
   {
    "duration": 40192,
    "start_time": "2022-11-18T14:39:38.202Z"
   },
   {
    "duration": 254,
    "start_time": "2022-11-18T14:40:18.395Z"
   },
   {
    "duration": 6,
    "start_time": "2022-11-18T14:40:18.651Z"
   },
   {
    "duration": 7,
    "start_time": "2022-11-18T14:40:18.658Z"
   },
   {
    "duration": 134,
    "start_time": "2022-11-18T14:40:18.667Z"
   },
   {
    "duration": 12,
    "start_time": "2022-11-18T14:40:18.802Z"
   },
   {
    "duration": 8,
    "start_time": "2022-11-18T14:40:18.815Z"
   },
   {
    "duration": 89,
    "start_time": "2022-11-18T14:40:18.825Z"
   },
   {
    "duration": 6,
    "start_time": "2022-11-18T14:40:18.916Z"
   },
   {
    "duration": 5,
    "start_time": "2022-11-18T14:40:18.924Z"
   },
   {
    "duration": 4,
    "start_time": "2022-11-18T14:40:18.933Z"
   },
   {
    "duration": 8,
    "start_time": "2022-11-18T14:40:18.938Z"
   },
   {
    "duration": 166,
    "start_time": "2022-11-18T14:40:18.948Z"
   },
   {
    "duration": 305,
    "start_time": "2022-11-18T14:40:19.116Z"
   },
   {
    "duration": 44242,
    "start_time": "2022-11-18T14:40:19.423Z"
   },
   {
    "duration": 9,
    "start_time": "2022-11-18T14:41:03.667Z"
   },
   {
    "duration": 6,
    "start_time": "2022-11-18T14:41:03.677Z"
   },
   {
    "duration": 147,
    "start_time": "2022-11-18T14:41:03.685Z"
   },
   {
    "duration": 281,
    "start_time": "2022-11-18T14:41:03.834Z"
   },
   {
    "duration": 431,
    "start_time": "2022-11-18T14:41:04.116Z"
   },
   {
    "duration": 10,
    "start_time": "2022-11-18T14:41:04.548Z"
   },
   {
    "duration": 4,
    "start_time": "2022-11-18T14:41:04.560Z"
   },
   {
    "duration": 155,
    "start_time": "2022-11-18T14:41:04.565Z"
   },
   {
    "duration": 329,
    "start_time": "2022-11-18T14:41:04.723Z"
   },
   {
    "duration": 269,
    "start_time": "2022-11-18T14:41:05.053Z"
   },
   {
    "duration": 405,
    "start_time": "2022-11-18T14:41:05.324Z"
   },
   {
    "duration": 306,
    "start_time": "2022-11-18T14:41:54.199Z"
   },
   {
    "duration": 379,
    "start_time": "2022-11-18T14:42:22.539Z"
   },
   {
    "duration": 721,
    "start_time": "2022-11-18T14:43:21.639Z"
   },
   {
    "duration": 428,
    "start_time": "2022-11-18T14:43:40.269Z"
   },
   {
    "duration": 58674,
    "start_time": "2022-11-18T14:49:11.675Z"
   },
   {
    "duration": 27058,
    "start_time": "2022-11-18T14:51:10.690Z"
   },
   {
    "duration": 1353,
    "start_time": "2022-11-18T14:56:40.607Z"
   },
   {
    "duration": 44,
    "start_time": "2022-11-18T14:56:41.962Z"
   },
   {
    "duration": 17,
    "start_time": "2022-11-18T14:56:42.007Z"
   },
   {
    "duration": 15,
    "start_time": "2022-11-18T14:56:42.026Z"
   },
   {
    "duration": 9,
    "start_time": "2022-11-18T14:56:42.042Z"
   },
   {
    "duration": 16,
    "start_time": "2022-11-18T14:56:42.053Z"
   },
   {
    "duration": 22,
    "start_time": "2022-11-18T14:56:42.071Z"
   },
   {
    "duration": 10,
    "start_time": "2022-11-18T14:56:42.095Z"
   },
   {
    "duration": 7,
    "start_time": "2022-11-18T14:56:42.106Z"
   },
   {
    "duration": 6,
    "start_time": "2022-11-18T14:56:42.116Z"
   },
   {
    "duration": 5,
    "start_time": "2022-11-18T14:56:42.124Z"
   },
   {
    "duration": 13,
    "start_time": "2022-11-18T14:56:42.131Z"
   },
   {
    "duration": 5,
    "start_time": "2022-11-18T14:56:42.146Z"
   },
   {
    "duration": 41,
    "start_time": "2022-11-18T14:56:42.153Z"
   },
   {
    "duration": 28,
    "start_time": "2022-11-18T14:56:42.195Z"
   },
   {
    "duration": 201,
    "start_time": "2022-11-18T14:56:42.225Z"
   },
   {
    "duration": 661,
    "start_time": "2022-11-18T14:56:42.428Z"
   },
   {
    "duration": 40192,
    "start_time": "2022-11-18T14:56:43.090Z"
   },
   {
    "duration": 232,
    "start_time": "2022-11-18T14:57:23.283Z"
   },
   {
    "duration": 6,
    "start_time": "2022-11-18T14:57:23.516Z"
   },
   {
    "duration": 8,
    "start_time": "2022-11-18T14:57:23.523Z"
   },
   {
    "duration": 128,
    "start_time": "2022-11-18T14:57:23.532Z"
   },
   {
    "duration": 4,
    "start_time": "2022-11-18T14:57:23.661Z"
   },
   {
    "duration": 10,
    "start_time": "2022-11-18T14:57:23.666Z"
   },
   {
    "duration": 86,
    "start_time": "2022-11-18T14:57:23.677Z"
   },
   {
    "duration": 5,
    "start_time": "2022-11-18T14:57:23.765Z"
   },
   {
    "duration": 6,
    "start_time": "2022-11-18T14:57:23.771Z"
   },
   {
    "duration": 3,
    "start_time": "2022-11-18T14:57:23.780Z"
   },
   {
    "duration": 4,
    "start_time": "2022-11-18T14:57:23.785Z"
   },
   {
    "duration": 156,
    "start_time": "2022-11-18T14:57:23.791Z"
   },
   {
    "duration": 264,
    "start_time": "2022-11-18T14:57:23.949Z"
   },
   {
    "duration": 44032,
    "start_time": "2022-11-18T14:57:24.214Z"
   },
   {
    "duration": 10,
    "start_time": "2022-11-18T14:58:08.247Z"
   },
   {
    "duration": 21,
    "start_time": "2022-11-18T14:58:08.258Z"
   },
   {
    "duration": 150,
    "start_time": "2022-11-18T14:58:08.280Z"
   },
   {
    "duration": 281,
    "start_time": "2022-11-18T14:58:08.432Z"
   },
   {
    "duration": 58209,
    "start_time": "2022-11-18T14:58:08.714Z"
   },
   {
    "duration": 11,
    "start_time": "2022-11-18T14:59:06.925Z"
   },
   {
    "duration": 8,
    "start_time": "2022-11-18T14:59:06.938Z"
   },
   {
    "duration": 150,
    "start_time": "2022-11-18T14:59:06.948Z"
   },
   {
    "duration": 321,
    "start_time": "2022-11-18T14:59:07.100Z"
   },
   {
    "duration": 27746,
    "start_time": "2022-11-18T14:59:07.423Z"
   },
   {
    "duration": 407,
    "start_time": "2022-11-18T14:59:35.170Z"
   }
  ],
  "kernelspec": {
   "display_name": "Python 3 (ipykernel)",
   "language": "python",
   "name": "python3"
  },
  "language_info": {
   "codemirror_mode": {
    "name": "ipython",
    "version": 3
   },
   "file_extension": ".py",
   "mimetype": "text/x-python",
   "name": "python",
   "nbconvert_exporter": "python",
   "pygments_lexer": "ipython3",
   "version": "3.9.12"
  },
  "toc": {
   "base_numbering": 1,
   "nav_menu": {},
   "number_sections": true,
   "sideBar": true,
   "skip_h1_title": true,
   "title_cell": "Содержание",
   "title_sidebar": "Contents",
   "toc_cell": true,
   "toc_position": {},
   "toc_section_display": true,
   "toc_window_display": false
  }
 },
 "nbformat": 4,
 "nbformat_minor": 2
}
